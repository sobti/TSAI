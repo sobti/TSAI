{
  "nbformat": 4,
  "nbformat_minor": 0,
  "metadata": {
    "colab": {
      "name": "YOLO.ipynb",
      "provenance": [],
      "collapsed_sections": [],
      "authorship_tag": "ABX9TyPPIDXvCTme9ilr0Rp1qGBe",
      "include_colab_link": true
    },
    "kernelspec": {
      "name": "python3",
      "display_name": "Python 3"
    },
    "accelerator": "GPU"
  },
  "cells": [
    {
      "cell_type": "markdown",
      "metadata": {
        "id": "view-in-github",
        "colab_type": "text"
      },
      "source": [
        "<a href=\"https://colab.research.google.com/github/sobti/TSAI/blob/master/S12/YOLO.ipynb\" target=\"_parent\"><img src=\"https://colab.research.google.com/assets/colab-badge.svg\" alt=\"Open In Colab\"/></a>"
      ]
    },
    {
      "cell_type": "markdown",
      "metadata": {
        "id": "n6_D66FGX5v5",
        "colab_type": "text"
      },
      "source": [
        ""
      ]
    },
    {
      "cell_type": "code",
      "metadata": {
        "id": "7JPHlUeRdvgX",
        "colab_type": "code",
        "outputId": "2ee735cf-dad9-4797-f221-105d187bd88a",
        "colab": {
          "base_uri": "https://localhost:8080/",
          "height": 50
        }
      },
      "source": [
        "#Mounting Google Colab and importing generic Packages\n",
        "import torchvision\n",
        "from torchvision import datasets, transforms\n",
        "from torch.utils.tensorboard import SummaryWriter\n",
        "from albumentations.pytorch import ToTensor\n",
        "from torch.utils.data import DataLoader, Dataset\n",
        "import matplotlib.pyplot as plt\n",
        "from google.colab import drive\n",
        "import os\n",
        "import sys\n",
        "from tqdm import tqdm\n",
        "import torch.optim as optim\n",
        "import torch.nn as nn\n",
        "import torch.nn.functional as F\n",
        "from torch.optim.lr_scheduler import StepLR\n",
        "\n",
        "import torchvision\n",
        "import torch\n",
        "import albumentations\n",
        "from albumentations import (\n",
        "    HorizontalFlip, IAAPerspective, ShiftScaleRotate, CLAHE, RandomRotate90,\n",
        "    Transpose, ShiftScaleRotate, Blur, OpticalDistortion, GridDistortion, HueSaturationValue,\n",
        "    IAAAdditiveGaussianNoise, GaussNoise, MotionBlur, MedianBlur, IAAPiecewiseAffine,\n",
        "    IAASharpen, IAAEmboss, RandomBrightnessContrast, Flip, OneOf, Compose,Cutout)\n",
        "print(os.getcwd())\n",
        "drive.mount('/content/gdrive/')\n",
        "sys.path.append('/content/gdrive/My Drive/Colab Notebooks\\resnet')\n",
        "os.chdir('/content/gdrive/My Drive/Colab Notebooks/resnet')\n"
      ],
      "execution_count": 5,
      "outputs": [
        {
          "output_type": "stream",
          "text": [
            "/content/gdrive/My Drive/Colab Notebooks/resnet\n",
            "Drive already mounted at /content/gdrive/; to attempt to forcibly remount, call drive.mount(\"/content/gdrive/\", force_remount=True).\n"
          ],
          "name": "stdout"
        }
      ]
    },
    {
      "cell_type": "code",
      "metadata": {
        "id": "ujhqDPfxoh2p",
        "colab_type": "code",
        "colab": {}
      },
      "source": [
        "#importing self-created packages:\n",
        "import test_train1 as t                                                         #import train - test module .This is class to train and evaluate the model\n",
        "import load as ld                                                               #dataloader\n",
        "import mod_summ as m                                                            #Getting model summary package\n",
        "import Imagenet_Basic_Block as bb                                                        #Getting Classes for Resnet and Basic Block\n",
        "import albumm as al                                                            #Getting albumentation module\n",
        "import override_album as oa                                                     # overriding the albumentation class\n",
        "import GradCm as gd                                                             #Grad Cam Module\n",
        "import plot_cam   as pt                                                         #Plotting Image with Gradcam\n",
        "import lr_update  as lr                                                         #exponential LR update\n"
      ],
      "execution_count": 0,
      "outputs": []
    },
    {
      "cell_type": "code",
      "metadata": {
        "id": "EagkfzmSrVmD",
        "colab_type": "code",
        "colab": {}
      },
      "source": [
        "# RESNET BLOCK\n",
        " def ResNet18():\n",
        "  return bb.ResNet(bb.BasicBlock, [2,2,2,2])\n",
        "def test():  \n",
        "  net = ResNet18()\n",
        "  y = net(torch.randn(1,3,64,64))\n",
        "  return net"
      ],
      "execution_count": 0,
      "outputs": []
    },
    {
      "cell_type": "code",
      "metadata": {
        "id": "fwNxvlHNgDS7",
        "colab_type": "code",
        "outputId": "5c4e9cc3-f34c-4f6d-816d-a0a4388933e3",
        "colab": {
          "base_uri": "https://localhost:8080/",
          "height": 1000
        }
      },
      "source": [
        "net=test().to('cuda')   \n",
        "#net=test().to('cpu')\n",
        "#net=test()\n",
        "#net=test()#Net - Model to CUDA \n",
        "m.summ_print(net,(3,64,64))# Model summary."
      ],
      "execution_count": 8,
      "outputs": [
        {
          "output_type": "stream",
          "text": [
            "----------------------------------------------------------------\n",
            "        Layer (type)               Output Shape         Param #\n",
            "================================================================\n",
            "            Conv2d-1           [-1, 64, 64, 64]           1,728\n",
            "       BatchNorm2d-2           [-1, 64, 64, 64]             128\n",
            "            Conv2d-3           [-1, 64, 64, 64]          36,864\n",
            "       BatchNorm2d-4           [-1, 64, 64, 64]             128\n",
            "            Conv2d-5           [-1, 64, 64, 64]          36,864\n",
            "       BatchNorm2d-6           [-1, 64, 64, 64]             128\n",
            "        BasicBlock-7           [-1, 64, 64, 64]               0\n",
            "            Conv2d-8           [-1, 64, 64, 64]          36,864\n",
            "       BatchNorm2d-9           [-1, 64, 64, 64]             128\n",
            "           Conv2d-10           [-1, 64, 64, 64]          36,864\n",
            "      BatchNorm2d-11           [-1, 64, 64, 64]             128\n",
            "       BasicBlock-12           [-1, 64, 64, 64]               0\n",
            "           Conv2d-13          [-1, 128, 32, 32]          73,728\n",
            "      BatchNorm2d-14          [-1, 128, 32, 32]             256\n",
            "           Conv2d-15          [-1, 128, 32, 32]         147,456\n",
            "      BatchNorm2d-16          [-1, 128, 32, 32]             256\n",
            "           Conv2d-17          [-1, 128, 32, 32]           8,192\n",
            "      BatchNorm2d-18          [-1, 128, 32, 32]             256\n",
            "       BasicBlock-19          [-1, 128, 32, 32]               0\n",
            "           Conv2d-20          [-1, 128, 32, 32]         147,456\n",
            "      BatchNorm2d-21          [-1, 128, 32, 32]             256\n",
            "           Conv2d-22          [-1, 128, 32, 32]         147,456\n",
            "      BatchNorm2d-23          [-1, 128, 32, 32]             256\n",
            "       BasicBlock-24          [-1, 128, 32, 32]               0\n",
            "           Conv2d-25          [-1, 256, 16, 16]         294,912\n",
            "      BatchNorm2d-26          [-1, 256, 16, 16]             512\n",
            "           Conv2d-27          [-1, 256, 16, 16]         589,824\n",
            "      BatchNorm2d-28          [-1, 256, 16, 16]             512\n",
            "           Conv2d-29          [-1, 256, 16, 16]          32,768\n",
            "      BatchNorm2d-30          [-1, 256, 16, 16]             512\n",
            "       BasicBlock-31          [-1, 256, 16, 16]               0\n",
            "           Conv2d-32          [-1, 256, 16, 16]         589,824\n",
            "      BatchNorm2d-33          [-1, 256, 16, 16]             512\n",
            "           Conv2d-34          [-1, 256, 16, 16]         589,824\n",
            "      BatchNorm2d-35          [-1, 256, 16, 16]             512\n",
            "       BasicBlock-36          [-1, 256, 16, 16]               0\n",
            "           Conv2d-37            [-1, 512, 8, 8]       1,179,648\n",
            "      BatchNorm2d-38            [-1, 512, 8, 8]           1,024\n",
            "           Conv2d-39            [-1, 512, 8, 8]       2,359,296\n",
            "      BatchNorm2d-40            [-1, 512, 8, 8]           1,024\n",
            "           Conv2d-41            [-1, 512, 8, 8]         131,072\n",
            "      BatchNorm2d-42            [-1, 512, 8, 8]           1,024\n",
            "       BasicBlock-43            [-1, 512, 8, 8]               0\n",
            "           Conv2d-44            [-1, 512, 8, 8]       2,359,296\n",
            "      BatchNorm2d-45            [-1, 512, 8, 8]           1,024\n",
            "           Conv2d-46            [-1, 512, 8, 8]       2,359,296\n",
            "      BatchNorm2d-47            [-1, 512, 8, 8]           1,024\n",
            "       BasicBlock-48            [-1, 512, 8, 8]               0\n",
            "           Linear-49                  [-1, 200]         102,600\n",
            "================================================================\n",
            "Total params: 11,271,432\n",
            "Trainable params: 11,271,432\n",
            "Non-trainable params: 0\n",
            "----------------------------------------------------------------\n",
            "Input size (MB): 0.05\n",
            "Forward/backward pass size (MB): 45.00\n",
            "Params size (MB): 43.00\n",
            "Estimated Total Size (MB): 88.05\n",
            "----------------------------------------------------------------\n"
          ],
          "name": "stdout"
        }
      ]
    },
    {
      "cell_type": "code",
      "metadata": {
        "id": "QfaTDVfi7BtW",
        "colab_type": "code",
        "outputId": "c341c43e-d4f4-432e-e303-e574dea34bb0",
        "colab": {
          "base_uri": "https://localhost:8080/",
          "height": 50
        }
      },
      "source": [
        "#!unzip tiny-imagenet-200.zip -d '/content/gdrive/My Drive/Colab Notebooks/resnet/imagenet'\n",
        "! git clone https://github.com/seshuad/IMagenet\n",
        "! ls 'IMagenet/tiny-imagenet-200/'"
      ],
      "execution_count": 0,
      "outputs": [
        {
          "output_type": "stream",
          "text": [
            "fatal: destination path 'IMagenet' already exists and is not an empty directory.\n",
            "test  train  val  wnids.txt  words.txt\n"
          ],
          "name": "stdout"
        }
      ]
    },
    {
      "cell_type": "code",
      "metadata": {
        "id": "dN1v6Vwv4bev",
        "colab_type": "code",
        "colab": {}
      },
      "source": [
        "val_dir = './IMagenet/tiny-imagenet-200/train'\n",
        "val_dataset = datasets.ImageFolder(root=val_dir)"
      ],
      "execution_count": 0,
      "outputs": []
    },
    {
      "cell_type": "code",
      "metadata": {
        "id": "T_H3GRw9G7ti",
        "colab_type": "code",
        "outputId": "0d4f5c79-7866-43ff-947c-94807f857cb1",
        "colab": {
          "base_uri": "https://localhost:8080/",
          "height": 34
        }
      },
      "source": [
        "print(len(val_dataset))\n",
        "trainset, testset = torch.utils.data.random_split(val_dataset, [70000, 30000])\n",
        "trainset1, testset1 = torch.utils.data.random_split(val_dataset, [70000, 30000])"
      ],
      "execution_count": 7,
      "outputs": [
        {
          "output_type": "stream",
          "text": [
            "100000\n"
          ],
          "name": "stdout"
        }
      ]
    },
    {
      "cell_type": "code",
      "metadata": {
        "id": "tLrJ2J2m-qYL",
        "colab_type": "code",
        "colab": {}
      },
      "source": [
        "train_transforms,test_transforms=al.album_transform(albumentations)             #Albumentation class "
      ],
      "execution_count": 0,
      "outputs": []
    },
    {
      "cell_type": "code",
      "metadata": {
        "id": "3KaaOMWZATa-",
        "colab_type": "code",
        "colab": {}
      },
      "source": [
        "#trainset = torchvision.datasets.CIFAR10(root='./data', train=True,\n",
        "#                                        download=True, transform=None)        \n",
        "#                                      \n",
        "#testset = torchvision.datasets.CIFAR10(root='./data', train=False,\n",
        "#                                       download=True, transform=None)"
      ],
      "execution_count": 0,
      "outputs": []
    },
    {
      "cell_type": "code",
      "metadata": {
        "id": "oOVIo-8V-4v2",
        "colab_type": "code",
        "colab": {}
      },
      "source": [
        "# Initialize the dataset, pass the augmentation pipeline as an argument to init function\n",
        "train_ds = oa.PyTorchImageDataset(image=trainset, augmentations=train_transforms)\n",
        "test_ds =  oa.PyTorchImageDataset(image=testset, augmentations=test_transforms)           "
      ],
      "execution_count": 0,
      "outputs": []
    },
    {
      "cell_type": "code",
      "metadata": {
        "id": "n3xgIyJXvgJ9",
        "colab_type": "code",
        "colab": {}
      },
      "source": [
        "batch_size=512\n",
        "trainloader,testloader=ld.load_test_train(batch_size,train_ds,test_ds,torchvision,torch)"
      ],
      "execution_count": 0,
      "outputs": []
    },
    {
      "cell_type": "code",
      "metadata": {
        "id": "TMbf6Kkj8u1P",
        "colab_type": "code",
        "colab": {}
      },
      "source": [
        ""
      ],
      "execution_count": 0,
      "outputs": []
    },
    {
      "cell_type": "code",
      "metadata": {
        "id": "3H_UXg91r4rt",
        "colab_type": "code",
        "colab": {}
      },
      "source": [
        "def range_test(end_lr=10,num_iter=100,step_mode=\"exp\", smooth_f=0.05, diverge_th=5):\n",
        "        if step_mode.lower() == \"exp\":\n",
        "            lr_schedule = lr.ExponentialLR(optimizer, end_lr, num_iter)\n",
        "        elif step_mode.lower() == \"linear\":         \n",
        "            lr_schedule = lr.LinearLR(optimizer, end_lr, num_iter)\n",
        "        else:\n",
        "            raise ValueError(\"expected one of (exp, linear), got {}\".format(step_mode))\n",
        "\n",
        "        if smooth_f < 0 or smooth_f >= 1:\n",
        "            raise ValueError(\"smooth_f is outside the range [0, 1[\")\n",
        "        return lr_schedule"
      ],
      "execution_count": 0,
      "outputs": []
    },
    {
      "cell_type": "code",
      "metadata": {
        "id": "oEtdn4B3vVOa",
        "colab_type": "code",
        "outputId": "aa10da17-64dd-47f0-b49c-1857a00a14eb",
        "colab": {
          "base_uri": "https://localhost:8080/",
          "height": 34
        }
      },
      "source": [
        "train_losses = []\n",
        "test_losses = []\n",
        "train_acc = []\n",
        "test_acc = []\n",
        "optimizer = optim.SGD(net.parameters(),lr=0.0000000001)                           # start LR is 0.0001\n",
        "criterion=nn.CrossEntropyLoss()\n",
        "lr_schedule=range_test(end_lr=10,num_iter=100,step_mode=\"exp\",smooth_f=0.04,diverge_th=5)\n",
        "best_loss = None\n",
        "diverge_th=50\n",
        "num_iter=100\n",
        "smooth_f=0.05\n",
        "#scheduler=StepLR(optimizer,step_size=5,gamma=0.1)\n",
        "#optimizer=optim.Adam(model.parameters(), lr=0.045, betas=(0.9, 0.999), eps=1e-08, amsgrad=False)\n",
        "device='cuda'\n",
        "#device='cpu'\n",
        "best_lr,best_loss,history=t.train(net, device, trainloader,lr_schedule,optimizer,train_losses,train_acc,tqdm,criterion,smooth_f,diverge_th)"
      ],
      "execution_count": 0,
      "outputs": [
        {
          "output_type": "stream",
          "text": [
            " 81%|████████  | 111/137 [04:21<00:59,  2.29s/it]"
          ],
          "name": "stderr"
        },
        {
          "output_type": "stream",
          "text": [
            "Stopping early, the loss has diverged\n"
          ],
          "name": "stdout"
        }
      ]
    },
    {
      "cell_type": "code",
      "metadata": {
        "id": "LqnfPenSDMq7",
        "colab_type": "code",
        "outputId": "7f5e1d4b-1bd4-4698-de9c-68ed987ce207",
        "colab": {
          "base_uri": "https://localhost:8080/",
          "height": 300
        }
      },
      "source": [
        "import plot_lr as pltr\n",
        "ax=pltr.plot(history,plt) \n",
        "ax # PLot the LR graph       "
      ],
      "execution_count": 0,
      "outputs": [
        {
          "output_type": "display_data",
          "data": {
            "image/png": "[encoded data removed]",
            "text/plain": [
              "<Figure size 432x288 with 1 Axes>"
            ]
          },
          "metadata": {
            "tags": [],
            "needs_background": "light"
          }
        },
        {
          "output_type": "execute_result",
          "data": {
            "text/plain": [
              "<matplotlib.axes._subplots.AxesSubplot at 0x7f7952697860>"
            ]
          },
          "metadata": {
            "tags": []
          },
          "execution_count": 13
        }
      ]
    },
    {
      "cell_type": "code",
      "metadata": {
        "id": "d_ft8Xw0cA7t",
        "colab_type": "code",
        "outputId": "0e3b5680-ec19-48a4-b2bf-98329448cdc4",
        "colab": {
          "base_uri": "https://localhost:8080/",
          "height": 34
        }
      },
      "source": [
        "print(\"The best learning rate obtained is \",best_lr)"
      ],
      "execution_count": 0,
      "outputs": [
        {
          "output_type": "stream",
          "text": [
            "The best learning rate obtained is  0.4786300923226384\n"
          ],
          "name": "stdout"
        }
      ]
    },
    {
      "cell_type": "code",
      "metadata": {
        "id": "kzBNnjIleOjs",
        "colab_type": "code",
        "colab": {}
      },
      "source": [
        "net1=test().to('cuda')   "
      ],
      "execution_count": 0,
      "outputs": []
    },
    {
      "cell_type": "code",
      "metadata": {
        "id": "l-KKE22lb9-K",
        "colab_type": "code",
        "outputId": "f19674a8-c1c4-4251-e2e5-dc0f3fc578cd",
        "colab": {
          "base_uri": "https://localhost:8080/",
          "height": 50
        }
      },
      "source": [
        "import train_test_model_resnet18_missclass as t1   #import train - test module .This is class to train and evaluate the model\n",
        "import numpy as np                                \n",
        "train_losses = []\n",
        "best_lr=0.08\n",
        "test_acc = []\n",
        "test_losses = []\n",
        "train_acc = []\n",
        "train_loss_graph=[]\n",
        "train_acc_graph=[]\n",
        "test_acc_graph=[]\n",
        "test_loss_graph=[]\n",
        "optimizer = optim.SGD(net.parameters(),lr=best_lr,weight_decay=0.001,momentum=0.90)\n",
        "criterion=nn.CrossEntropyLoss()\n",
        "scheduler=torch.optim.lr_scheduler.ReduceLROnPlateau(optimizer, mode='min', factor=np.sqrt(0.1),patience=5,min_lr=0.000001)\n",
        "#scheduler=StepLR(optimizer,step_size=5,gamma=0.1)\n",
        "#optimizer=optim.Adam(model.parameters(), lr=0.045, betas=(0.9, 0.999), eps=1e-08, amsgrad=False)\n",
        "EPOCHS = 50\n",
        "device='cuda'\n",
        "#device='cpu'\n",
        "for epoch in range(EPOCHS):\n",
        "    print(\"EPOCH:\", epoch)\n",
        "    train_loss,train_acc1=t1.train(net, device, trainloader, optimizer, epoch,train_losses,train_acc,tqdm,criterion)\n",
        "    train_loss_graph.append(train_loss)\n",
        "    train_acc_graph.append(train_acc1)\n",
        "    test_loss,test_acc1=t1.test(net, device, testloader,test_losses,test_acc,tqdm,criterion,torch)\n",
        "    test_loss_graph.append(test_loss)\n",
        "    test_acc_graph.append(test_acc1)\n",
        "    scheduler.step(test_loss)\n",
        "    "
      ],
      "execution_count": 0,
      "outputs": [
        {
          "output_type": "stream",
          "text": [
            "\r  0%|          | 0/137 [00:00<?, ?it/s]"
          ],
          "name": "stderr"
        },
        {
          "output_type": "stream",
          "text": [
            "EPOCH: 0\n"
          ],
          "name": "stdout"
        },
        {
          "output_type": "stream",
          "text": [
            "Loss=5.3178181648254395 Batch_id=9 Accuracy=1.11:   7%|▋         | 10/137 [19:40<3:31:31, 99.93s/it]"
          ],
          "name": "stderr"
        }
      ]
    },
    {
      "cell_type": "code",
      "metadata": {
        "id": "QK6-ScQXB8Ab",
        "colab_type": "code",
        "outputId": "1df0e000-1b16-4cd0-c3f7-6f5b03b75ce8",
        "colab": {
          "base_uri": "https://localhost:8080/",
          "height": 312
        }
      },
      "source": [
        "plt.plot(test_acc_graph)                \n",
        "plt.plot(train_acc_graph)\n",
        "plt.plot(test_loss_graph)   \n",
        "plt.plot(train_loss_graph)       \n",
        "plt.title(\"Model Graph\")          \n",
        "plt.ylabel('Accuracy')\n",
        "plt.xlabel('Epoch')               \n",
        "plt.legend(['test','train','test_loss','train_loss'] ,loc='upper left')\n",
        "plt.show()  \n",
        "plt.savefig('Upload_graph.png')                                          "
      ],
      "execution_count": 0,
      "outputs": [
        {
          "output_type": "display_data",
          "data": {
            "image/png": "[encoded data removed]",
            "text/plain": [
              "<Figure size 432x288 with 1 Axes>"
            ]
          },
          "metadata": {
            "tags": [],
            "needs_background": "light"
          }
        },
        {
          "output_type": "display_data",
          "data": {
            "text/plain": [
              "<Figure size 432x288 with 0 Axes>"
            ]
          },
          "metadata": {
            "tags": []
          }
        }
      ]
    },
    {
      "cell_type": "code",
      "metadata": {
        "id": "zw9cR-0NdJeM",
        "colab_type": "code",
        "colab": {}
      },
      "source": [
        "cam2=[]          \n",
        "data2=[]\n",
        "k=[]\n",
        "dat=[]\n",
        "number=0\n",
        "p=[]\n",
        "l=[]\n",
        "data2=[]\n",
        "for im in range(25):\n",
        "  \n",
        "  dat1,label = next(iter(testloader))\n",
        "  dat1=dat1.to('cuda')\n",
        "  output=net(dat1)\n",
        "  pred = output.argmax(dim=1, keepdim=True)\n",
        "  \n",
        "  for i in range(label.size()[0]):\n",
        "   if pred[i].item() != label[i].item():\n",
        "    p.append(pred[i].item()) \n",
        "    l.append(label[i].item()) \n",
        "    label1=label[i]\n",
        "    data1=dat1[i]\n",
        "    data2.append(dat1[i].to('cpu'))\n",
        "    label1=label1.unsqueeze(0) \n",
        "    Gd1=gd.GradCm()\n",
        "    cam1=Gd1.img(data1,label1,net)\n",
        "    cam2.append(cam1) \n",
        "    number = len(cam2)\n",
        "    if number >= 25:\n",
        "        print(number)\n",
        "        break\n",
        "  else:\n",
        "   continue\n",
        "  break "
      ],
      "execution_count": 0,
      "outputs": []
    },
    {
      "cell_type": "code",
      "metadata": {
        "id": "48O3kCbid_NK",
        "colab_type": "code",
        "colab": {}
      },
      "source": [
        "plott=pt.Plot()\n",
        "#l=l.to('cpu')\n",
        "#data2=data2.to('cpu')\n",
        "plott.fig(data2,cam2,l,p)\n"
      ],
      "execution_count": 0,
      "outputs": []
    }
  ]
}
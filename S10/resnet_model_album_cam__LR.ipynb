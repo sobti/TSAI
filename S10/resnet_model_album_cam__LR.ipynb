{
  "nbformat": 4,
  "nbformat_minor": 0,
  "metadata": {
    "colab": {
      "name": "resnet_model_album_cam._LR.ipynb",
      "provenance": [],
      "collapsed_sections": [],
      "include_colab_link": true
    },
    "kernelspec": {
      "name": "python3",
      "display_name": "Python 3"
    },
    "accelerator": "GPU"
  },
  "cells": [
    {
      "cell_type": "markdown",
      "metadata": {
        "id": "view-in-github",
        "colab_type": "text"
      },
      "source": [
        "<a href=\"https://colab.research.google.com/github/sobti/TSAI/blob/master/S10/resnet_model_album_cam__LR.ipynb\" target=\"_parent\"><img src=\"https://colab.research.google.com/assets/colab-badge.svg\" alt=\"Open In Colab\"/></a>"
      ]
    },
    {
      "cell_type": "markdown",
      "metadata": {
        "id": "n6_D66FGX5v5",
        "colab_type": "text"
      },
      "source": [
        ""
      ]
    },
    {
      "cell_type": "code",
      "metadata": {
        "id": "7JPHlUeRdvgX",
        "colab_type": "code",
        "outputId": "28461d51-19cb-4b6a-d42f-f28496800633",
        "colab": {
          "base_uri": "https://localhost:8080/",
          "height": 120
        }
      },
      "source": [
        "#Mounting Google Colab and importing generic Packages\n",
        "import torchvision\n",
        "from torchvision import datasets, transforms\n",
        "from torch.utils.tensorboard import SummaryWriter\n",
        "from albumentations.pytorch import ToTensor\n",
        "from torch.utils.data import DataLoader, Dataset\n",
        "import matplotlib.pyplot as plt\n",
        "from google.colab import drive\n",
        "import os\n",
        "import sys\n",
        "from tqdm import tqdm\n",
        "import torch.optim as optim\n",
        "import torch.nn as nn\n",
        "import torch.nn.functional as F\n",
        "from torch.optim.lr_scheduler import StepLR\n",
        "\n",
        "import torchvision\n",
        "import torch\n",
        "import albumentations\n",
        "from albumentations import (\n",
        "    HorizontalFlip, IAAPerspective, ShiftScaleRotate, CLAHE, RandomRotate90,\n",
        "    Transpose, ShiftScaleRotate, Blur, OpticalDistortion, GridDistortion, HueSaturationValue,\n",
        "    IAAAdditiveGaussianNoise, GaussNoise, MotionBlur, MedianBlur, IAAPiecewiseAffine,\n",
        "    IAASharpen, IAAEmboss, RandomBrightnessContrast, Flip, OneOf, Compose,Cutout)\n",
        "\n",
        "drive.mount('/content/gdrive/')\n",
        "sys.path.append('/content/gdrive/My Drive/Colab Notebooks\\resnet')\n",
        "os.chdir('/content/gdrive/My Drive/Colab Notebooks/resnet')\n"
      ],
      "execution_count": 0,
      "outputs": [
        {
          "output_type": "stream",
          "text": [
            "Go to this URL in a browser: https://accounts.google.com/o/oauth2/auth?client_id=947318989803-6bn6qk8qdgf4n4g3pfee6491hc0brc4i.apps.googleusercontent.com&redirect_uri=urn%3aietf%3awg%3aoauth%3a2.0%3aoob&response_type=code&scope=email%20https%3a%2f%2fwww.googleapis.com%2fauth%2fdocs.test%20https%3a%2f%2fwww.googleapis.com%2fauth%2fdrive%20https%3a%2f%2fwww.googleapis.com%2fauth%2fdrive.photos.readonly%20https%3a%2f%2fwww.googleapis.com%2fauth%2fpeopleapi.readonly\n",
            "\n",
            "Enter your authorization code:\n",
            "··········\n",
            "Mounted at /content/gdrive/\n"
          ],
          "name": "stdout"
        }
      ]
    },
    {
      "cell_type": "code",
      "metadata": {
        "id": "ujhqDPfxoh2p",
        "colab_type": "code",
        "colab": {}
      },
      "source": [
        "#importing self-created packages:\n",
        "import test_train1 as t                                                         #import train - test module .This is class to train and evaluate the model\n",
        "import load as ld                                                               #dataloader\n",
        "import mod_summ as m                                                            #Getting model summary package\n",
        "import Basic_Block as bb                                                        #Getting Classes for Resnet and Basic Block\n",
        "import album_cutout as al                                                       #Getting albumentation module\n",
        "import override_album as oa                                                     # overriding the albumentation class\n",
        "import GradCm as gd                                                             #Grad Cam Module\n",
        "import plot_cam   as pt                                                         #Plotting Image with Gradcam\n",
        "import lr_update  as lr                                                         #exponential LR update\n"
      ],
      "execution_count": 0,
      "outputs": []
    },
    {
      "cell_type": "code",
      "metadata": {
        "id": "EagkfzmSrVmD",
        "colab_type": "code",
        "colab": {}
      },
      "source": [
        "# RESNET BLOCK\n",
        " def ResNet18():\n",
        "  return bb.ResNet(bb.BasicBlock, [2,2,2,2])\n",
        "def test():  \n",
        "  net = ResNet18()\n",
        "  y = net(torch.randn(1,3,32,32))\n",
        "  return net"
      ],
      "execution_count": 0,
      "outputs": []
    },
    {
      "cell_type": "code",
      "metadata": {
        "id": "fwNxvlHNgDS7",
        "colab_type": "code",
        "outputId": "40b70fcd-05ae-479a-da5d-e2e404104a2f",
        "colab": {
          "base_uri": "https://localhost:8080/",
          "height": 1000
        }
      },
      "source": [
        "net=test().to('cuda') \n",
        "#net=test().to('cpu')\n",
        "#net=test()\n",
        "#net=test()#Net - Model to CUDA \n",
        "m.summ_print(net,(3,32,32))# Model summary."
      ],
      "execution_count": 0,
      "outputs": [
        {
          "output_type": "stream",
          "text": [
            "----------------------------------------------------------------\n",
            "        Layer (type)               Output Shape         Param #\n",
            "================================================================\n",
            "            Conv2d-1           [-1, 64, 32, 32]           1,728\n",
            "       BatchNorm2d-2           [-1, 64, 32, 32]             128\n",
            "            Conv2d-3           [-1, 64, 32, 32]          36,864\n",
            "       BatchNorm2d-4           [-1, 64, 32, 32]             128\n",
            "            Conv2d-5           [-1, 64, 32, 32]          36,864\n",
            "       BatchNorm2d-6           [-1, 64, 32, 32]             128\n",
            "        BasicBlock-7           [-1, 64, 32, 32]               0\n",
            "            Conv2d-8           [-1, 64, 32, 32]          36,864\n",
            "       BatchNorm2d-9           [-1, 64, 32, 32]             128\n",
            "           Conv2d-10           [-1, 64, 32, 32]          36,864\n",
            "      BatchNorm2d-11           [-1, 64, 32, 32]             128\n",
            "       BasicBlock-12           [-1, 64, 32, 32]               0\n",
            "           Conv2d-13          [-1, 128, 16, 16]          73,728\n",
            "      BatchNorm2d-14          [-1, 128, 16, 16]             256\n",
            "           Conv2d-15          [-1, 128, 16, 16]         147,456\n",
            "      BatchNorm2d-16          [-1, 128, 16, 16]             256\n",
            "           Conv2d-17          [-1, 128, 16, 16]           8,192\n",
            "      BatchNorm2d-18          [-1, 128, 16, 16]             256\n",
            "       BasicBlock-19          [-1, 128, 16, 16]               0\n",
            "           Conv2d-20          [-1, 128, 16, 16]         147,456\n",
            "      BatchNorm2d-21          [-1, 128, 16, 16]             256\n",
            "           Conv2d-22          [-1, 128, 16, 16]         147,456\n",
            "      BatchNorm2d-23          [-1, 128, 16, 16]             256\n",
            "       BasicBlock-24          [-1, 128, 16, 16]               0\n",
            "           Conv2d-25            [-1, 256, 8, 8]         294,912\n",
            "      BatchNorm2d-26            [-1, 256, 8, 8]             512\n",
            "           Conv2d-27            [-1, 256, 8, 8]         589,824\n",
            "      BatchNorm2d-28            [-1, 256, 8, 8]             512\n",
            "           Conv2d-29            [-1, 256, 8, 8]          32,768\n",
            "      BatchNorm2d-30            [-1, 256, 8, 8]             512\n",
            "       BasicBlock-31            [-1, 256, 8, 8]               0\n",
            "           Conv2d-32            [-1, 256, 8, 8]         589,824\n",
            "      BatchNorm2d-33            [-1, 256, 8, 8]             512\n",
            "           Conv2d-34            [-1, 256, 8, 8]         589,824\n",
            "      BatchNorm2d-35            [-1, 256, 8, 8]             512\n",
            "       BasicBlock-36            [-1, 256, 8, 8]               0\n",
            "           Conv2d-37            [-1, 512, 4, 4]       1,179,648\n",
            "      BatchNorm2d-38            [-1, 512, 4, 4]           1,024\n",
            "           Conv2d-39            [-1, 512, 4, 4]       2,359,296\n",
            "      BatchNorm2d-40            [-1, 512, 4, 4]           1,024\n",
            "           Conv2d-41            [-1, 512, 4, 4]         131,072\n",
            "      BatchNorm2d-42            [-1, 512, 4, 4]           1,024\n",
            "       BasicBlock-43            [-1, 512, 4, 4]               0\n",
            "           Conv2d-44            [-1, 512, 4, 4]       2,359,296\n",
            "      BatchNorm2d-45            [-1, 512, 4, 4]           1,024\n",
            "           Conv2d-46            [-1, 512, 4, 4]       2,359,296\n",
            "      BatchNorm2d-47            [-1, 512, 4, 4]           1,024\n",
            "       BasicBlock-48            [-1, 512, 4, 4]               0\n",
            "           Linear-49                   [-1, 10]           5,130\n",
            "================================================================\n",
            "Total params: 11,173,962\n",
            "Trainable params: 11,173,962\n",
            "Non-trainable params: 0\n",
            "----------------------------------------------------------------\n",
            "Input size (MB): 0.01\n",
            "Forward/backward pass size (MB): 11.25\n",
            "Params size (MB): 42.63\n",
            "Estimated Total Size (MB): 53.89\n",
            "----------------------------------------------------------------\n"
          ],
          "name": "stdout"
        }
      ]
    },
    {
      "cell_type": "code",
      "metadata": {
        "id": "tLrJ2J2m-qYL",
        "colab_type": "code",
        "colab": {}
      },
      "source": [
        "train_transforms,test_transforms=al.album_transform(albumentations)             #Albumentation class "
      ],
      "execution_count": 0,
      "outputs": []
    },
    {
      "cell_type": "code",
      "metadata": {
        "id": "3KaaOMWZATa-",
        "colab_type": "code",
        "outputId": "b1037bae-19f2-4083-d0bf-d0f8790ed236",
        "colab": {
          "base_uri": "https://localhost:8080/",
          "height": 50
        }
      },
      "source": [
        "trainset = torchvision.datasets.CIFAR10(root='./data', train=True,\n",
        "                                        download=True, transform=None)\n",
        "\n",
        "testset = torchvision.datasets.CIFAR10(root='./data', train=False,\n",
        "                                       download=True, transform=None)"
      ],
      "execution_count": 0,
      "outputs": [
        {
          "output_type": "stream",
          "text": [
            "Files already downloaded and verified\n",
            "Files already downloaded and verified\n"
          ],
          "name": "stdout"
        }
      ]
    },
    {
      "cell_type": "code",
      "metadata": {
        "id": "oOVIo-8V-4v2",
        "colab_type": "code",
        "colab": {}
      },
      "source": [
        "# Initialize the dataset, pass the augmentation pipeline as an argument to init function\n",
        "train_ds = oa.PyTorchImageDataset(image=trainset, augmentations=train_transforms)\n",
        "test_ds =  oa.PyTorchImageDataset(image=testset, augmentations=test_transforms)"
      ],
      "execution_count": 0,
      "outputs": []
    },
    {
      "cell_type": "code",
      "metadata": {
        "id": "n3xgIyJXvgJ9",
        "colab_type": "code",
        "colab": {}
      },
      "source": [
        "batch_size=64\n",
        "trainloader,testloader=ld.load_test_train(batch_size,train_ds,test_ds,torchvision,torch)"
      ],
      "execution_count": 0,
      "outputs": []
    },
    {
      "cell_type": "code",
      "metadata": {
        "id": "3H_UXg91r4rt",
        "colab_type": "code",
        "colab": {}
      },
      "source": [
        "def range_test(end_lr=10,num_iter=100,step_mode=\"exp\", smooth_f=0.05, diverge_th=5):\n",
        "        if step_mode.lower() == \"exp\":\n",
        "            lr_schedule = lr.ExponentialLR(optimizer, end_lr, num_iter)\n",
        "        elif step_mode.lower() == \"linear\":\n",
        "            lr_schedule = lr.LinearLR(optimizer, end_lr, num_iter)\n",
        "        else:\n",
        "            raise ValueError(\"expected one of (exp, linear), got {}\".format(step_mode))\n",
        "\n",
        "        if smooth_f < 0 or smooth_f >= 1:\n",
        "            raise ValueError(\"smooth_f is outside the range [0, 1[\")\n",
        "        return lr_schedule"
      ],
      "execution_count": 0,
      "outputs": []
    },
    {
      "cell_type": "code",
      "metadata": {
        "id": "oEtdn4B3vVOa",
        "colab_type": "code",
        "outputId": "884d7d2b-6859-485a-9a06-b60594672d44",
        "colab": {
          "base_uri": "https://localhost:8080/",
          "height": 50
        }
      },
      "source": [
        "train_losses = []\n",
        "test_losses = []\n",
        "train_acc = []\n",
        "test_acc = []\n",
        "optimizer = optim.SGD(net.parameters(),lr=0.0000000001)                           # start LR is 0.0001\n",
        "criterion=nn.CrossEntropyLoss()\n",
        "lr_schedule=range_test(end_lr=10,num_iter=100,step_mode=\"exp\",smooth_f=0.04,diverge_th=5)\n",
        "best_loss = None\n",
        "diverge_th=50\n",
        "num_iter=100\n",
        "smooth_f=0.05\n",
        "#scheduler=StepLR(optimizer,step_size=5,gamma=0.1)\n",
        "#optimizer=optim.Adam(model.parameters(), lr=0.045, betas=(0.9, 0.999), eps=1e-08, amsgrad=False)\n",
        "device='cuda'\n",
        "#device='cpu'\n",
        "best_lr,best_loss,history=t.train(net, device, trainloader,lr_schedule,optimizer,train_losses,train_acc,tqdm,criterion,smooth_f,diverge_th)"
      ],
      "execution_count": 0,
      "outputs": [
        {
          "output_type": "stream",
          "text": [
            " 14%|█▎        | 106/782 [00:04<00:28, 24.02it/s]"
          ],
          "name": "stderr"
        },
        {
          "output_type": "stream",
          "text": [
            "Stopping early, the loss has diverged\n"
          ],
          "name": "stdout"
        },
        {
          "output_type": "stream",
          "text": [
            "\n"
          ],
          "name": "stderr"
        }
      ]
    },
    {
      "cell_type": "code",
      "metadata": {
        "id": "LqnfPenSDMq7",
        "colab_type": "code",
        "outputId": "8d866465-c0f7-4e2d-f206-14b739d40ca8",
        "colab": {
          "base_uri": "https://localhost:8080/",
          "height": 300
        }
      },
      "source": [
        "import plot_lr as pltr\n",
        "ax=pltr.plot(history,plt) \n",
        "ax # PLot the LR graph       "
      ],
      "execution_count": 0,
      "outputs": [
        {
          "output_type": "display_data",
          "data": {
            "image/png": "[encoded data removed]",
            "text/plain": [
              "<Figure size 432x288 with 1 Axes>"
            ]
          },
          "metadata": {
            "tags": []
          }
        },
        {
          "output_type": "execute_result",
          "data": {
            "text/plain": [
              "<matplotlib.axes._subplots.AxesSubplot at 0x7f0342bd3320>"
            ]
          },
          "metadata": {
            "tags": []
          },
          "execution_count": 11
        }
      ]
    },
    {
      "cell_type": "code",
      "metadata": {
        "id": "d_ft8Xw0cA7t",
        "colab_type": "code",
        "outputId": "97291a81-6b3d-44cb-bf82-2f265f2784c1",
        "colab": {
          "base_uri": "https://localhost:8080/",
          "height": 33
        }
      },
      "source": [
        "print(\"The best learning rate obtained is \",best_lr)"
      ],
      "execution_count": 0,
      "outputs": [
        {
          "output_type": "stream",
          "text": [
            "The best learning rate obtained is  0.0630957344480194\n"
          ],
          "name": "stdout"
        }
      ]
    },
    {
      "cell_type": "code",
      "metadata": {
        "id": "kzBNnjIleOjs",
        "colab_type": "code",
        "colab": {}
      },
      "source": [
        "def ResNet18():\n",
        "  return bb.ResNet(bb.BasicBlock, [2,2,2,2])\n",
        "def test():  \n",
        "  net = ResNet18()\n",
        "  y = net(torch.randn(1,3,32,32))\n",
        "  return net"
      ],
      "execution_count": 0,
      "outputs": []
    },
    {
      "cell_type": "code",
      "metadata": {
        "id": "l-KKE22lb9-K",
        "colab_type": "code",
        "outputId": "790e2973-d273-4c1b-d59c-0284524d90eb",
        "colab": {
          "base_uri": "https://localhost:8080/",
          "height": 1000
        }
      },
      "source": [
        "import train_test_model_resnet18_missclass as t1                                   #import train - test module .This is class to train and evaluate the model\n",
        "train_losses = []\n",
        "test_acc = []\n",
        "test_losses = []\n",
        "train_acc = []\n",
        "train_loss_graph=[]\n",
        "train_acc_graph=[]\n",
        "test_acc_graph=[]\n",
        "test_loss_graph=[]\n",
        "optimizer = optim.SGD(net.parameters(),lr=best_lr,weight_decay=0.0020,momentum=0.90)\n",
        "criterion=nn.CrossEntropyLoss()\n",
        "scheduler=torch.optim.lr_scheduler.ReduceLROnPlateau(optimizer, mode='min', factor=0.1,patience=2,min_lr=0.00001)\n",
        "#scheduler=StepLR(optimizer,step_size=5,gamma=0.1)\n",
        "#optimizer=optim.Adam(model.parameters(), lr=0.045, betas=(0.9, 0.999), eps=1e-08, amsgrad=False)\n",
        "EPOCHS = 50\n",
        "device='cuda'\n",
        "#device='cpu'\n",
        "for epoch in range(EPOCHS):\n",
        "    print(\"EPOCH:\", epoch)\n",
        "    train_loss,train_acc1=t1.train(net, device, trainloader, optimizer, epoch,train_losses,train_acc,tqdm,criterion)\n",
        "    train_loss_graph.append(train_loss)\n",
        "    train_acc_graph.append(train_acc1)\n",
        "    test_loss,test_acc1=t1.test(net, device, testloader,test_losses,test_acc,tqdm,criterion,torch)\n",
        "    test_loss_graph.append(test_loss)\n",
        "    test_acc_graph.append(test_acc1)\n",
        "    scheduler.step(test_loss)\n",
        "    "
      ],
      "execution_count": 0,
      "outputs": [
        {
          "output_type": "stream",
          "text": [
            "\r  0%|          | 0/782 [00:00<?, ?it/s]"
          ],
          "name": "stderr"
        },
        {
          "output_type": "stream",
          "text": [
            "EPOCH: 0\n"
          ],
          "name": "stdout"
        },
        {
          "output_type": "stream",
          "text": [
            "Loss=193.25128173828125 Batch_id=781 Accuracy=13.04: 100%|██████████| 782/782 [00:32<00:00, 24.11it/s]\n",
            "  0%|          | 0/782 [00:00<?, ?it/s]"
          ],
          "name": "stderr"
        },
        {
          "output_type": "stream",
          "text": [
            "\n",
            "Test set: Average loss: 0.6817, Accuracy: 1291/10000 (12.91%)\n",
            "\n",
            "EPOCH: 1\n"
          ],
          "name": "stdout"
        },
        {
          "output_type": "stream",
          "text": [
            "Loss=2.56166410446167 Batch_id=781 Accuracy=16.99: 100%|██████████| 782/782 [00:32<00:00, 23.98it/s]\n",
            "  0%|          | 0/782 [00:00<?, ?it/s]"
          ],
          "name": "stderr"
        },
        {
          "output_type": "stream",
          "text": [
            "\n",
            "Test set: Average loss: 0.0350, Accuracy: 2074/10000 (20.74%)\n",
            "\n",
            "EPOCH: 2\n"
          ],
          "name": "stdout"
        },
        {
          "output_type": "stream",
          "text": [
            "Loss=1.9318939447402954 Batch_id=781 Accuracy=20.05: 100%|██████████| 782/782 [00:32<00:00, 24.11it/s]\n",
            "  0%|          | 0/782 [00:00<?, ?it/s]"
          ],
          "name": "stderr"
        },
        {
          "output_type": "stream",
          "text": [
            "\n",
            "Test set: Average loss: 0.0333, Accuracy: 2361/10000 (23.61%)\n",
            "\n",
            "EPOCH: 3\n"
          ],
          "name": "stdout"
        },
        {
          "output_type": "stream",
          "text": [
            "Loss=1.9464834928512573 Batch_id=781 Accuracy=23.59: 100%|██████████| 782/782 [00:32<00:00, 24.16it/s]\n",
            "  0%|          | 0/782 [00:00<?, ?it/s]"
          ],
          "name": "stderr"
        },
        {
          "output_type": "stream",
          "text": [
            "\n",
            "Test set: Average loss: 0.0311, Accuracy: 2706/10000 (27.06%)\n",
            "\n",
            "EPOCH: 4\n"
          ],
          "name": "stdout"
        },
        {
          "output_type": "stream",
          "text": [
            "Loss=1.9604865312576294 Batch_id=781 Accuracy=28.44: 100%|██████████| 782/782 [00:32<00:00, 24.11it/s]\n",
            "  0%|          | 0/782 [00:00<?, ?it/s]"
          ],
          "name": "stderr"
        },
        {
          "output_type": "stream",
          "text": [
            "\n",
            "Test set: Average loss: 0.0294, Accuracy: 3280/10000 (32.80%)\n",
            "\n",
            "EPOCH: 5\n"
          ],
          "name": "stdout"
        },
        {
          "output_type": "stream",
          "text": [
            "Loss=1.9190638065338135 Batch_id=781 Accuracy=34.04: 100%|██████████| 782/782 [00:32<00:00, 24.10it/s]\n",
            "  0%|          | 0/782 [00:00<?, ?it/s]"
          ],
          "name": "stderr"
        },
        {
          "output_type": "stream",
          "text": [
            "\n",
            "Test set: Average loss: 0.0267, Accuracy: 3738/10000 (37.38%)\n",
            "\n",
            "EPOCH: 6\n"
          ],
          "name": "stdout"
        },
        {
          "output_type": "stream",
          "text": [
            "Loss=1.609800934791565 Batch_id=781 Accuracy=37.59: 100%|██████████| 782/782 [00:32<00:00, 24.18it/s]\n",
            "  0%|          | 0/782 [00:00<?, ?it/s]"
          ],
          "name": "stderr"
        },
        {
          "output_type": "stream",
          "text": [
            "\n",
            "Test set: Average loss: 0.0249, Accuracy: 4043/10000 (40.43%)\n",
            "\n",
            "EPOCH: 7\n"
          ],
          "name": "stdout"
        },
        {
          "output_type": "stream",
          "text": [
            "Loss=1.5491881370544434 Batch_id=781 Accuracy=40.72: 100%|██████████| 782/782 [00:32<00:00, 24.15it/s]\n",
            "  0%|          | 0/782 [00:00<?, ?it/s]"
          ],
          "name": "stderr"
        },
        {
          "output_type": "stream",
          "text": [
            "\n",
            "Test set: Average loss: 0.0231, Accuracy: 4523/10000 (45.23%)\n",
            "\n",
            "EPOCH: 8\n"
          ],
          "name": "stdout"
        },
        {
          "output_type": "stream",
          "text": [
            "Loss=1.732351303100586 Batch_id=781 Accuracy=45.00: 100%|██████████| 782/782 [00:32<00:00, 24.22it/s]\n",
            "  0%|          | 0/782 [00:00<?, ?it/s]"
          ],
          "name": "stderr"
        },
        {
          "output_type": "stream",
          "text": [
            "\n",
            "Test set: Average loss: 0.0267, Accuracy: 3945/10000 (39.45%)\n",
            "\n",
            "EPOCH: 9\n"
          ],
          "name": "stdout"
        },
        {
          "output_type": "stream",
          "text": [
            "Loss=1.3377474546432495 Batch_id=781 Accuracy=48.45: 100%|██████████| 782/782 [00:32<00:00, 24.19it/s]\n",
            "  0%|          | 0/782 [00:00<?, ?it/s]"
          ],
          "name": "stderr"
        },
        {
          "output_type": "stream",
          "text": [
            "\n",
            "Test set: Average loss: 0.0229, Accuracy: 4966/10000 (49.66%)\n",
            "\n",
            "EPOCH: 10\n"
          ],
          "name": "stdout"
        },
        {
          "output_type": "stream",
          "text": [
            "Loss=1.0344585180282593 Batch_id=781 Accuracy=52.03: 100%|██████████| 782/782 [00:32<00:00, 24.16it/s]\n",
            "  0%|          | 0/782 [00:00<?, ?it/s]"
          ],
          "name": "stderr"
        },
        {
          "output_type": "stream",
          "text": [
            "\n",
            "Test set: Average loss: 0.0212, Accuracy: 5446/10000 (54.46%)\n",
            "\n",
            "EPOCH: 11\n"
          ],
          "name": "stdout"
        },
        {
          "output_type": "stream",
          "text": [
            "Loss=2.014446258544922 Batch_id=781 Accuracy=54.38: 100%|██████████| 782/782 [00:32<00:00, 24.29it/s]\n",
            "  0%|          | 0/782 [00:00<?, ?it/s]"
          ],
          "name": "stderr"
        },
        {
          "output_type": "stream",
          "text": [
            "\n",
            "Test set: Average loss: 0.0197, Accuracy: 5600/10000 (56.00%)\n",
            "\n",
            "EPOCH: 12\n"
          ],
          "name": "stdout"
        },
        {
          "output_type": "stream",
          "text": [
            "Loss=1.0944870710372925 Batch_id=781 Accuracy=56.22: 100%|██████████| 782/782 [00:32<00:00, 24.29it/s]\n",
            "  0%|          | 0/782 [00:00<?, ?it/s]"
          ],
          "name": "stderr"
        },
        {
          "output_type": "stream",
          "text": [
            "\n",
            "Test set: Average loss: 0.0183, Accuracy: 5851/10000 (58.51%)\n",
            "\n",
            "EPOCH: 13\n"
          ],
          "name": "stdout"
        },
        {
          "output_type": "stream",
          "text": [
            "Loss=1.0961225032806396 Batch_id=781 Accuracy=56.98: 100%|██████████| 782/782 [00:32<00:00, 24.37it/s]\n",
            "  0%|          | 0/782 [00:00<?, ?it/s]"
          ],
          "name": "stderr"
        },
        {
          "output_type": "stream",
          "text": [
            "\n",
            "Test set: Average loss: 0.0210, Accuracy: 5466/10000 (54.66%)\n",
            "\n",
            "EPOCH: 14\n"
          ],
          "name": "stdout"
        },
        {
          "output_type": "stream",
          "text": [
            "Loss=1.089148998260498 Batch_id=781 Accuracy=57.46: 100%|██████████| 782/782 [00:32<00:00, 24.35it/s]\n",
            "  0%|          | 0/782 [00:00<?, ?it/s]"
          ],
          "name": "stderr"
        },
        {
          "output_type": "stream",
          "text": [
            "\n",
            "Test set: Average loss: 0.0168, Accuracy: 6316/10000 (63.16%)\n",
            "\n",
            "EPOCH: 15\n"
          ],
          "name": "stdout"
        },
        {
          "output_type": "stream",
          "text": [
            "Loss=1.1042793989181519 Batch_id=781 Accuracy=57.95: 100%|██████████| 782/782 [00:32<00:00, 24.37it/s]\n",
            "  0%|          | 0/782 [00:00<?, ?it/s]"
          ],
          "name": "stderr"
        },
        {
          "output_type": "stream",
          "text": [
            "\n",
            "Test set: Average loss: 0.0149, Accuracy: 6708/10000 (67.08%)\n",
            "\n",
            "EPOCH: 16\n"
          ],
          "name": "stdout"
        },
        {
          "output_type": "stream",
          "text": [
            "Loss=1.3405003547668457 Batch_id=781 Accuracy=58.08: 100%|██████████| 782/782 [00:32<00:00, 24.40it/s]\n",
            "  0%|          | 0/782 [00:00<?, ?it/s]"
          ],
          "name": "stderr"
        },
        {
          "output_type": "stream",
          "text": [
            "\n",
            "Test set: Average loss: 0.0211, Accuracy: 5106/10000 (51.06%)\n",
            "\n",
            "EPOCH: 17\n"
          ],
          "name": "stdout"
        },
        {
          "output_type": "stream",
          "text": [
            "Loss=1.0275373458862305 Batch_id=781 Accuracy=58.69: 100%|██████████| 782/782 [00:32<00:00, 24.40it/s]\n",
            "  0%|          | 0/782 [00:00<?, ?it/s]"
          ],
          "name": "stderr"
        },
        {
          "output_type": "stream",
          "text": [
            "\n",
            "Test set: Average loss: 0.0154, Accuracy: 6540/10000 (65.40%)\n",
            "\n",
            "EPOCH: 18\n"
          ],
          "name": "stdout"
        },
        {
          "output_type": "stream",
          "text": [
            "Loss=0.8341668844223022 Batch_id=781 Accuracy=59.31: 100%|██████████| 782/782 [00:31<00:00, 24.57it/s]\n",
            "  0%|          | 0/782 [00:00<?, ?it/s]"
          ],
          "name": "stderr"
        },
        {
          "output_type": "stream",
          "text": [
            "\n",
            "Test set: Average loss: 0.0190, Accuracy: 5838/10000 (58.38%)\n",
            "\n",
            "EPOCH: 19\n"
          ],
          "name": "stdout"
        },
        {
          "output_type": "stream",
          "text": [
            "Loss=0.7858626842498779 Batch_id=781 Accuracy=68.82: 100%|██████████| 782/782 [00:32<00:00, 24.36it/s]\n",
            "  0%|          | 0/782 [00:00<?, ?it/s]"
          ],
          "name": "stderr"
        },
        {
          "output_type": "stream",
          "text": [
            "\n",
            "Test set: Average loss: 0.0097, Accuracy: 7866/10000 (78.66%)\n",
            "\n",
            "EPOCH: 20\n"
          ],
          "name": "stdout"
        },
        {
          "output_type": "stream",
          "text": [
            "Loss=1.25732421875 Batch_id=781 Accuracy=72.16: 100%|██████████| 782/782 [00:32<00:00, 24.34it/s]\n",
            "  0%|          | 0/782 [00:00<?, ?it/s]"
          ],
          "name": "stderr"
        },
        {
          "output_type": "stream",
          "text": [
            "\n",
            "Test set: Average loss: 0.0091, Accuracy: 7975/10000 (79.75%)\n",
            "\n",
            "EPOCH: 21\n"
          ],
          "name": "stdout"
        },
        {
          "output_type": "stream",
          "text": [
            "Loss=1.0965473651885986 Batch_id=781 Accuracy=73.48: 100%|██████████| 782/782 [00:32<00:00, 24.43it/s]\n",
            "  0%|          | 0/782 [00:00<?, ?it/s]"
          ],
          "name": "stderr"
        },
        {
          "output_type": "stream",
          "text": [
            "\n",
            "Test set: Average loss: 0.0093, Accuracy: 7942/10000 (79.42%)\n",
            "\n",
            "EPOCH: 22\n"
          ],
          "name": "stdout"
        },
        {
          "output_type": "stream",
          "text": [
            "Loss=0.9155294299125671 Batch_id=781 Accuracy=74.25: 100%|██████████| 782/782 [00:32<00:00, 24.40it/s]\n",
            "  0%|          | 0/782 [00:00<?, ?it/s]"
          ],
          "name": "stderr"
        },
        {
          "output_type": "stream",
          "text": [
            "\n",
            "Test set: Average loss: 0.0089, Accuracy: 8038/10000 (80.38%)\n",
            "\n",
            "EPOCH: 23\n"
          ],
          "name": "stdout"
        },
        {
          "output_type": "stream",
          "text": [
            "Loss=0.8934191465377808 Batch_id=781 Accuracy=74.74: 100%|██████████| 782/782 [00:32<00:00, 24.36it/s]\n",
            "  0%|          | 0/782 [00:00<?, ?it/s]"
          ],
          "name": "stderr"
        },
        {
          "output_type": "stream",
          "text": [
            "\n",
            "Test set: Average loss: 0.0094, Accuracy: 7984/10000 (79.84%)\n",
            "\n",
            "EPOCH: 24\n"
          ],
          "name": "stdout"
        },
        {
          "output_type": "stream",
          "text": [
            "Loss=0.6088722944259644 Batch_id=781 Accuracy=75.38: 100%|██████████| 782/782 [00:32<00:00, 24.28it/s]\n",
            "  0%|          | 0/782 [00:00<?, ?it/s]"
          ],
          "name": "stderr"
        },
        {
          "output_type": "stream",
          "text": [
            "\n",
            "Test set: Average loss: 0.0084, Accuracy: 8192/10000 (81.92%)\n",
            "\n",
            "EPOCH: 25\n"
          ],
          "name": "stdout"
        },
        {
          "output_type": "stream",
          "text": [
            "Loss=1.0721458196640015 Batch_id=781 Accuracy=75.83: 100%|██████████| 782/782 [00:31<00:00, 24.48it/s]\n",
            "  0%|          | 0/782 [00:00<?, ?it/s]"
          ],
          "name": "stderr"
        },
        {
          "output_type": "stream",
          "text": [
            "\n",
            "Test set: Average loss: 0.0091, Accuracy: 8041/10000 (80.41%)\n",
            "\n",
            "EPOCH: 26\n"
          ],
          "name": "stdout"
        },
        {
          "output_type": "stream",
          "text": [
            "Loss=0.4830375909805298 Batch_id=781 Accuracy=75.76: 100%|██████████| 782/782 [00:31<00:00, 24.45it/s]\n",
            "  0%|          | 0/782 [00:00<?, ?it/s]"
          ],
          "name": "stderr"
        },
        {
          "output_type": "stream",
          "text": [
            "\n",
            "Test set: Average loss: 0.0091, Accuracy: 8107/10000 (81.07%)\n",
            "\n",
            "EPOCH: 27\n"
          ],
          "name": "stdout"
        },
        {
          "output_type": "stream",
          "text": [
            "Loss=0.8484975099563599 Batch_id=781 Accuracy=76.41: 100%|██████████| 782/782 [00:31<00:00, 24.58it/s]\n",
            "  0%|          | 0/782 [00:00<?, ?it/s]"
          ],
          "name": "stderr"
        },
        {
          "output_type": "stream",
          "text": [
            "\n",
            "Test set: Average loss: 0.0099, Accuracy: 7918/10000 (79.18%)\n",
            "\n",
            "EPOCH: 28\n"
          ],
          "name": "stdout"
        },
        {
          "output_type": "stream",
          "text": [
            "Loss=0.7020958662033081 Batch_id=781 Accuracy=80.60: 100%|██████████| 782/782 [00:31<00:00, 24.49it/s]\n",
            "  0%|          | 0/782 [00:00<?, ?it/s]"
          ],
          "name": "stderr"
        },
        {
          "output_type": "stream",
          "text": [
            "\n",
            "Test set: Average loss: 0.0065, Accuracy: 8607/10000 (86.07%)\n",
            "\n",
            "EPOCH: 29\n"
          ],
          "name": "stdout"
        },
        {
          "output_type": "stream",
          "text": [
            "Loss=0.5349414348602295 Batch_id=781 Accuracy=82.05: 100%|██████████| 782/782 [00:31<00:00, 24.46it/s]\n",
            "  0%|          | 0/782 [00:00<?, ?it/s]"
          ],
          "name": "stderr"
        },
        {
          "output_type": "stream",
          "text": [
            "\n",
            "Test set: Average loss: 0.0062, Accuracy: 8677/10000 (86.77%)\n",
            "\n",
            "EPOCH: 30\n"
          ],
          "name": "stdout"
        },
        {
          "output_type": "stream",
          "text": [
            "Loss=0.44774168729782104 Batch_id=781 Accuracy=82.84: 100%|██████████| 782/782 [00:31<00:00, 24.52it/s]\n",
            "  0%|          | 0/782 [00:00<?, ?it/s]"
          ],
          "name": "stderr"
        },
        {
          "output_type": "stream",
          "text": [
            "\n",
            "Test set: Average loss: 0.0062, Accuracy: 8686/10000 (86.86%)\n",
            "\n",
            "EPOCH: 31\n"
          ],
          "name": "stdout"
        },
        {
          "output_type": "stream",
          "text": [
            "Loss=1.2305517196655273 Batch_id=781 Accuracy=83.27: 100%|██████████| 782/782 [00:31<00:00, 24.44it/s]\n",
            "  0%|          | 0/782 [00:00<?, ?it/s]"
          ],
          "name": "stderr"
        },
        {
          "output_type": "stream",
          "text": [
            "\n",
            "Test set: Average loss: 0.0061, Accuracy: 8712/10000 (87.12%)\n",
            "\n",
            "EPOCH: 32\n"
          ],
          "name": "stdout"
        },
        {
          "output_type": "stream",
          "text": [
            "Loss=0.45630937814712524 Batch_id=781 Accuracy=83.67: 100%|██████████| 782/782 [00:31<00:00, 24.53it/s]\n",
            "  0%|          | 0/782 [00:00<?, ?it/s]"
          ],
          "name": "stderr"
        },
        {
          "output_type": "stream",
          "text": [
            "\n",
            "Test set: Average loss: 0.0060, Accuracy: 8711/10000 (87.11%)\n",
            "\n",
            "EPOCH: 33\n"
          ],
          "name": "stdout"
        },
        {
          "output_type": "stream",
          "text": [
            "Loss=0.46138256788253784 Batch_id=781 Accuracy=83.93: 100%|██████████| 782/782 [00:32<00:00, 24.29it/s]\n",
            "  0%|          | 0/782 [00:00<?, ?it/s]"
          ],
          "name": "stderr"
        },
        {
          "output_type": "stream",
          "text": [
            "\n",
            "Test set: Average loss: 0.0058, Accuracy: 8781/10000 (87.81%)\n",
            "\n",
            "EPOCH: 34\n"
          ],
          "name": "stdout"
        },
        {
          "output_type": "stream",
          "text": [
            "Loss=0.40678176283836365 Batch_id=781 Accuracy=84.87: 100%|██████████| 782/782 [00:31<00:00, 24.56it/s]\n",
            "  0%|          | 0/782 [00:00<?, ?it/s]"
          ],
          "name": "stderr"
        },
        {
          "output_type": "stream",
          "text": [
            "\n",
            "Test set: Average loss: 0.0059, Accuracy: 8735/10000 (87.35%)\n",
            "\n",
            "EPOCH: 35\n"
          ],
          "name": "stdout"
        },
        {
          "output_type": "stream",
          "text": [
            "Loss=0.3506314754486084 Batch_id=781 Accuracy=84.98: 100%|██████████| 782/782 [00:31<00:00, 24.47it/s]\n",
            "  0%|          | 0/782 [00:00<?, ?it/s]"
          ],
          "name": "stderr"
        },
        {
          "output_type": "stream",
          "text": [
            "\n",
            "Test set: Average loss: 0.0058, Accuracy: 8738/10000 (87.38%)\n",
            "\n",
            "EPOCH: 36\n"
          ],
          "name": "stdout"
        },
        {
          "output_type": "stream",
          "text": [
            "Loss=0.39598172903060913 Batch_id=781 Accuracy=85.10: 100%|██████████| 782/782 [00:31<00:00, 24.53it/s]\n",
            "  0%|          | 0/782 [00:00<?, ?it/s]"
          ],
          "name": "stderr"
        },
        {
          "output_type": "stream",
          "text": [
            "\n",
            "Test set: Average loss: 0.0057, Accuracy: 8761/10000 (87.61%)\n",
            "\n",
            "EPOCH: 37\n"
          ],
          "name": "stdout"
        },
        {
          "output_type": "stream",
          "text": [
            "Loss=0.6048004031181335 Batch_id=781 Accuracy=85.36: 100%|██████████| 782/782 [00:31<00:00, 24.44it/s]\n",
            "  0%|          | 0/782 [00:00<?, ?it/s]"
          ],
          "name": "stderr"
        },
        {
          "output_type": "stream",
          "text": [
            "\n",
            "Test set: Average loss: 0.0057, Accuracy: 8786/10000 (87.86%)\n",
            "\n",
            "EPOCH: 38\n"
          ],
          "name": "stdout"
        },
        {
          "output_type": "stream",
          "text": [
            "Loss=0.456407368183136 Batch_id=781 Accuracy=85.61: 100%|██████████| 782/782 [00:31<00:00, 24.53it/s]\n",
            "  0%|          | 0/782 [00:00<?, ?it/s]"
          ],
          "name": "stderr"
        },
        {
          "output_type": "stream",
          "text": [
            "\n",
            "Test set: Average loss: 0.0057, Accuracy: 8794/10000 (87.94%)\n",
            "\n",
            "EPOCH: 39\n"
          ],
          "name": "stdout"
        },
        {
          "output_type": "stream",
          "text": [
            "Loss=0.23647460341453552 Batch_id=781 Accuracy=86.31: 100%|██████████| 782/782 [00:31<00:00, 24.71it/s]\n",
            "  0%|          | 0/782 [00:00<?, ?it/s]"
          ],
          "name": "stderr"
        },
        {
          "output_type": "stream",
          "text": [
            "\n",
            "Test set: Average loss: 0.0056, Accuracy: 8773/10000 (87.73%)\n",
            "\n",
            "EPOCH: 40\n"
          ],
          "name": "stdout"
        },
        {
          "output_type": "stream",
          "text": [
            "Loss=0.37514814734458923 Batch_id=781 Accuracy=85.91: 100%|██████████| 782/782 [00:31<00:00, 24.54it/s]\n",
            "  0%|          | 0/782 [00:00<?, ?it/s]"
          ],
          "name": "stderr"
        },
        {
          "output_type": "stream",
          "text": [
            "\n",
            "Test set: Average loss: 0.0056, Accuracy: 8806/10000 (88.06%)\n",
            "\n",
            "EPOCH: 41\n"
          ],
          "name": "stdout"
        },
        {
          "output_type": "stream",
          "text": [
            "Loss=0.818047821521759 Batch_id=781 Accuracy=86.20: 100%|██████████| 782/782 [00:31<00:00, 24.58it/s]\n",
            "  0%|          | 0/782 [00:00<?, ?it/s]"
          ],
          "name": "stderr"
        },
        {
          "output_type": "stream",
          "text": [
            "\n",
            "Test set: Average loss: 0.0057, Accuracy: 8754/10000 (87.54%)\n",
            "\n",
            "EPOCH: 42\n"
          ],
          "name": "stdout"
        },
        {
          "output_type": "stream",
          "text": [
            "Loss=0.2004956752061844 Batch_id=781 Accuracy=86.63: 100%|██████████| 782/782 [00:31<00:00, 24.52it/s]\n",
            "  0%|          | 0/782 [00:00<?, ?it/s]"
          ],
          "name": "stderr"
        },
        {
          "output_type": "stream",
          "text": [
            "\n",
            "Test set: Average loss: 0.0056, Accuracy: 8780/10000 (87.80%)\n",
            "\n",
            "EPOCH: 43\n"
          ],
          "name": "stdout"
        },
        {
          "output_type": "stream",
          "text": [
            "Loss=0.5190128087997437 Batch_id=781 Accuracy=86.63: 100%|██████████| 782/782 [00:31<00:00, 24.45it/s]\n",
            "  0%|          | 0/782 [00:00<?, ?it/s]"
          ],
          "name": "stderr"
        },
        {
          "output_type": "stream",
          "text": [
            "\n",
            "Test set: Average loss: 0.0056, Accuracy: 8799/10000 (87.99%)\n",
            "\n",
            "EPOCH: 44\n"
          ],
          "name": "stdout"
        },
        {
          "output_type": "stream",
          "text": [
            "Loss=0.29439693689346313 Batch_id=781 Accuracy=87.58: 100%|██████████| 782/782 [00:31<00:00, 24.56it/s]\n",
            "  0%|          | 0/782 [00:00<?, ?it/s]"
          ],
          "name": "stderr"
        },
        {
          "output_type": "stream",
          "text": [
            "\n",
            "Test set: Average loss: 0.0053, Accuracy: 8839/10000 (88.39%)\n",
            "\n",
            "EPOCH: 45\n"
          ],
          "name": "stdout"
        },
        {
          "output_type": "stream",
          "text": [
            "Loss=0.6226805448532104 Batch_id=781 Accuracy=88.15: 100%|██████████| 782/782 [00:32<00:00, 24.31it/s]\n",
            "  0%|          | 0/782 [00:00<?, ?it/s]"
          ],
          "name": "stderr"
        },
        {
          "output_type": "stream",
          "text": [
            "\n",
            "Test set: Average loss: 0.0054, Accuracy: 8832/10000 (88.32%)\n",
            "\n",
            "EPOCH: 46\n"
          ],
          "name": "stdout"
        },
        {
          "output_type": "stream",
          "text": [
            "Loss=0.08518341183662415 Batch_id=781 Accuracy=87.96: 100%|██████████| 782/782 [00:31<00:00, 24.47it/s]\n",
            "  0%|          | 0/782 [00:00<?, ?it/s]"
          ],
          "name": "stderr"
        },
        {
          "output_type": "stream",
          "text": [
            "\n",
            "Test set: Average loss: 0.0053, Accuracy: 8846/10000 (88.46%)\n",
            "\n",
            "EPOCH: 47\n"
          ],
          "name": "stdout"
        },
        {
          "output_type": "stream",
          "text": [
            "Loss=0.7256094217300415 Batch_id=781 Accuracy=88.43: 100%|██████████| 782/782 [00:32<00:00, 24.39it/s]\n",
            "  0%|          | 0/782 [00:00<?, ?it/s]"
          ],
          "name": "stderr"
        },
        {
          "output_type": "stream",
          "text": [
            "\n",
            "Test set: Average loss: 0.0053, Accuracy: 8867/10000 (88.67%)\n",
            "\n",
            "EPOCH: 48\n"
          ],
          "name": "stdout"
        },
        {
          "output_type": "stream",
          "text": [
            "Loss=0.25826296210289 Batch_id=781 Accuracy=88.36: 100%|██████████| 782/782 [00:32<00:00, 24.41it/s]\n",
            "  0%|          | 0/782 [00:00<?, ?it/s]"
          ],
          "name": "stderr"
        },
        {
          "output_type": "stream",
          "text": [
            "\n",
            "Test set: Average loss: 0.0053, Accuracy: 8871/10000 (88.71%)\n",
            "\n",
            "EPOCH: 49\n"
          ],
          "name": "stdout"
        },
        {
          "output_type": "stream",
          "text": [
            "Loss=0.28414949774742126 Batch_id=781 Accuracy=88.34: 100%|██████████| 782/782 [00:32<00:00, 24.20it/s]\n"
          ],
          "name": "stderr"
        },
        {
          "output_type": "stream",
          "text": [
            "\n",
            "Test set: Average loss: 0.0053, Accuracy: 8854/10000 (88.54%)\n",
            "\n"
          ],
          "name": "stdout"
        }
      ]
    },
    {
      "cell_type": "code",
      "metadata": {
        "id": "QK6-ScQXB8Ab",
        "colab_type": "code",
        "outputId": "50b7d4e2-5551-455a-c9d3-5a5165e885d9",
        "colab": {
          "base_uri": "https://localhost:8080/",
          "height": 295
        }
      },
      "source": [
        "plt.plot(test_acc_graph)                \n",
        "plt.plot(train_acc_graph)        \n",
        "plt.title(\"Model Accuracy\")          \n",
        "plt.ylabel('Accuracy')\n",
        "plt.xlabel('Epoch')\n",
        "plt.legend(['test','train'] ,loc='upper left')\n",
        "plt.show()  \n",
        "                                            "
      ],
      "execution_count": 0,
      "outputs": [
        {
          "output_type": "display_data",
          "data": {
            "image/png": "[encoded data removed]",
            "text/plain": [
              "<Figure size 432x288 with 1 Axes>"
            ]
          },
          "metadata": {
            "tags": []
          }
        }
      ]
    },
    {
      "cell_type": "code",
      "metadata": {
        "id": "zw9cR-0NdJeM",
        "colab_type": "code",
        "outputId": "4d467b7d-7625-4c93-9fd1-b39f90b42ad9",
        "colab": {
          "base_uri": "https://localhost:8080/",
          "height": 33
        }
      },
      "source": [
        "cam2=[]          \n",
        "data2=[]\n",
        "k=[]\n",
        "dat=[]\n",
        "number=0\n",
        "p=[]\n",
        "l=[]\n",
        "data2=[]\n",
        "for im in range(25):\n",
        "  \n",
        "  dat1,label = next(iter(testloader))\n",
        "  dat1=dat1.to('cuda')\n",
        "  output=net(dat1)\n",
        "  pred = output.argmax(dim=1, keepdim=True)\n",
        "  \n",
        "  for i in range(label.size()[0]):\n",
        "   if pred[i].item() != label[i].item():\n",
        "    p.append(pred[i].item()) \n",
        "    l.append(label[i].item()) \n",
        "    label1=label[i]\n",
        "    data1=dat1[i]\n",
        "    data2.append(dat1[i].to('cpu'))\n",
        "    label1=label1.unsqueeze(0) \n",
        "    Gd1=gd.GradCm()\n",
        "    cam1=Gd1.img(data1,label1,net)\n",
        "    cam2.append(cam1) \n",
        "    number = len(cam2)\n",
        "    if number >= 25:\n",
        "        print(number)\n",
        "        break\n",
        "  else:\n",
        "   continue\n",
        "  break "
      ],
      "execution_count": 0,
      "outputs": [
        {
          "output_type": "stream",
          "text": [
            "25\n"
          ],
          "name": "stdout"
        }
      ]
    },
    {
      "cell_type": "code",
      "metadata": {
        "id": "48O3kCbid_NK",
        "colab_type": "code",
        "outputId": "a2da3f19-a6c5-4313-8aa2-449fc72eb646",
        "colab": {
          "base_uri": "https://localhost:8080/",
          "height": 169
        }
      },
      "source": [
        "plott=pt.Plot()\n",
        "#l=l.to('cpu')\n",
        "#data2=data2.to('cpu')\n",
        "plott.fig(data2,cam2,l,p)\n"
      ],
      "execution_count": 0,
      "outputs": [
        {
          "output_type": "display_data",
          "data": {
            "image/png": "[encoded data removed]",
            "text/plain": [
              "<Figure size 2304x2304 with 25 Axes>"
            ]
          },
          "metadata": {
            "tags": []
          }
        },
        {
          "output_type": "display_data",
          "data": {
            "image/png": "[encoded data removed]",
            "text/plain": [
              "<Figure size 2304x2304 with 25 Axes>"
            ]
          },
          "metadata": {
            "tags": []
          }
        }
      ]
    }
  ]
}
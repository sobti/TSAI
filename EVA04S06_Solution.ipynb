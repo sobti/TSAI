{
  "nbformat": 4,
  "nbformat_minor": 0,
  "metadata": {
    "colab": {
      "name": "EVA04S06-Solution.ipynb",
      "provenance": [],
      "collapsed_sections": [],
      "toc_visible": true
    },
    "kernelspec": {
      "name": "python3",
      "display_name": "Python 3"
    },
    "accelerator": "GPU",
    "widgets": {
      "application/vnd.jupyter.widget-state+json": {
        "e416bbab2b6247ba978bf55bdf53677e": {
          "model_module": "@jupyter-widgets/controls",
          "model_name": "HBoxModel",
          "state": {
            "_view_name": "HBoxView",
            "_dom_classes": [],
            "_model_name": "HBoxModel",
            "_view_module": "@jupyter-widgets/controls",
            "_model_module_version": "1.5.0",
            "_view_count": null,
            "_view_module_version": "1.5.0",
            "box_style": "",
            "layout": "IPY_MODEL_c9d7200e6961417cb7c6b334fb673790",
            "_model_module": "@jupyter-widgets/controls",
            "children": [
              "IPY_MODEL_ea1ff76348c94d15b5b1450d9c687d9a",
              "IPY_MODEL_75def4815c334808aefdc2295e1b11bf"
            ]
          }
        },
        "c9d7200e6961417cb7c6b334fb673790": {
          "model_module": "@jupyter-widgets/base",
          "model_name": "LayoutModel",
          "state": {
            "_view_name": "LayoutView",
            "grid_template_rows": null,
            "right": null,
            "justify_content": null,
            "_view_module": "@jupyter-widgets/base",
            "overflow": null,
            "_model_module_version": "1.2.0",
            "_view_count": null,
            "flex_flow": null,
            "width": null,
            "min_width": null,
            "border": null,
            "align_items": null,
            "bottom": null,
            "_model_module": "@jupyter-widgets/base",
            "top": null,
            "grid_column": null,
            "overflow_y": null,
            "overflow_x": null,
            "grid_auto_flow": null,
            "grid_area": null,
            "grid_template_columns": null,
            "flex": null,
            "_model_name": "LayoutModel",
            "justify_items": null,
            "grid_row": null,
            "max_height": null,
            "align_content": null,
            "visibility": null,
            "align_self": null,
            "height": null,
            "min_height": null,
            "padding": null,
            "grid_auto_rows": null,
            "grid_gap": null,
            "max_width": null,
            "order": null,
            "_view_module_version": "1.2.0",
            "grid_template_areas": null,
            "object_position": null,
            "object_fit": null,
            "grid_auto_columns": null,
            "margin": null,
            "display": null,
            "left": null
          }
        },
        "ea1ff76348c94d15b5b1450d9c687d9a": {
          "model_module": "@jupyter-widgets/controls",
          "model_name": "IntProgressModel",
          "state": {
            "_view_name": "ProgressView",
            "style": "IPY_MODEL_30183bac60e04734aa80d7c92daa1546",
            "_dom_classes": [],
            "description": "",
            "_model_name": "IntProgressModel",
            "bar_style": "success",
            "max": 1,
            "_view_module": "@jupyter-widgets/controls",
            "_model_module_version": "1.5.0",
            "value": 1,
            "_view_count": null,
            "_view_module_version": "1.5.0",
            "orientation": "horizontal",
            "min": 0,
            "description_tooltip": null,
            "_model_module": "@jupyter-widgets/controls",
            "layout": "IPY_MODEL_57ff2a50e1fa40ee8db57b5f65620a7c"
          }
        },
        "75def4815c334808aefdc2295e1b11bf": {
          "model_module": "@jupyter-widgets/controls",
          "model_name": "HTMLModel",
          "state": {
            "_view_name": "HTMLView",
            "style": "IPY_MODEL_3db309aad40e4dacbf40c3e272aeaee2",
            "_dom_classes": [],
            "description": "",
            "_model_name": "HTMLModel",
            "placeholder": "​",
            "_view_module": "@jupyter-widgets/controls",
            "_model_module_version": "1.5.0",
            "value": "9920512it [00:01, 8387880.86it/s]",
            "_view_count": null,
            "_view_module_version": "1.5.0",
            "description_tooltip": null,
            "_model_module": "@jupyter-widgets/controls",
            "layout": "IPY_MODEL_9d6e37f96cd44b77a10a79e2893467d2"
          }
        },
        "30183bac60e04734aa80d7c92daa1546": {
          "model_module": "@jupyter-widgets/controls",
          "model_name": "ProgressStyleModel",
          "state": {
            "_view_name": "StyleView",
            "_model_name": "ProgressStyleModel",
            "description_width": "",
            "_view_module": "@jupyter-widgets/base",
            "_model_module_version": "1.5.0",
            "_view_count": null,
            "_view_module_version": "1.2.0",
            "bar_color": null,
            "_model_module": "@jupyter-widgets/controls"
          }
        },
        "57ff2a50e1fa40ee8db57b5f65620a7c": {
          "model_module": "@jupyter-widgets/base",
          "model_name": "LayoutModel",
          "state": {
            "_view_name": "LayoutView",
            "grid_template_rows": null,
            "right": null,
            "justify_content": null,
            "_view_module": "@jupyter-widgets/base",
            "overflow": null,
            "_model_module_version": "1.2.0",
            "_view_count": null,
            "flex_flow": null,
            "width": null,
            "min_width": null,
            "border": null,
            "align_items": null,
            "bottom": null,
            "_model_module": "@jupyter-widgets/base",
            "top": null,
            "grid_column": null,
            "overflow_y": null,
            "overflow_x": null,
            "grid_auto_flow": null,
            "grid_area": null,
            "grid_template_columns": null,
            "flex": null,
            "_model_name": "LayoutModel",
            "justify_items": null,
            "grid_row": null,
            "max_height": null,
            "align_content": null,
            "visibility": null,
            "align_self": null,
            "height": null,
            "min_height": null,
            "padding": null,
            "grid_auto_rows": null,
            "grid_gap": null,
            "max_width": null,
            "order": null,
            "_view_module_version": "1.2.0",
            "grid_template_areas": null,
            "object_position": null,
            "object_fit": null,
            "grid_auto_columns": null,
            "margin": null,
            "display": null,
            "left": null
          }
        },
        "3db309aad40e4dacbf40c3e272aeaee2": {
          "model_module": "@jupyter-widgets/controls",
          "model_name": "DescriptionStyleModel",
          "state": {
            "_view_name": "StyleView",
            "_model_name": "DescriptionStyleModel",
            "description_width": "",
            "_view_module": "@jupyter-widgets/base",
            "_model_module_version": "1.5.0",
            "_view_count": null,
            "_view_module_version": "1.2.0",
            "_model_module": "@jupyter-widgets/controls"
          }
        },
        "9d6e37f96cd44b77a10a79e2893467d2": {
          "model_module": "@jupyter-widgets/base",
          "model_name": "LayoutModel",
          "state": {
            "_view_name": "LayoutView",
            "grid_template_rows": null,
            "right": null,
            "justify_content": null,
            "_view_module": "@jupyter-widgets/base",
            "overflow": null,
            "_model_module_version": "1.2.0",
            "_view_count": null,
            "flex_flow": null,
            "width": null,
            "min_width": null,
            "border": null,
            "align_items": null,
            "bottom": null,
            "_model_module": "@jupyter-widgets/base",
            "top": null,
            "grid_column": null,
            "overflow_y": null,
            "overflow_x": null,
            "grid_auto_flow": null,
            "grid_area": null,
            "grid_template_columns": null,
            "flex": null,
            "_model_name": "LayoutModel",
            "justify_items": null,
            "grid_row": null,
            "max_height": null,
            "align_content": null,
            "visibility": null,
            "align_self": null,
            "height": null,
            "min_height": null,
            "padding": null,
            "grid_auto_rows": null,
            "grid_gap": null,
            "max_width": null,
            "order": null,
            "_view_module_version": "1.2.0",
            "grid_template_areas": null,
            "object_position": null,
            "object_fit": null,
            "grid_auto_columns": null,
            "margin": null,
            "display": null,
            "left": null
          }
        },
        "3ac307daba11401c8ed2eee5ba9dfd3f": {
          "model_module": "@jupyter-widgets/controls",
          "model_name": "HBoxModel",
          "state": {
            "_view_name": "HBoxView",
            "_dom_classes": [],
            "_model_name": "HBoxModel",
            "_view_module": "@jupyter-widgets/controls",
            "_model_module_version": "1.5.0",
            "_view_count": null,
            "_view_module_version": "1.5.0",
            "box_style": "",
            "layout": "IPY_MODEL_ef5cfd5491ed4f698c3ec10d82f0c66f",
            "_model_module": "@jupyter-widgets/controls",
            "children": [
              "IPY_MODEL_c730c1814ab94e389482c480214dab05",
              "IPY_MODEL_207234d886294b628724d90790e00650"
            ]
          }
        },
        "ef5cfd5491ed4f698c3ec10d82f0c66f": {
          "model_module": "@jupyter-widgets/base",
          "model_name": "LayoutModel",
          "state": {
            "_view_name": "LayoutView",
            "grid_template_rows": null,
            "right": null,
            "justify_content": null,
            "_view_module": "@jupyter-widgets/base",
            "overflow": null,
            "_model_module_version": "1.2.0",
            "_view_count": null,
            "flex_flow": null,
            "width": null,
            "min_width": null,
            "border": null,
            "align_items": null,
            "bottom": null,
            "_model_module": "@jupyter-widgets/base",
            "top": null,
            "grid_column": null,
            "overflow_y": null,
            "overflow_x": null,
            "grid_auto_flow": null,
            "grid_area": null,
            "grid_template_columns": null,
            "flex": null,
            "_model_name": "LayoutModel",
            "justify_items": null,
            "grid_row": null,
            "max_height": null,
            "align_content": null,
            "visibility": null,
            "align_self": null,
            "height": null,
            "min_height": null,
            "padding": null,
            "grid_auto_rows": null,
            "grid_gap": null,
            "max_width": null,
            "order": null,
            "_view_module_version": "1.2.0",
            "grid_template_areas": null,
            "object_position": null,
            "object_fit": null,
            "grid_auto_columns": null,
            "margin": null,
            "display": null,
            "left": null
          }
        },
        "c730c1814ab94e389482c480214dab05": {
          "model_module": "@jupyter-widgets/controls",
          "model_name": "IntProgressModel",
          "state": {
            "_view_name": "ProgressView",
            "style": "IPY_MODEL_e8d565017f024f09be1a03a8a24c5b8a",
            "_dom_classes": [],
            "description": "",
            "_model_name": "IntProgressModel",
            "bar_style": "success",
            "max": 1,
            "_view_module": "@jupyter-widgets/controls",
            "_model_module_version": "1.5.0",
            "value": 1,
            "_view_count": null,
            "_view_module_version": "1.5.0",
            "orientation": "horizontal",
            "min": 0,
            "description_tooltip": null,
            "_model_module": "@jupyter-widgets/controls",
            "layout": "IPY_MODEL_5954be5180174607be955da9445bed75"
          }
        },
        "207234d886294b628724d90790e00650": {
          "model_module": "@jupyter-widgets/controls",
          "model_name": "HTMLModel",
          "state": {
            "_view_name": "HTMLView",
            "style": "IPY_MODEL_bdfd68d5344f41d19ab45750a72bce9c",
            "_dom_classes": [],
            "description": "",
            "_model_name": "HTMLModel",
            "placeholder": "​",
            "_view_module": "@jupyter-widgets/controls",
            "_model_module_version": "1.5.0",
            "value": "32768it [00:00, 118436.42it/s]",
            "_view_count": null,
            "_view_module_version": "1.5.0",
            "description_tooltip": null,
            "_model_module": "@jupyter-widgets/controls",
            "layout": "IPY_MODEL_e50368b9f38d446395756aaa42daf0a3"
          }
        },
        "e8d565017f024f09be1a03a8a24c5b8a": {
          "model_module": "@jupyter-widgets/controls",
          "model_name": "ProgressStyleModel",
          "state": {
            "_view_name": "StyleView",
            "_model_name": "ProgressStyleModel",
            "description_width": "",
            "_view_module": "@jupyter-widgets/base",
            "_model_module_version": "1.5.0",
            "_view_count": null,
            "_view_module_version": "1.2.0",
            "bar_color": null,
            "_model_module": "@jupyter-widgets/controls"
          }
        },
        "5954be5180174607be955da9445bed75": {
          "model_module": "@jupyter-widgets/base",
          "model_name": "LayoutModel",
          "state": {
            "_view_name": "LayoutView",
            "grid_template_rows": null,
            "right": null,
            "justify_content": null,
            "_view_module": "@jupyter-widgets/base",
            "overflow": null,
            "_model_module_version": "1.2.0",
            "_view_count": null,
            "flex_flow": null,
            "width": null,
            "min_width": null,
            "border": null,
            "align_items": null,
            "bottom": null,
            "_model_module": "@jupyter-widgets/base",
            "top": null,
            "grid_column": null,
            "overflow_y": null,
            "overflow_x": null,
            "grid_auto_flow": null,
            "grid_area": null,
            "grid_template_columns": null,
            "flex": null,
            "_model_name": "LayoutModel",
            "justify_items": null,
            "grid_row": null,
            "max_height": null,
            "align_content": null,
            "visibility": null,
            "align_self": null,
            "height": null,
            "min_height": null,
            "padding": null,
            "grid_auto_rows": null,
            "grid_gap": null,
            "max_width": null,
            "order": null,
            "_view_module_version": "1.2.0",
            "grid_template_areas": null,
            "object_position": null,
            "object_fit": null,
            "grid_auto_columns": null,
            "margin": null,
            "display": null,
            "left": null
          }
        },
        "bdfd68d5344f41d19ab45750a72bce9c": {
          "model_module": "@jupyter-widgets/controls",
          "model_name": "DescriptionStyleModel",
          "state": {
            "_view_name": "StyleView",
            "_model_name": "DescriptionStyleModel",
            "description_width": "",
            "_view_module": "@jupyter-widgets/base",
            "_model_module_version": "1.5.0",
            "_view_count": null,
            "_view_module_version": "1.2.0",
            "_model_module": "@jupyter-widgets/controls"
          }
        },
        "e50368b9f38d446395756aaa42daf0a3": {
          "model_module": "@jupyter-widgets/base",
          "model_name": "LayoutModel",
          "state": {
            "_view_name": "LayoutView",
            "grid_template_rows": null,
            "right": null,
            "justify_content": null,
            "_view_module": "@jupyter-widgets/base",
            "overflow": null,
            "_model_module_version": "1.2.0",
            "_view_count": null,
            "flex_flow": null,
            "width": null,
            "min_width": null,
            "border": null,
            "align_items": null,
            "bottom": null,
            "_model_module": "@jupyter-widgets/base",
            "top": null,
            "grid_column": null,
            "overflow_y": null,
            "overflow_x": null,
            "grid_auto_flow": null,
            "grid_area": null,
            "grid_template_columns": null,
            "flex": null,
            "_model_name": "LayoutModel",
            "justify_items": null,
            "grid_row": null,
            "max_height": null,
            "align_content": null,
            "visibility": null,
            "align_self": null,
            "height": null,
            "min_height": null,
            "padding": null,
            "grid_auto_rows": null,
            "grid_gap": null,
            "max_width": null,
            "order": null,
            "_view_module_version": "1.2.0",
            "grid_template_areas": null,
            "object_position": null,
            "object_fit": null,
            "grid_auto_columns": null,
            "margin": null,
            "display": null,
            "left": null
          }
        },
        "f3b906b259d642219211a548414da369": {
          "model_module": "@jupyter-widgets/controls",
          "model_name": "HBoxModel",
          "state": {
            "_view_name": "HBoxView",
            "_dom_classes": [],
            "_model_name": "HBoxModel",
            "_view_module": "@jupyter-widgets/controls",
            "_model_module_version": "1.5.0",
            "_view_count": null,
            "_view_module_version": "1.5.0",
            "box_style": "",
            "layout": "IPY_MODEL_0427bafee0ce49869cec1d648104c525",
            "_model_module": "@jupyter-widgets/controls",
            "children": [
              "IPY_MODEL_79e353ec5be54155a426e934dddec97e",
              "IPY_MODEL_932c2dc9c0654ce8ae2f43896567f281"
            ]
          }
        },
        "0427bafee0ce49869cec1d648104c525": {
          "model_module": "@jupyter-widgets/base",
          "model_name": "LayoutModel",
          "state": {
            "_view_name": "LayoutView",
            "grid_template_rows": null,
            "right": null,
            "justify_content": null,
            "_view_module": "@jupyter-widgets/base",
            "overflow": null,
            "_model_module_version": "1.2.0",
            "_view_count": null,
            "flex_flow": null,
            "width": null,
            "min_width": null,
            "border": null,
            "align_items": null,
            "bottom": null,
            "_model_module": "@jupyter-widgets/base",
            "top": null,
            "grid_column": null,
            "overflow_y": null,
            "overflow_x": null,
            "grid_auto_flow": null,
            "grid_area": null,
            "grid_template_columns": null,
            "flex": null,
            "_model_name": "LayoutModel",
            "justify_items": null,
            "grid_row": null,
            "max_height": null,
            "align_content": null,
            "visibility": null,
            "align_self": null,
            "height": null,
            "min_height": null,
            "padding": null,
            "grid_auto_rows": null,
            "grid_gap": null,
            "max_width": null,
            "order": null,
            "_view_module_version": "1.2.0",
            "grid_template_areas": null,
            "object_position": null,
            "object_fit": null,
            "grid_auto_columns": null,
            "margin": null,
            "display": null,
            "left": null
          }
        },
        "79e353ec5be54155a426e934dddec97e": {
          "model_module": "@jupyter-widgets/controls",
          "model_name": "IntProgressModel",
          "state": {
            "_view_name": "ProgressView",
            "style": "IPY_MODEL_933f089f25484ec48443ed027bd8b352",
            "_dom_classes": [],
            "description": "",
            "_model_name": "IntProgressModel",
            "bar_style": "success",
            "max": 1,
            "_view_module": "@jupyter-widgets/controls",
            "_model_module_version": "1.5.0",
            "value": 1,
            "_view_count": null,
            "_view_module_version": "1.5.0",
            "orientation": "horizontal",
            "min": 0,
            "description_tooltip": null,
            "_model_module": "@jupyter-widgets/controls",
            "layout": "IPY_MODEL_ea6ea19754c141c6846eca819d7dee01"
          }
        },
        "932c2dc9c0654ce8ae2f43896567f281": {
          "model_module": "@jupyter-widgets/controls",
          "model_name": "HTMLModel",
          "state": {
            "_view_name": "HTMLView",
            "style": "IPY_MODEL_b28f95403d524f319b9f81e8640698a5",
            "_dom_classes": [],
            "description": "",
            "_model_name": "HTMLModel",
            "placeholder": "​",
            "_view_module": "@jupyter-widgets/controls",
            "_model_module_version": "1.5.0",
            "value": "1654784it [00:00, 1970637.81it/s]",
            "_view_count": null,
            "_view_module_version": "1.5.0",
            "description_tooltip": null,
            "_model_module": "@jupyter-widgets/controls",
            "layout": "IPY_MODEL_56c2a86ac34d44439c1ddc02429de949"
          }
        },
        "933f089f25484ec48443ed027bd8b352": {
          "model_module": "@jupyter-widgets/controls",
          "model_name": "ProgressStyleModel",
          "state": {
            "_view_name": "StyleView",
            "_model_name": "ProgressStyleModel",
            "description_width": "",
            "_view_module": "@jupyter-widgets/base",
            "_model_module_version": "1.5.0",
            "_view_count": null,
            "_view_module_version": "1.2.0",
            "bar_color": null,
            "_model_module": "@jupyter-widgets/controls"
          }
        },
        "ea6ea19754c141c6846eca819d7dee01": {
          "model_module": "@jupyter-widgets/base",
          "model_name": "LayoutModel",
          "state": {
            "_view_name": "LayoutView",
            "grid_template_rows": null,
            "right": null,
            "justify_content": null,
            "_view_module": "@jupyter-widgets/base",
            "overflow": null,
            "_model_module_version": "1.2.0",
            "_view_count": null,
            "flex_flow": null,
            "width": null,
            "min_width": null,
            "border": null,
            "align_items": null,
            "bottom": null,
            "_model_module": "@jupyter-widgets/base",
            "top": null,
            "grid_column": null,
            "overflow_y": null,
            "overflow_x": null,
            "grid_auto_flow": null,
            "grid_area": null,
            "grid_template_columns": null,
            "flex": null,
            "_model_name": "LayoutModel",
            "justify_items": null,
            "grid_row": null,
            "max_height": null,
            "align_content": null,
            "visibility": null,
            "align_self": null,
            "height": null,
            "min_height": null,
            "padding": null,
            "grid_auto_rows": null,
            "grid_gap": null,
            "max_width": null,
            "order": null,
            "_view_module_version": "1.2.0",
            "grid_template_areas": null,
            "object_position": null,
            "object_fit": null,
            "grid_auto_columns": null,
            "margin": null,
            "display": null,
            "left": null
          }
        },
        "b28f95403d524f319b9f81e8640698a5": {
          "model_module": "@jupyter-widgets/controls",
          "model_name": "DescriptionStyleModel",
          "state": {
            "_view_name": "StyleView",
            "_model_name": "DescriptionStyleModel",
            "description_width": "",
            "_view_module": "@jupyter-widgets/base",
            "_model_module_version": "1.5.0",
            "_view_count": null,
            "_view_module_version": "1.2.0",
            "_model_module": "@jupyter-widgets/controls"
          }
        },
        "56c2a86ac34d44439c1ddc02429de949": {
          "model_module": "@jupyter-widgets/base",
          "model_name": "LayoutModel",
          "state": {
            "_view_name": "LayoutView",
            "grid_template_rows": null,
            "right": null,
            "justify_content": null,
            "_view_module": "@jupyter-widgets/base",
            "overflow": null,
            "_model_module_version": "1.2.0",
            "_view_count": null,
            "flex_flow": null,
            "width": null,
            "min_width": null,
            "border": null,
            "align_items": null,
            "bottom": null,
            "_model_module": "@jupyter-widgets/base",
            "top": null,
            "grid_column": null,
            "overflow_y": null,
            "overflow_x": null,
            "grid_auto_flow": null,
            "grid_area": null,
            "grid_template_columns": null,
            "flex": null,
            "_model_name": "LayoutModel",
            "justify_items": null,
            "grid_row": null,
            "max_height": null,
            "align_content": null,
            "visibility": null,
            "align_self": null,
            "height": null,
            "min_height": null,
            "padding": null,
            "grid_auto_rows": null,
            "grid_gap": null,
            "max_width": null,
            "order": null,
            "_view_module_version": "1.2.0",
            "grid_template_areas": null,
            "object_position": null,
            "object_fit": null,
            "grid_auto_columns": null,
            "margin": null,
            "display": null,
            "left": null
          }
        },
        "abcd2cb3db2140078e0632791e32519b": {
          "model_module": "@jupyter-widgets/controls",
          "model_name": "HBoxModel",
          "state": {
            "_view_name": "HBoxView",
            "_dom_classes": [],
            "_model_name": "HBoxModel",
            "_view_module": "@jupyter-widgets/controls",
            "_model_module_version": "1.5.0",
            "_view_count": null,
            "_view_module_version": "1.5.0",
            "box_style": "",
            "layout": "IPY_MODEL_48996917137d47bb9b3fb59c023a4ab5",
            "_model_module": "@jupyter-widgets/controls",
            "children": [
              "IPY_MODEL_75d8673d2e1f4585a581f5fc0b3ce97f",
              "IPY_MODEL_6366a66856744da780c1f2489b4ac88f"
            ]
          }
        },
        "48996917137d47bb9b3fb59c023a4ab5": {
          "model_module": "@jupyter-widgets/base",
          "model_name": "LayoutModel",
          "state": {
            "_view_name": "LayoutView",
            "grid_template_rows": null,
            "right": null,
            "justify_content": null,
            "_view_module": "@jupyter-widgets/base",
            "overflow": null,
            "_model_module_version": "1.2.0",
            "_view_count": null,
            "flex_flow": null,
            "width": null,
            "min_width": null,
            "border": null,
            "align_items": null,
            "bottom": null,
            "_model_module": "@jupyter-widgets/base",
            "top": null,
            "grid_column": null,
            "overflow_y": null,
            "overflow_x": null,
            "grid_auto_flow": null,
            "grid_area": null,
            "grid_template_columns": null,
            "flex": null,
            "_model_name": "LayoutModel",
            "justify_items": null,
            "grid_row": null,
            "max_height": null,
            "align_content": null,
            "visibility": null,
            "align_self": null,
            "height": null,
            "min_height": null,
            "padding": null,
            "grid_auto_rows": null,
            "grid_gap": null,
            "max_width": null,
            "order": null,
            "_view_module_version": "1.2.0",
            "grid_template_areas": null,
            "object_position": null,
            "object_fit": null,
            "grid_auto_columns": null,
            "margin": null,
            "display": null,
            "left": null
          }
        },
        "75d8673d2e1f4585a581f5fc0b3ce97f": {
          "model_module": "@jupyter-widgets/controls",
          "model_name": "IntProgressModel",
          "state": {
            "_view_name": "ProgressView",
            "style": "IPY_MODEL_9ed9f9404689405eb683d4614376a184",
            "_dom_classes": [],
            "description": "",
            "_model_name": "IntProgressModel",
            "bar_style": "success",
            "max": 1,
            "_view_module": "@jupyter-widgets/controls",
            "_model_module_version": "1.5.0",
            "value": 1,
            "_view_count": null,
            "_view_module_version": "1.5.0",
            "orientation": "horizontal",
            "min": 0,
            "description_tooltip": null,
            "_model_module": "@jupyter-widgets/controls",
            "layout": "IPY_MODEL_2ba6fb48bf2448d49f8cdf3d01808307"
          }
        },
        "6366a66856744da780c1f2489b4ac88f": {
          "model_module": "@jupyter-widgets/controls",
          "model_name": "HTMLModel",
          "state": {
            "_view_name": "HTMLView",
            "style": "IPY_MODEL_e6a52e291b09475eac01c0b50ad2cdd7",
            "_dom_classes": [],
            "description": "",
            "_model_name": "HTMLModel",
            "placeholder": "​",
            "_view_module": "@jupyter-widgets/controls",
            "_model_module_version": "1.5.0",
            "value": "8192it [00:00, 42201.13it/s]",
            "_view_count": null,
            "_view_module_version": "1.5.0",
            "description_tooltip": null,
            "_model_module": "@jupyter-widgets/controls",
            "layout": "IPY_MODEL_cf4ea3916eb140a5ac7defb5417b9f29"
          }
        },
        "9ed9f9404689405eb683d4614376a184": {
          "model_module": "@jupyter-widgets/controls",
          "model_name": "ProgressStyleModel",
          "state": {
            "_view_name": "StyleView",
            "_model_name": "ProgressStyleModel",
            "description_width": "",
            "_view_module": "@jupyter-widgets/base",
            "_model_module_version": "1.5.0",
            "_view_count": null,
            "_view_module_version": "1.2.0",
            "bar_color": null,
            "_model_module": "@jupyter-widgets/controls"
          }
        },
        "2ba6fb48bf2448d49f8cdf3d01808307": {
          "model_module": "@jupyter-widgets/base",
          "model_name": "LayoutModel",
          "state": {
            "_view_name": "LayoutView",
            "grid_template_rows": null,
            "right": null,
            "justify_content": null,
            "_view_module": "@jupyter-widgets/base",
            "overflow": null,
            "_model_module_version": "1.2.0",
            "_view_count": null,
            "flex_flow": null,
            "width": null,
            "min_width": null,
            "border": null,
            "align_items": null,
            "bottom": null,
            "_model_module": "@jupyter-widgets/base",
            "top": null,
            "grid_column": null,
            "overflow_y": null,
            "overflow_x": null,
            "grid_auto_flow": null,
            "grid_area": null,
            "grid_template_columns": null,
            "flex": null,
            "_model_name": "LayoutModel",
            "justify_items": null,
            "grid_row": null,
            "max_height": null,
            "align_content": null,
            "visibility": null,
            "align_self": null,
            "height": null,
            "min_height": null,
            "padding": null,
            "grid_auto_rows": null,
            "grid_gap": null,
            "max_width": null,
            "order": null,
            "_view_module_version": "1.2.0",
            "grid_template_areas": null,
            "object_position": null,
            "object_fit": null,
            "grid_auto_columns": null,
            "margin": null,
            "display": null,
            "left": null
          }
        },
        "e6a52e291b09475eac01c0b50ad2cdd7": {
          "model_module": "@jupyter-widgets/controls",
          "model_name": "DescriptionStyleModel",
          "state": {
            "_view_name": "StyleView",
            "_model_name": "DescriptionStyleModel",
            "description_width": "",
            "_view_module": "@jupyter-widgets/base",
            "_model_module_version": "1.5.0",
            "_view_count": null,
            "_view_module_version": "1.2.0",
            "_model_module": "@jupyter-widgets/controls"
          }
        },
        "cf4ea3916eb140a5ac7defb5417b9f29": {
          "model_module": "@jupyter-widgets/base",
          "model_name": "LayoutModel",
          "state": {
            "_view_name": "LayoutView",
            "grid_template_rows": null,
            "right": null,
            "justify_content": null,
            "_view_module": "@jupyter-widgets/base",
            "overflow": null,
            "_model_module_version": "1.2.0",
            "_view_count": null,
            "flex_flow": null,
            "width": null,
            "min_width": null,
            "border": null,
            "align_items": null,
            "bottom": null,
            "_model_module": "@jupyter-widgets/base",
            "top": null,
            "grid_column": null,
            "overflow_y": null,
            "overflow_x": null,
            "grid_auto_flow": null,
            "grid_area": null,
            "grid_template_columns": null,
            "flex": null,
            "_model_name": "LayoutModel",
            "justify_items": null,
            "grid_row": null,
            "max_height": null,
            "align_content": null,
            "visibility": null,
            "align_self": null,
            "height": null,
            "min_height": null,
            "padding": null,
            "grid_auto_rows": null,
            "grid_gap": null,
            "max_width": null,
            "order": null,
            "_view_module_version": "1.2.0",
            "grid_template_areas": null,
            "object_position": null,
            "object_fit": null,
            "grid_auto_columns": null,
            "margin": null,
            "display": null,
            "left": null
          }
        }
      }
    }
  },
  "cells": [
    {
      "cell_type": "code",
      "metadata": {
        "id": "0m2JWFliFfKT",
        "colab_type": "code",
        "colab": {}
      },
      "source": [
        "from __future__ import print_function\n",
        "import torch\n",
        "import torch.nn as nn\n",
        "import torch.nn.functional as F\n",
        "import torch.optim as optim\n",
        "from torchvision import datasets, transforms\n",
        "#!pip install torchsummary\n",
        "from torchsummary import summary\n",
        "import pandas as pd\n",
        "import numpy as np"
      ],
      "execution_count": 0,
      "outputs": []
    },
    {
      "cell_type": "code",
      "metadata": {
        "id": "Z5URrMGAo1tU",
        "colab_type": "code",
        "colab": {}
      },
      "source": [
        "# To store the torch files\n",
        "!mkdir -p \"EVA4\""
      ],
      "execution_count": 0,
      "outputs": []
    },
    {
      "cell_type": "code",
      "metadata": {
        "id": "OONup7Ukaulv",
        "colab_type": "code",
        "colab": {}
      },
      "source": [
        "use_cuda = torch.cuda.is_available()\n",
        "device = torch.device(\"cuda\" if use_cuda else \"cpu\")"
      ],
      "execution_count": 0,
      "outputs": []
    },
    {
      "cell_type": "code",
      "metadata": {
        "id": "P1r80paEnvlX",
        "colab_type": "code",
        "colab": {}
      },
      "source": [
        "class MNISTDigitBuilder(nn.Module):\n",
        "    def __init__(self, dropout=0.1):\n",
        "        super(MNISTDigitBuilder, self).__init__()\n",
        "        self.dropout_val = dropout\n",
        "        self.bias = False\n",
        "        self.convblock1 = nn.Sequential(nn.Conv2d(in_channels=1, out_channels=10, kernel_size=(3, 3), padding=1, bias=self.bias),nn.ReLU(),nn.BatchNorm2d(10), nn.Dropout(self.dropout_val)) \n",
        "        self.convblock2 = nn.Sequential(nn.Conv2d(in_channels=10, out_channels=16, kernel_size=(3, 3), padding=1, bias=self.bias),nn.ReLU(),nn.BatchNorm2d(16), nn.Dropout(self.dropout_val))\n",
        "        self.convblock3 = nn.Conv2d(in_channels=16, out_channels=10, kernel_size=(1, 1), padding=0, bias=self.bias)\n",
        "        self.pool1 = nn.MaxPool2d(2, 2)\n",
        "        self.convblock4 = nn.Sequential(nn.Conv2d(in_channels=10, out_channels=16, kernel_size=(3, 3), padding=1, bias=self.bias),nn.ReLU(),nn.BatchNorm2d(16), nn.Dropout(self.dropout_val))\n",
        "        self.convblock5 = nn.Sequential(nn.Conv2d(in_channels=16, out_channels=16, kernel_size=(3, 3), padding=1, bias=self.bias),nn.ReLU(),nn.BatchNorm2d(16), nn.Dropout(self.dropout_val))\n",
        "        self.convblock6 = nn.Conv2d(in_channels=16, out_channels=10, kernel_size=(1, 1), padding=0, bias=self.bias)\n",
        "        self.convblock7 = nn.Sequential(nn.Conv2d(in_channels=10, out_channels=16, kernel_size=(3, 3), padding=1, bias=self.bias),nn.ReLU(),nn.BatchNorm2d(16), nn.Dropout(self.dropout_val))\n",
        "        self.convblock8 = nn.Sequential(nn.Conv2d(in_channels=16, out_channels=16, kernel_size=(3, 3), padding=1, bias=self.bias),nn.ReLU(),nn.BatchNorm2d(16), nn.Dropout(self.dropout_val))\n",
        "        self.gap = nn.Sequential(nn.AvgPool2d(kernel_size=7)) # output_size = 1\n",
        "        self.convblock9 = nn.Conv2d(in_channels=16, out_channels=10, kernel_size=(1, 1), padding=0, bias=self.bias)\n",
        "        #self.conv6 = nn.Conv2d(32, 32, 3)\n",
        "        #self.conv7 = nn.Conv2d(32, 10, 3)\n",
        "\n",
        "        \n",
        "    def forward(self, x):\n",
        "\n",
        "      x = self.convblock1(x) #input - 28; Output - 28; RF - 3; output channels - 10\n",
        "      x = self.convblock2(x) #input - 28; Output - 28; RF - 5; output channels - 16\n",
        "      x = self.convblock3(x) #input - 28; Output - 28; RF - 5; output channels - 10\n",
        "      x = self.pool1(x) #input - 28; Output - 14; RF - 6; output channels - 10\n",
        "      x = self.convblock4(x)#input - 14; Output - 14; RF - 10; output channels - 16\n",
        "      x = self.convblock5(x)#input - 14; Output - 14; RF - 14; output channels - 16\n",
        "      x = self.convblock6(x)#input - 14; Output - 14; RF - 14; output channels - 10\n",
        "      x = self.pool1(x) #input - 14; Output - 7; RF - 16; output channels - 10\n",
        "      x = self.convblock7(x) #input - 7; Output - 7; RF - 24; output channels - 10\n",
        "      x = self.convblock8(x)  #input - 7; Output - 7; RF - 32; output channels - 16\n",
        "      x = self.gap(x)        \n",
        "      x = self.convblock9(x)\n",
        "      x = x.view(-1, 10)\n",
        "      return F.log_softmax(x)\n",
        "\n",
        "\"\"\"\n",
        "    Creates the model object on the specified device\n",
        "\"\"\"\n",
        "def model_builder(model_class=None, weights_path=None, local_device=torch.device(\"cpu\")):\n",
        "    if (model_class == None):\n",
        "        print(\"Please provide the model object to be used\")\n",
        "        return\n",
        "    local_model = model_class()#.to(local_device)\n",
        "    try:\n",
        "        if (weights_path != None):\n",
        "            checkpoint = torch.load(weights_path)\n",
        "            local_model.load_state_dict(checkpoint['model_state_dict'])\n",
        "                #torch.load(weights_path, map_location=local_device))           \n",
        "    except:\n",
        "        print(\"Some execption occured during loading the model\")\n",
        "    return local_model.to(local_device)\n"
      ],
      "execution_count": 0,
      "outputs": []
    },
    {
      "cell_type": "code",
      "metadata": {
        "colab_type": "code",
        "id": "8yK0H_aUgPMk",
        "colab": {}
      },
      "source": [
        "import random\n",
        "import os\n",
        "import numpy as np\n",
        "import pandas as pd\n",
        "\n",
        "def generate_model_save_path(base=\"/content/EVA4/\",mod_string=None):\n",
        "    file_name = \"model-\"+mod_string+\".h5\"\n",
        "    return os.path.join(base,file_name)"
      ],
      "execution_count": 0,
      "outputs": []
    },
    {
      "cell_type": "code",
      "metadata": {
        "id": "MU0GFDJNJXWS",
        "colab_type": "code",
        "outputId": "b593674f-609c-424f-8f16-b0ff09e7ff17",
        "colab": {
          "base_uri": "https://localhost:8080/",
          "height": 765
        }
      },
      "source": [
        "model = MNISTDigitBuilder(dropout=0.1).to(device)\n",
        "summary(model, input_size=(1, 28, 28))\n"
      ],
      "execution_count": 0,
      "outputs": [
        {
          "output_type": "stream",
          "text": [
            "----------------------------------------------------------------\n",
            "        Layer (type)               Output Shape         Param #\n",
            "================================================================\n",
            "            Conv2d-1           [-1, 10, 28, 28]              90\n",
            "              ReLU-2           [-1, 10, 28, 28]               0\n",
            "       BatchNorm2d-3           [-1, 10, 28, 28]              20\n",
            "           Dropout-4           [-1, 10, 28, 28]               0\n",
            "            Conv2d-5           [-1, 16, 28, 28]           1,440\n",
            "              ReLU-6           [-1, 16, 28, 28]               0\n",
            "       BatchNorm2d-7           [-1, 16, 28, 28]              32\n",
            "           Dropout-8           [-1, 16, 28, 28]               0\n",
            "            Conv2d-9           [-1, 10, 28, 28]             160\n",
            "        MaxPool2d-10           [-1, 10, 14, 14]               0\n",
            "           Conv2d-11           [-1, 16, 14, 14]           1,440\n",
            "             ReLU-12           [-1, 16, 14, 14]               0\n",
            "      BatchNorm2d-13           [-1, 16, 14, 14]              32\n",
            "          Dropout-14           [-1, 16, 14, 14]               0\n",
            "           Conv2d-15           [-1, 16, 14, 14]           2,304\n",
            "             ReLU-16           [-1, 16, 14, 14]               0\n",
            "      BatchNorm2d-17           [-1, 16, 14, 14]              32\n",
            "          Dropout-18           [-1, 16, 14, 14]               0\n",
            "           Conv2d-19           [-1, 10, 14, 14]             160\n",
            "        MaxPool2d-20             [-1, 10, 7, 7]               0\n",
            "           Conv2d-21             [-1, 16, 7, 7]           1,440\n",
            "             ReLU-22             [-1, 16, 7, 7]               0\n",
            "      BatchNorm2d-23             [-1, 16, 7, 7]              32\n",
            "          Dropout-24             [-1, 16, 7, 7]               0\n",
            "           Conv2d-25             [-1, 16, 7, 7]           2,304\n",
            "             ReLU-26             [-1, 16, 7, 7]               0\n",
            "      BatchNorm2d-27             [-1, 16, 7, 7]              32\n",
            "          Dropout-28             [-1, 16, 7, 7]               0\n",
            "        AvgPool2d-29             [-1, 16, 1, 1]               0\n",
            "           Conv2d-30             [-1, 10, 1, 1]             160\n",
            "================================================================\n",
            "Total params: 9,678\n",
            "Trainable params: 9,678\n",
            "Non-trainable params: 0\n",
            "----------------------------------------------------------------\n",
            "Input size (MB): 0.00\n",
            "Forward/backward pass size (MB): 0.95\n",
            "Params size (MB): 0.04\n",
            "Estimated Total Size (MB): 0.99\n",
            "----------------------------------------------------------------\n"
          ],
          "name": "stdout"
        },
        {
          "output_type": "stream",
          "text": [
            "/usr/local/lib/python3.6/dist-packages/ipykernel_launcher.py:36: UserWarning: Implicit dimension choice for log_softmax has been deprecated. Change the call to include dim=X as an argument.\n"
          ],
          "name": "stderr"
        }
      ]
    },
    {
      "cell_type": "code",
      "metadata": {
        "id": "DqTWLaM5GHgH",
        "colab_type": "code",
        "colab": {}
      },
      "source": [
        "train_transforms = transforms.Compose([\n",
        "                                      #  transforms.Resize((28, 28)),\n",
        "                                      #  transforms.ColorJitter(brightness=0.10, contrast=0.1, saturation=0.10, hue=0.1),\n",
        "                                       #transforms.RandomRotation((-7.0, 7.0), fill=(1,)),\n",
        "                                       transforms.ToTensor(),\n",
        "                                       transforms.Normalize((0.1307,), (0.3081,)) # The mean and std have to be sequences (e.g., tuples), therefore you should add a comma after the values. \n",
        "                                       # Note the difference between (0.1307) and (0.1307,)\n",
        "                                       ])\n",
        "\n",
        "# Test Phase transformations\n",
        "test_transforms = transforms.Compose([\n",
        "                                      #  transforms.Resize((28, 28)),\n",
        "                                      #  transforms.ColorJitter(brightness=0.10, contrast=0.1, saturation=0.10, hue=0.1),\n",
        "                                       #transforms.RandomRotation((-7.0, 7.0), fill=(1,)),\n",
        "                                       transforms.ToTensor(),\n",
        "                                       transforms.Normalize((0.1307,), (0.3081,))\n",
        "                                       ])"
      ],
      "execution_count": 0,
      "outputs": []
    },
    {
      "cell_type": "code",
      "metadata": {
        "id": "8fDefDhaFlwH",
        "colab_type": "code",
        "colab": {}
      },
      "source": [
        "from tqdm import tqdm\n",
        "def train(args, model, device, train_loader, optimizer, epoch_number,l1_loss=False, l1_beta = 0):\n",
        "    model.train()\n",
        "    pbar = tqdm(train_loader)\n",
        "    train_loss = 0\n",
        "    train_accuracy = 0\n",
        "    for batch_idx, (data, target) in enumerate(pbar):\n",
        "        data, target = data.to(device), target.to(device)\n",
        "        optimizer.zero_grad()\n",
        "        output = model(data)\n",
        "        pred = output.argmax(dim=1, keepdim=True)  # get the index of the max log-probability\n",
        "        train_accuracy += pred.eq(target.view_as(pred)).sum().item()\n",
        "        loss = F.nll_loss(output, target)\n",
        "        if l1_loss == True:\n",
        "            l1_crit = nn.L1Loss(size_average=False)\n",
        "            reg_loss = 0\n",
        "            for param in model.parameters():\n",
        "                target = torch.zeros_like(param)    \n",
        "                reg_loss += l1_crit(param, target)\n",
        "            loss += (l1_beta * reg_loss)\n",
        "        loss.backward()\n",
        "        optimizer.step()\n",
        "        pbar.set_description(desc= f'loss={loss.item()} batch_id={batch_idx}')\n",
        "        train_loss += loss.item()\n",
        "\n",
        "    train_loss /= len(train_loader.dataset)\n",
        "    train_accuracy = (100. * train_accuracy) / len(train_loader.dataset)\n",
        "    return train_accuracy, train_loss\n",
        "\n",
        "def test(args, model, device, test_loader, epoch_number):\n",
        "    model.eval()\n",
        "    test_loss = 0\n",
        "    correct = 0\n",
        "    example_images = []\n",
        "    with torch.no_grad():\n",
        "        for data, target in test_loader:\n",
        "            data, target = data.to(device), target.to(device)\n",
        "            output = model(data)\n",
        "            test_loss += F.nll_loss(output, target, reduction='sum').item()  # sum up batch loss\n",
        "            pred = output.argmax(dim=1, keepdim=True)  # get the index of the max log-probability\n",
        "            correct += pred.eq(target.view_as(pred)).sum().item()\n",
        "    test_loss /= len(test_loader.dataset)\n",
        "    test_accuracy = (100. * correct) / len(test_loader.dataset)\n",
        "    return test_accuracy, test_loss"
      ],
      "execution_count": 0,
      "outputs": []
    },
    {
      "cell_type": "markdown",
      "metadata": {
        "id": "yqZWGDhpsFpA",
        "colab_type": "text"
      },
      "source": [
        "# Base Model with 40 Epochs\n",
        "# Model-Path: /content/EVA4/model-baseline.h5"
      ]
    },
    {
      "cell_type": "code",
      "metadata": {
        "colab_type": "code",
        "outputId": "0dcd6bce-1ce6-45db-d2ee-f62de2edb529",
        "id": "NWeSsUFD5UXj",
        "colab": {
          "base_uri": "https://localhost:8080/",
          "height": 1000
        }
      },
      "source": [
        "from torch.optim.lr_scheduler import StepLR, OneCycleLR, MultiStepLR\n",
        "import os\n",
        "hyperparameter_defaults = dict(\n",
        "    dropout = 0.1,\n",
        "    batch_size = 82,\n",
        "    test_batch_size=34,\n",
        "    lr = 0.025, \n",
        "    momentum = 0.9,\n",
        "    no_cuda = False,\n",
        "    seed = 1,\n",
        "    epochs = 40,\n",
        "    bias = False,\n",
        "    sched_lr_gamma = 0.5,\n",
        "    sched_lr_step= 2,\n",
        "    start_lr = 7,\n",
        "    weight_decay=0\n",
        "    )\n",
        "\n",
        "Baseline_Model_Metrics={\n",
        "    'Train Accuracy': [], \n",
        "    'Train Loss': [], \n",
        "    'Test Accuracy':[], \n",
        "    'Test Loss': [],\n",
        "    'Learning Rate': [], \n",
        "    'Decay Learning Rate': []\n",
        "}\n",
        "\n",
        "config = hyperparameter_defaults\n",
        "model_path = generate_model_save_path(mod_string=\"baseline\")\n",
        "print(\"Model will be saved to:\", model_path)\n",
        "\n",
        "def main():\n",
        "    use_cuda = not config['no_cuda'] and torch.cuda.is_available()\n",
        "    device = torch.device(\"cuda\" if use_cuda else \"cpu\")\n",
        "    kwargs = {'num_workers': 4, 'pin_memory': True} if use_cuda else {}\n",
        "  \n",
        "    torch.manual_seed(config['seed']) # pytorch random seed\n",
        "    torch.backends.cudnn.deterministic = True\n",
        "\n",
        "    train_loader = torch.utils.data.DataLoader(\n",
        "        datasets.MNIST('../data', train=True, download=True,\n",
        "                        transform=train_transforms),\n",
        "        batch_size=config['batch_size'], shuffle=True, **kwargs)\n",
        "    test_loader = torch.utils.data.DataLoader(\n",
        "        datasets.MNIST('../data', train=False, transform=test_transforms),\n",
        "        batch_size=config['batch_size'], shuffle=True, **kwargs)\n",
        "    \n",
        "    model = MNISTDigitBuilder(dropout=config['dropout']).to(device)\n",
        "    optimizer = optim.SGD(model.parameters(), lr=config['lr'],\n",
        "                          momentum=config['momentum'], weight_decay=config['weight_decay'])\n",
        "    \n",
        "    scheduler = StepLR(optimizer, step_size=config['sched_lr_step'], gamma=config['sched_lr_gamma'])\n",
        "\n",
        "    for epoch in range(1, config['epochs'] + 1):\n",
        "        epoch_train_acc,epoch_train_loss = train(config, model, device, train_loader, optimizer, epoch)        \n",
        "        epoch_test_acc,epoch_test_loss = test(config, model, device, test_loader,epoch)\n",
        "\n",
        "        print('\\nEpoch: {:.0f} Train set: Average loss: {:.4f}, Accuracy: {:.3f}%'.format(epoch, epoch_train_loss, epoch_train_acc))\n",
        "        print('Epoch: {:.0f} Test set: Average loss: {:.4f}, Accuracy: {:.3f}%'.format(epoch, epoch_test_loss, epoch_test_acc))\n",
        "        myoptim = optimizer.state_dict()['param_groups'][0]\n",
        "\n",
        "        print('Epoch: {:.0f} Optimizer values: LastLR:{:.10f}, Momentum: {:.10f}, Weight Decay: {:.10f}'.format(\n",
        "        epoch, scheduler.get_last_lr()[0],myoptim['momentum'],myoptim['weight_decay']))\n",
        "       \n",
        "        Baseline_Model_Metrics['Train Accuracy'].append(epoch_train_acc)\n",
        "        Baseline_Model_Metrics['Train Loss'].append(epoch_train_loss)\n",
        "        Baseline_Model_Metrics['Test Accuracy'].append(epoch_test_acc)\n",
        "        Baseline_Model_Metrics['Test Loss'].append(epoch_test_loss)\n",
        "        Baseline_Model_Metrics['Learning Rate'].append(config['lr'])\n",
        "        Baseline_Model_Metrics['Decay Learning Rate'].append(scheduler.get_lr()) \n",
        "\n",
        "        if (epoch > config['start_lr']):\n",
        "            scheduler.step()\n",
        "\n",
        "    torch.save({\n",
        "            'model_state_dict': model.state_dict(),\n",
        "            'optimizer_state_dict': optimizer.state_dict()\n",
        "            }, model_path)\n",
        "\n",
        "if __name__ == '__main__':\n",
        "    main()"
      ],
      "execution_count": 0,
      "outputs": [
        {
          "output_type": "stream",
          "text": [
            "\r  0%|          | 0/732 [00:00<?, ?it/s]"
          ],
          "name": "stderr"
        },
        {
          "output_type": "stream",
          "text": [
            "Model will be saved to: /content/EVA4/model-baseline.h5\n"
          ],
          "name": "stdout"
        },
        {
          "output_type": "stream",
          "text": [
            "/usr/local/lib/python3.6/dist-packages/ipykernel_launcher.py:36: UserWarning: Implicit dimension choice for log_softmax has been deprecated. Change the call to include dim=X as an argument.\n",
            "loss=0.11275625228881836 batch_id=731: 100%|██████████| 732/732 [00:13<00:00, 53.25it/s]\n",
            "  0%|          | 0/732 [00:00<?, ?it/s]"
          ],
          "name": "stderr"
        },
        {
          "output_type": "stream",
          "text": [
            "\n",
            "Epoch: 1 Train set: Average loss: 0.0041, Accuracy: 90.263%\n",
            "Epoch: 1 Test set: Average loss: 0.1011, Accuracy: 96.900%\n",
            "Epoch: 1 Optimizer values: LastLR:0.0250000000, Momentum: 0.9000000000, Weight Decay: 0.0000000000\n"
          ],
          "name": "stdout"
        },
        {
          "output_type": "stream",
          "text": [
            "loss=0.014947882853448391 batch_id=731: 100%|██████████| 732/732 [00:13<00:00, 60.95it/s]\n",
            "  0%|          | 0/732 [00:00<?, ?it/s]"
          ],
          "name": "stderr"
        },
        {
          "output_type": "stream",
          "text": [
            "\n",
            "Epoch: 2 Train set: Average loss: 0.0011, Accuracy: 97.400%\n",
            "Epoch: 2 Test set: Average loss: 0.0745, Accuracy: 97.680%\n",
            "Epoch: 2 Optimizer values: LastLR:0.0250000000, Momentum: 0.9000000000, Weight Decay: 0.0000000000\n"
          ],
          "name": "stdout"
        },
        {
          "output_type": "stream",
          "text": [
            "loss=0.11724220216274261 batch_id=731: 100%|██████████| 732/732 [00:13<00:00, 53.91it/s]\n",
            "  0%|          | 0/732 [00:00<?, ?it/s]"
          ],
          "name": "stderr"
        },
        {
          "output_type": "stream",
          "text": [
            "\n",
            "Epoch: 3 Train set: Average loss: 0.0009, Accuracy: 97.865%\n",
            "Epoch: 3 Test set: Average loss: 0.0872, Accuracy: 97.500%\n",
            "Epoch: 3 Optimizer values: LastLR:0.0250000000, Momentum: 0.9000000000, Weight Decay: 0.0000000000\n"
          ],
          "name": "stdout"
        },
        {
          "output_type": "stream",
          "text": [
            "loss=0.010535972192883492 batch_id=731: 100%|██████████| 732/732 [00:13<00:00, 53.73it/s]\n",
            "  0%|          | 0/732 [00:00<?, ?it/s]"
          ],
          "name": "stderr"
        },
        {
          "output_type": "stream",
          "text": [
            "\n",
            "Epoch: 4 Train set: Average loss: 0.0007, Accuracy: 98.213%\n",
            "Epoch: 4 Test set: Average loss: 0.0674, Accuracy: 97.760%\n",
            "Epoch: 4 Optimizer values: LastLR:0.0250000000, Momentum: 0.9000000000, Weight Decay: 0.0000000000\n"
          ],
          "name": "stdout"
        },
        {
          "output_type": "stream",
          "text": [
            "loss=0.09963342547416687 batch_id=731: 100%|██████████| 732/732 [00:13<00:00, 52.96it/s]\n",
            "  0%|          | 0/732 [00:00<?, ?it/s]"
          ],
          "name": "stderr"
        },
        {
          "output_type": "stream",
          "text": [
            "\n",
            "Epoch: 5 Train set: Average loss: 0.0007, Accuracy: 98.298%\n",
            "Epoch: 5 Test set: Average loss: 0.0481, Accuracy: 98.450%\n",
            "Epoch: 5 Optimizer values: LastLR:0.0250000000, Momentum: 0.9000000000, Weight Decay: 0.0000000000\n"
          ],
          "name": "stdout"
        },
        {
          "output_type": "stream",
          "text": [
            "loss=0.041842617094516754 batch_id=731: 100%|██████████| 732/732 [00:13<00:00, 52.99it/s]\n",
            "  0%|          | 0/732 [00:00<?, ?it/s]"
          ],
          "name": "stderr"
        },
        {
          "output_type": "stream",
          "text": [
            "\n",
            "Epoch: 6 Train set: Average loss: 0.0006, Accuracy: 98.410%\n",
            "Epoch: 6 Test set: Average loss: 0.0519, Accuracy: 98.430%\n",
            "Epoch: 6 Optimizer values: LastLR:0.0250000000, Momentum: 0.9000000000, Weight Decay: 0.0000000000\n"
          ],
          "name": "stdout"
        },
        {
          "output_type": "stream",
          "text": [
            "loss=0.013806630857288837 batch_id=731: 100%|██████████| 732/732 [00:14<00:00, 51.61it/s]\n",
            "  0%|          | 0/732 [00:00<?, ?it/s]"
          ],
          "name": "stderr"
        },
        {
          "output_type": "stream",
          "text": [
            "\n",
            "Epoch: 7 Train set: Average loss: 0.0006, Accuracy: 98.585%\n",
            "Epoch: 7 Test set: Average loss: 0.0406, Accuracy: 98.830%\n",
            "Epoch: 7 Optimizer values: LastLR:0.0250000000, Momentum: 0.9000000000, Weight Decay: 0.0000000000\n"
          ],
          "name": "stdout"
        },
        {
          "output_type": "stream",
          "text": [
            "loss=0.1918404996395111 batch_id=731: 100%|██████████| 732/732 [00:13<00:00, 53.58it/s]\n",
            "  0%|          | 0/732 [00:00<?, ?it/s]"
          ],
          "name": "stderr"
        },
        {
          "output_type": "stream",
          "text": [
            "\n",
            "Epoch: 8 Train set: Average loss: 0.0005, Accuracy: 98.692%\n",
            "Epoch: 8 Test set: Average loss: 0.0485, Accuracy: 98.460%\n",
            "Epoch: 8 Optimizer values: LastLR:0.0250000000, Momentum: 0.9000000000, Weight Decay: 0.0000000000\n"
          ],
          "name": "stdout"
        },
        {
          "output_type": "stream",
          "text": [
            "loss=0.005582604091614485 batch_id=731: 100%|██████████| 732/732 [00:13<00:00, 62.25it/s]\n",
            "  0%|          | 0/732 [00:00<?, ?it/s]"
          ],
          "name": "stderr"
        },
        {
          "output_type": "stream",
          "text": [
            "\n",
            "Epoch: 9 Train set: Average loss: 0.0005, Accuracy: 98.727%\n",
            "Epoch: 9 Test set: Average loss: 0.0427, Accuracy: 98.560%\n",
            "Epoch: 9 Optimizer values: LastLR:0.0250000000, Momentum: 0.9000000000, Weight Decay: 0.0000000000\n"
          ],
          "name": "stdout"
        },
        {
          "output_type": "stream",
          "text": [
            "loss=0.017224213108420372 batch_id=731: 100%|██████████| 732/732 [00:13<00:00, 53.22it/s]\n",
            "  0%|          | 0/732 [00:00<?, ?it/s]"
          ],
          "name": "stderr"
        },
        {
          "output_type": "stream",
          "text": [
            "\n",
            "Epoch: 10 Train set: Average loss: 0.0004, Accuracy: 98.898%\n",
            "Epoch: 10 Test set: Average loss: 0.0439, Accuracy: 98.580%\n",
            "Epoch: 10 Optimizer values: LastLR:0.0125000000, Momentum: 0.9000000000, Weight Decay: 0.0000000000\n"
          ],
          "name": "stdout"
        },
        {
          "output_type": "stream",
          "text": [
            "loss=0.029313478618860245 batch_id=731: 100%|██████████| 732/732 [00:13<00:00, 54.59it/s]\n",
            "  0%|          | 0/732 [00:00<?, ?it/s]"
          ],
          "name": "stderr"
        },
        {
          "output_type": "stream",
          "text": [
            "\n",
            "Epoch: 11 Train set: Average loss: 0.0004, Accuracy: 99.010%\n",
            "Epoch: 11 Test set: Average loss: 0.0419, Accuracy: 98.750%\n",
            "Epoch: 11 Optimizer values: LastLR:0.0125000000, Momentum: 0.9000000000, Weight Decay: 0.0000000000\n"
          ],
          "name": "stdout"
        },
        {
          "output_type": "stream",
          "text": [
            "loss=0.023138638585805893 batch_id=731: 100%|██████████| 732/732 [00:13<00:00, 60.90it/s]\n",
            "  0%|          | 0/732 [00:00<?, ?it/s]"
          ],
          "name": "stderr"
        },
        {
          "output_type": "stream",
          "text": [
            "\n",
            "Epoch: 12 Train set: Average loss: 0.0004, Accuracy: 99.103%\n",
            "Epoch: 12 Test set: Average loss: 0.0387, Accuracy: 98.780%\n",
            "Epoch: 12 Optimizer values: LastLR:0.0062500000, Momentum: 0.9000000000, Weight Decay: 0.0000000000\n"
          ],
          "name": "stdout"
        },
        {
          "output_type": "stream",
          "text": [
            "loss=0.012170824222266674 batch_id=731: 100%|██████████| 732/732 [00:13<00:00, 53.48it/s]\n",
            "  0%|          | 0/732 [00:00<?, ?it/s]"
          ],
          "name": "stderr"
        },
        {
          "output_type": "stream",
          "text": [
            "\n",
            "Epoch: 13 Train set: Average loss: 0.0003, Accuracy: 99.137%\n",
            "Epoch: 13 Test set: Average loss: 0.0376, Accuracy: 98.800%\n",
            "Epoch: 13 Optimizer values: LastLR:0.0062500000, Momentum: 0.9000000000, Weight Decay: 0.0000000000\n"
          ],
          "name": "stdout"
        },
        {
          "output_type": "stream",
          "text": [
            "loss=0.13795635104179382 batch_id=731: 100%|██████████| 732/732 [00:13<00:00, 52.84it/s]\n",
            "  0%|          | 0/732 [00:00<?, ?it/s]"
          ],
          "name": "stderr"
        },
        {
          "output_type": "stream",
          "text": [
            "\n",
            "Epoch: 14 Train set: Average loss: 0.0003, Accuracy: 99.198%\n",
            "Epoch: 14 Test set: Average loss: 0.0366, Accuracy: 98.770%\n",
            "Epoch: 14 Optimizer values: LastLR:0.0031250000, Momentum: 0.9000000000, Weight Decay: 0.0000000000\n"
          ],
          "name": "stdout"
        },
        {
          "output_type": "stream",
          "text": [
            "loss=0.006471674889326096 batch_id=731: 100%|██████████| 732/732 [00:13<00:00, 53.77it/s]\n",
            "  0%|          | 0/732 [00:00<?, ?it/s]"
          ],
          "name": "stderr"
        },
        {
          "output_type": "stream",
          "text": [
            "\n",
            "Epoch: 15 Train set: Average loss: 0.0004, Accuracy: 99.095%\n",
            "Epoch: 15 Test set: Average loss: 0.0409, Accuracy: 98.800%\n",
            "Epoch: 15 Optimizer values: LastLR:0.0031250000, Momentum: 0.9000000000, Weight Decay: 0.0000000000\n"
          ],
          "name": "stdout"
        },
        {
          "output_type": "stream",
          "text": [
            "loss=0.015827015042304993 batch_id=731: 100%|██████████| 732/732 [00:13<00:00, 54.42it/s]\n",
            "  0%|          | 0/732 [00:00<?, ?it/s]"
          ],
          "name": "stderr"
        },
        {
          "output_type": "stream",
          "text": [
            "\n",
            "Epoch: 16 Train set: Average loss: 0.0003, Accuracy: 99.163%\n",
            "Epoch: 16 Test set: Average loss: 0.0368, Accuracy: 98.850%\n",
            "Epoch: 16 Optimizer values: LastLR:0.0015625000, Momentum: 0.9000000000, Weight Decay: 0.0000000000\n"
          ],
          "name": "stdout"
        },
        {
          "output_type": "stream",
          "text": [
            "loss=0.028949547559022903 batch_id=731: 100%|██████████| 732/732 [00:13<00:00, 53.23it/s]\n",
            "  0%|          | 0/732 [00:00<?, ?it/s]"
          ],
          "name": "stderr"
        },
        {
          "output_type": "stream",
          "text": [
            "\n",
            "Epoch: 17 Train set: Average loss: 0.0003, Accuracy: 99.178%\n",
            "Epoch: 17 Test set: Average loss: 0.0360, Accuracy: 98.840%\n",
            "Epoch: 17 Optimizer values: LastLR:0.0015625000, Momentum: 0.9000000000, Weight Decay: 0.0000000000\n"
          ],
          "name": "stdout"
        },
        {
          "output_type": "stream",
          "text": [
            "loss=0.02510933205485344 batch_id=731: 100%|██████████| 732/732 [00:13<00:00, 53.28it/s]\n",
            "  0%|          | 0/732 [00:00<?, ?it/s]"
          ],
          "name": "stderr"
        },
        {
          "output_type": "stream",
          "text": [
            "\n",
            "Epoch: 18 Train set: Average loss: 0.0003, Accuracy: 99.195%\n",
            "Epoch: 18 Test set: Average loss: 0.0378, Accuracy: 98.840%\n",
            "Epoch: 18 Optimizer values: LastLR:0.0007812500, Momentum: 0.9000000000, Weight Decay: 0.0000000000\n"
          ],
          "name": "stdout"
        },
        {
          "output_type": "stream",
          "text": [
            "loss=0.016456859186291695 batch_id=731: 100%|██████████| 732/732 [00:13<00:00, 54.82it/s]\n",
            "  0%|          | 0/732 [00:00<?, ?it/s]"
          ],
          "name": "stderr"
        },
        {
          "output_type": "stream",
          "text": [
            "\n",
            "Epoch: 19 Train set: Average loss: 0.0003, Accuracy: 99.240%\n",
            "Epoch: 19 Test set: Average loss: 0.0396, Accuracy: 98.700%\n",
            "Epoch: 19 Optimizer values: LastLR:0.0007812500, Momentum: 0.9000000000, Weight Decay: 0.0000000000\n"
          ],
          "name": "stdout"
        },
        {
          "output_type": "stream",
          "text": [
            "loss=0.0020917695946991444 batch_id=731: 100%|██████████| 732/732 [00:13<00:00, 61.92it/s]\n",
            "  0%|          | 0/732 [00:00<?, ?it/s]"
          ],
          "name": "stderr"
        },
        {
          "output_type": "stream",
          "text": [
            "\n",
            "Epoch: 20 Train set: Average loss: 0.0003, Accuracy: 99.215%\n",
            "Epoch: 20 Test set: Average loss: 0.0369, Accuracy: 98.840%\n",
            "Epoch: 20 Optimizer values: LastLR:0.0003906250, Momentum: 0.9000000000, Weight Decay: 0.0000000000\n"
          ],
          "name": "stdout"
        },
        {
          "output_type": "stream",
          "text": [
            "loss=0.003865949111059308 batch_id=731: 100%|██████████| 732/732 [00:13<00:00, 53.26it/s]\n",
            "  0%|          | 0/732 [00:00<?, ?it/s]"
          ],
          "name": "stderr"
        },
        {
          "output_type": "stream",
          "text": [
            "\n",
            "Epoch: 21 Train set: Average loss: 0.0003, Accuracy: 99.217%\n",
            "Epoch: 21 Test set: Average loss: 0.0342, Accuracy: 98.910%\n",
            "Epoch: 21 Optimizer values: LastLR:0.0003906250, Momentum: 0.9000000000, Weight Decay: 0.0000000000\n"
          ],
          "name": "stdout"
        },
        {
          "output_type": "stream",
          "text": [
            "loss=0.04597011208534241 batch_id=731: 100%|██████████| 732/732 [00:13<00:00, 53.85it/s]\n",
            "  0%|          | 0/732 [00:00<?, ?it/s]"
          ],
          "name": "stderr"
        },
        {
          "output_type": "stream",
          "text": [
            "\n",
            "Epoch: 22 Train set: Average loss: 0.0003, Accuracy: 99.162%\n",
            "Epoch: 22 Test set: Average loss: 0.0376, Accuracy: 98.790%\n",
            "Epoch: 22 Optimizer values: LastLR:0.0001953125, Momentum: 0.9000000000, Weight Decay: 0.0000000000\n"
          ],
          "name": "stdout"
        },
        {
          "output_type": "stream",
          "text": [
            "loss=0.0028170552104711533 batch_id=731: 100%|██████████| 732/732 [00:13<00:00, 53.77it/s]\n",
            "  0%|          | 0/732 [00:00<?, ?it/s]"
          ],
          "name": "stderr"
        },
        {
          "output_type": "stream",
          "text": [
            "\n",
            "Epoch: 23 Train set: Average loss: 0.0003, Accuracy: 99.202%\n",
            "Epoch: 23 Test set: Average loss: 0.0377, Accuracy: 98.780%\n",
            "Epoch: 23 Optimizer values: LastLR:0.0001953125, Momentum: 0.9000000000, Weight Decay: 0.0000000000\n"
          ],
          "name": "stdout"
        },
        {
          "output_type": "stream",
          "text": [
            "loss=0.014288244768977165 batch_id=731: 100%|██████████| 732/732 [00:13<00:00, 55.09it/s]\n",
            "  0%|          | 0/732 [00:00<?, ?it/s]"
          ],
          "name": "stderr"
        },
        {
          "output_type": "stream",
          "text": [
            "\n",
            "Epoch: 24 Train set: Average loss: 0.0003, Accuracy: 99.195%\n",
            "Epoch: 24 Test set: Average loss: 0.0374, Accuracy: 98.810%\n",
            "Epoch: 24 Optimizer values: LastLR:0.0000976563, Momentum: 0.9000000000, Weight Decay: 0.0000000000\n"
          ],
          "name": "stdout"
        },
        {
          "output_type": "stream",
          "text": [
            "loss=0.09771385043859482 batch_id=731: 100%|██████████| 732/732 [00:13<00:00, 53.24it/s]\n",
            "  0%|          | 0/732 [00:00<?, ?it/s]"
          ],
          "name": "stderr"
        },
        {
          "output_type": "stream",
          "text": [
            "\n",
            "Epoch: 25 Train set: Average loss: 0.0003, Accuracy: 99.220%\n",
            "Epoch: 25 Test set: Average loss: 0.0372, Accuracy: 98.830%\n",
            "Epoch: 25 Optimizer values: LastLR:0.0000976563, Momentum: 0.9000000000, Weight Decay: 0.0000000000\n"
          ],
          "name": "stdout"
        },
        {
          "output_type": "stream",
          "text": [
            "loss=0.001572066335938871 batch_id=731: 100%|██████████| 732/732 [00:13<00:00, 53.21it/s]\n",
            "  0%|          | 0/732 [00:00<?, ?it/s]"
          ],
          "name": "stderr"
        },
        {
          "output_type": "stream",
          "text": [
            "\n",
            "Epoch: 26 Train set: Average loss: 0.0003, Accuracy: 99.212%\n",
            "Epoch: 26 Test set: Average loss: 0.0356, Accuracy: 98.860%\n",
            "Epoch: 26 Optimizer values: LastLR:0.0000488281, Momentum: 0.9000000000, Weight Decay: 0.0000000000\n"
          ],
          "name": "stdout"
        },
        {
          "output_type": "stream",
          "text": [
            "loss=0.02118890918791294 batch_id=731: 100%|██████████| 732/732 [00:13<00:00, 54.43it/s]\n",
            "  0%|          | 0/732 [00:00<?, ?it/s]"
          ],
          "name": "stderr"
        },
        {
          "output_type": "stream",
          "text": [
            "\n",
            "Epoch: 27 Train set: Average loss: 0.0003, Accuracy: 99.215%\n",
            "Epoch: 27 Test set: Average loss: 0.0357, Accuracy: 98.870%\n",
            "Epoch: 27 Optimizer values: LastLR:0.0000488281, Momentum: 0.9000000000, Weight Decay: 0.0000000000\n"
          ],
          "name": "stdout"
        },
        {
          "output_type": "stream",
          "text": [
            "loss=0.011388811282813549 batch_id=731: 100%|██████████| 732/732 [00:13<00:00, 53.99it/s]\n",
            "  0%|          | 0/732 [00:00<?, ?it/s]"
          ],
          "name": "stderr"
        },
        {
          "output_type": "stream",
          "text": [
            "\n",
            "Epoch: 28 Train set: Average loss: 0.0003, Accuracy: 99.225%\n",
            "Epoch: 28 Test set: Average loss: 0.0384, Accuracy: 98.760%\n",
            "Epoch: 28 Optimizer values: LastLR:0.0000244141, Momentum: 0.9000000000, Weight Decay: 0.0000000000\n"
          ],
          "name": "stdout"
        },
        {
          "output_type": "stream",
          "text": [
            "loss=0.010230088606476784 batch_id=731: 100%|██████████| 732/732 [00:13<00:00, 53.42it/s]\n",
            "  0%|          | 0/732 [00:00<?, ?it/s]"
          ],
          "name": "stderr"
        },
        {
          "output_type": "stream",
          "text": [
            "\n",
            "Epoch: 29 Train set: Average loss: 0.0003, Accuracy: 99.170%\n",
            "Epoch: 29 Test set: Average loss: 0.0349, Accuracy: 98.880%\n",
            "Epoch: 29 Optimizer values: LastLR:0.0000244141, Momentum: 0.9000000000, Weight Decay: 0.0000000000\n"
          ],
          "name": "stdout"
        },
        {
          "output_type": "stream",
          "text": [
            "loss=0.006338061764836311 batch_id=731: 100%|██████████| 732/732 [00:13<00:00, 53.38it/s]\n",
            "  0%|          | 0/732 [00:00<?, ?it/s]"
          ],
          "name": "stderr"
        },
        {
          "output_type": "stream",
          "text": [
            "\n",
            "Epoch: 30 Train set: Average loss: 0.0003, Accuracy: 99.197%\n",
            "Epoch: 30 Test set: Average loss: 0.0360, Accuracy: 98.840%\n",
            "Epoch: 30 Optimizer values: LastLR:0.0000122070, Momentum: 0.9000000000, Weight Decay: 0.0000000000\n"
          ],
          "name": "stdout"
        },
        {
          "output_type": "stream",
          "text": [
            "loss=0.005717187188565731 batch_id=731: 100%|██████████| 732/732 [00:13<00:00, 54.30it/s]\n",
            "  0%|          | 0/732 [00:00<?, ?it/s]"
          ],
          "name": "stderr"
        },
        {
          "output_type": "stream",
          "text": [
            "\n",
            "Epoch: 31 Train set: Average loss: 0.0003, Accuracy: 99.245%\n",
            "Epoch: 31 Test set: Average loss: 0.0368, Accuracy: 98.830%\n",
            "Epoch: 31 Optimizer values: LastLR:0.0000122070, Momentum: 0.9000000000, Weight Decay: 0.0000000000\n"
          ],
          "name": "stdout"
        },
        {
          "output_type": "stream",
          "text": [
            "loss=0.07771031558513641 batch_id=731: 100%|██████████| 732/732 [00:13<00:00, 54.87it/s]\n",
            "  0%|          | 0/732 [00:00<?, ?it/s]"
          ],
          "name": "stderr"
        },
        {
          "output_type": "stream",
          "text": [
            "\n",
            "Epoch: 32 Train set: Average loss: 0.0003, Accuracy: 99.173%\n",
            "Epoch: 32 Test set: Average loss: 0.0377, Accuracy: 98.790%\n",
            "Epoch: 32 Optimizer values: LastLR:0.0000061035, Momentum: 0.9000000000, Weight Decay: 0.0000000000\n"
          ],
          "name": "stdout"
        },
        {
          "output_type": "stream",
          "text": [
            "loss=0.015034210868179798 batch_id=731: 100%|██████████| 732/732 [00:13<00:00, 53.41it/s]\n",
            "  0%|          | 0/732 [00:00<?, ?it/s]"
          ],
          "name": "stderr"
        },
        {
          "output_type": "stream",
          "text": [
            "\n",
            "Epoch: 33 Train set: Average loss: 0.0003, Accuracy: 99.180%\n",
            "Epoch: 33 Test set: Average loss: 0.0361, Accuracy: 98.850%\n",
            "Epoch: 33 Optimizer values: LastLR:0.0000061035, Momentum: 0.9000000000, Weight Decay: 0.0000000000\n"
          ],
          "name": "stdout"
        },
        {
          "output_type": "stream",
          "text": [
            "loss=0.0010111742885783315 batch_id=731: 100%|██████████| 732/732 [00:13<00:00, 54.33it/s]\n",
            "  0%|          | 0/732 [00:00<?, ?it/s]"
          ],
          "name": "stderr"
        },
        {
          "output_type": "stream",
          "text": [
            "\n",
            "Epoch: 34 Train set: Average loss: 0.0003, Accuracy: 99.223%\n",
            "Epoch: 34 Test set: Average loss: 0.0361, Accuracy: 98.840%\n",
            "Epoch: 34 Optimizer values: LastLR:0.0000030518, Momentum: 0.9000000000, Weight Decay: 0.0000000000\n"
          ],
          "name": "stdout"
        },
        {
          "output_type": "stream",
          "text": [
            "loss=0.021995438262820244 batch_id=731: 100%|██████████| 732/732 [00:13<00:00, 54.27it/s]\n",
            "  0%|          | 0/732 [00:00<?, ?it/s]"
          ],
          "name": "stderr"
        },
        {
          "output_type": "stream",
          "text": [
            "\n",
            "Epoch: 35 Train set: Average loss: 0.0003, Accuracy: 99.177%\n",
            "Epoch: 35 Test set: Average loss: 0.0377, Accuracy: 98.790%\n",
            "Epoch: 35 Optimizer values: LastLR:0.0000030518, Momentum: 0.9000000000, Weight Decay: 0.0000000000\n"
          ],
          "name": "stdout"
        },
        {
          "output_type": "stream",
          "text": [
            "loss=0.05732512101531029 batch_id=731: 100%|██████████| 732/732 [00:13<00:00, 55.31it/s]\n",
            "  0%|          | 0/732 [00:00<?, ?it/s]"
          ],
          "name": "stderr"
        },
        {
          "output_type": "stream",
          "text": [
            "\n",
            "Epoch: 36 Train set: Average loss: 0.0003, Accuracy: 99.197%\n",
            "Epoch: 36 Test set: Average loss: 0.0392, Accuracy: 98.720%\n",
            "Epoch: 36 Optimizer values: LastLR:0.0000015259, Momentum: 0.9000000000, Weight Decay: 0.0000000000\n"
          ],
          "name": "stdout"
        },
        {
          "output_type": "stream",
          "text": [
            "loss=0.00917196273803711 batch_id=731: 100%|██████████| 732/732 [00:13<00:00, 53.54it/s]\n",
            "  0%|          | 0/732 [00:00<?, ?it/s]"
          ],
          "name": "stderr"
        },
        {
          "output_type": "stream",
          "text": [
            "\n",
            "Epoch: 37 Train set: Average loss: 0.0003, Accuracy: 99.272%\n",
            "Epoch: 37 Test set: Average loss: 0.0364, Accuracy: 98.830%\n",
            "Epoch: 37 Optimizer values: LastLR:0.0000015259, Momentum: 0.9000000000, Weight Decay: 0.0000000000\n"
          ],
          "name": "stdout"
        },
        {
          "output_type": "stream",
          "text": [
            "loss=0.008996420539915562 batch_id=731: 100%|██████████| 732/732 [00:13<00:00, 54.17it/s]\n",
            "  0%|          | 0/732 [00:00<?, ?it/s]"
          ],
          "name": "stderr"
        },
        {
          "output_type": "stream",
          "text": [
            "\n",
            "Epoch: 38 Train set: Average loss: 0.0003, Accuracy: 99.162%\n",
            "Epoch: 38 Test set: Average loss: 0.0369, Accuracy: 98.810%\n",
            "Epoch: 38 Optimizer values: LastLR:0.0000007629, Momentum: 0.9000000000, Weight Decay: 0.0000000000\n"
          ],
          "name": "stdout"
        },
        {
          "output_type": "stream",
          "text": [
            "loss=0.05282527953386307 batch_id=731: 100%|██████████| 732/732 [00:13<00:00, 54.52it/s]\n",
            "  0%|          | 0/732 [00:00<?, ?it/s]"
          ],
          "name": "stderr"
        },
        {
          "output_type": "stream",
          "text": [
            "\n",
            "Epoch: 39 Train set: Average loss: 0.0003, Accuracy: 99.232%\n",
            "Epoch: 39 Test set: Average loss: 0.0379, Accuracy: 98.780%\n",
            "Epoch: 39 Optimizer values: LastLR:0.0000007629, Momentum: 0.9000000000, Weight Decay: 0.0000000000\n"
          ],
          "name": "stdout"
        },
        {
          "output_type": "stream",
          "text": [
            "loss=0.03359302878379822 batch_id=731: 100%|██████████| 732/732 [00:13<00:00, 54.06it/s]\n"
          ],
          "name": "stderr"
        },
        {
          "output_type": "stream",
          "text": [
            "\n",
            "Epoch: 40 Train set: Average loss: 0.0003, Accuracy: 99.188%\n",
            "Epoch: 40 Test set: Average loss: 0.0367, Accuracy: 98.820%\n",
            "Epoch: 40 Optimizer values: LastLR:0.0000003815, Momentum: 0.9000000000, Weight Decay: 0.0000000000\n"
          ],
          "name": "stdout"
        }
      ]
    },
    {
      "cell_type": "markdown",
      "metadata": {
        "colab_type": "text",
        "id": "kpOeD-8ssiGW"
      },
      "source": [
        "# L2 + Base Model with 40 Epochs\n",
        "# Model-Path: /content/EVA4/model-baseline_l2.h5"
      ]
    },
    {
      "cell_type": "code",
      "metadata": {
        "colab_type": "code",
        "outputId": "32946dd5-3b1e-4925-c8ab-4a07db7ff3f0",
        "id": "epiC8ejD6Ssn",
        "colab": {
          "base_uri": "https://localhost:8080/",
          "height": 1000,
          "referenced_widgets": [
            "e416bbab2b6247ba978bf55bdf53677e",
            "c9d7200e6961417cb7c6b334fb673790",
            "ea1ff76348c94d15b5b1450d9c687d9a",
            "75def4815c334808aefdc2295e1b11bf",
            "30183bac60e04734aa80d7c92daa1546",
            "57ff2a50e1fa40ee8db57b5f65620a7c",
            "3db309aad40e4dacbf40c3e272aeaee2",
            "9d6e37f96cd44b77a10a79e2893467d2",
            "3ac307daba11401c8ed2eee5ba9dfd3f",
            "ef5cfd5491ed4f698c3ec10d82f0c66f",
            "c730c1814ab94e389482c480214dab05",
            "207234d886294b628724d90790e00650",
            "e8d565017f024f09be1a03a8a24c5b8a",
            "5954be5180174607be955da9445bed75",
            "bdfd68d5344f41d19ab45750a72bce9c",
            "e50368b9f38d446395756aaa42daf0a3",
            "f3b906b259d642219211a548414da369",
            "0427bafee0ce49869cec1d648104c525",
            "79e353ec5be54155a426e934dddec97e",
            "932c2dc9c0654ce8ae2f43896567f281",
            "933f089f25484ec48443ed027bd8b352",
            "ea6ea19754c141c6846eca819d7dee01",
            "b28f95403d524f319b9f81e8640698a5",
            "56c2a86ac34d44439c1ddc02429de949",
            "abcd2cb3db2140078e0632791e32519b",
            "48996917137d47bb9b3fb59c023a4ab5",
            "75d8673d2e1f4585a581f5fc0b3ce97f",
            "6366a66856744da780c1f2489b4ac88f",
            "9ed9f9404689405eb683d4614376a184",
            "2ba6fb48bf2448d49f8cdf3d01808307",
            "e6a52e291b09475eac01c0b50ad2cdd7",
            "cf4ea3916eb140a5ac7defb5417b9f29"
          ]
        }
      },
      "source": [
        "from torch.optim.lr_scheduler import StepLR, OneCycleLR, MultiStepLR\n",
        "import os\n",
        "hyperparameter_defaults = dict(\n",
        "    dropout = 0.1,\n",
        "    batch_size = 82,\n",
        "    test_batch_size=34,\n",
        "    lr = 0.025,\n",
        "    momentum = 0.9,\n",
        "    no_cuda = False,\n",
        "    seed = 1,\n",
        "    epochs = 40,\n",
        "    bias = False,\n",
        "    sched_lr_gamma = 0.5,\n",
        "    sched_lr_step= 2,\n",
        "    start_lr = 7,\n",
        "    weight_decay=0.0006905824115205087\n",
        "    )\n",
        "Baseline_l2_Model_Metrics={\n",
        "    'Train Accuracy': [], \n",
        "    'Train Loss': [], \n",
        "    'Test Accuracy':[], \n",
        "    'Test Loss': [],\n",
        "    'Learning Rate': [], \n",
        "    'Decay Learning Rate': []\n",
        "}\n",
        "\n",
        "config = hyperparameter_defaults\n",
        "model_path = generate_model_save_path(mod_string=\"baseline_l2\")\n",
        "print(\"Model will be saved to:\", model_path)\n",
        "\n",
        "def main():\n",
        "    use_cuda = not config['no_cuda'] and torch.cuda.is_available()\n",
        "    device = torch.device(\"cuda\" if use_cuda else \"cpu\")\n",
        "    kwargs = {'num_workers': 4, 'pin_memory': True} if use_cuda else {}\n",
        "    \n",
        "    torch.manual_seed(config['seed']) # pytorch random seed\n",
        "    torch.backends.cudnn.deterministic = True\n",
        "\n",
        "    train_loader = torch.utils.data.DataLoader(\n",
        "        datasets.MNIST('../data', train=True, download=True,\n",
        "                        transform=train_transforms),\n",
        "        batch_size=config['batch_size'], shuffle=True, **kwargs)\n",
        "    test_loader = torch.utils.data.DataLoader(\n",
        "        datasets.MNIST('../data', train=False, transform=test_transforms),\n",
        "        batch_size=config['batch_size'], shuffle=True, **kwargs)\n",
        "\n",
        "    model = MNISTDigitBuilder(dropout=config['dropout']).to(device)\n",
        "    optimizer = optim.SGD(model.parameters(), lr=config['lr'], momentum=config['momentum'], weight_decay=config['weight_decay'])\n",
        "    scheduler = StepLR(optimizer, step_size=config['sched_lr_step'], gamma=config['sched_lr_gamma'])\n",
        "    for epoch in range(1, config['epochs'] + 1):\n",
        "        epoch_train_acc,epoch_train_loss = train(config, model, device, train_loader, optimizer, epoch)        \n",
        "        epoch_test_acc,epoch_test_loss = test(config, model, device, test_loader, epoch)        \n",
        "        print('\\nEpoch: {:.0f} Train set: Average loss: {:.4f}, Accuracy: {:.3f}%'.format(\n",
        "        epoch, epoch_train_loss, epoch_train_acc))\n",
        "        print('Epoch: {:.0f} Test set: Average loss: {:.4f}, Accuracy: {:.3f}%'.format(\n",
        "        epoch, epoch_test_loss, epoch_test_acc))\n",
        "        myoptim = optimizer.state_dict()['param_groups'][0]\n",
        "\n",
        "        print('Epoch: {:.0f} Optimizer values: LastLR:{:.10f}, Momentum: {:.10f}, Weight Decay: {:.10f}'.format(\n",
        "        epoch, scheduler.get_last_lr()[0],myoptim['momentum'],myoptim['weight_decay']))\n",
        "\n",
        "        Baseline_l2_Model_Metrics['Train Accuracy'].append(epoch_train_acc)\n",
        "        Baseline_l2_Model_Metrics['Train Loss'].append(epoch_train_loss)\n",
        "        Baseline_l2_Model_Metrics['Test Accuracy'].append(epoch_test_acc)\n",
        "        Baseline_l2_Model_Metrics['Test Loss'].append(epoch_test_loss)\n",
        "        Baseline_l2_Model_Metrics['Learning Rate'].append(config['lr'])\n",
        "        Baseline_l2_Model_Metrics['Decay Learning Rate'].append(scheduler.get_lr()) \n",
        "\n",
        "        if (epoch > config['start_lr']):\n",
        "            scheduler.step()\n",
        "\n",
        "    torch.save({\n",
        "            'model_state_dict': model.state_dict(),\n",
        "            'optimizer_state_dict': optimizer.state_dict()\n",
        "            }, model_path)\n",
        "    \n",
        "if __name__ == '__main__':\n",
        "    main()"
      ],
      "execution_count": 0,
      "outputs": [
        {
          "output_type": "stream",
          "text": [
            "Model will be saved to: /content/EVA4/model-baseline_l2.h5\n",
            "Downloading http://yann.lecun.com/exdb/mnist/train-images-idx3-ubyte.gz to ../data/MNIST/raw/train-images-idx3-ubyte.gz\n"
          ],
          "name": "stdout"
        },
        {
          "output_type": "display_data",
          "data": {
            "application/vnd.jupyter.widget-view+json": {
              "model_id": "e416bbab2b6247ba978bf55bdf53677e",
              "version_minor": 0,
              "version_major": 2
            },
            "text/plain": [
              "HBox(children=(IntProgress(value=1, bar_style='info', max=1), HTML(value='')))"
            ]
          },
          "metadata": {
            "tags": []
          }
        },
        {
          "output_type": "stream",
          "text": [
            "\n",
            "Extracting ../data/MNIST/raw/train-images-idx3-ubyte.gz to ../data/MNIST/raw\n",
            "Downloading http://yann.lecun.com/exdb/mnist/train-labels-idx1-ubyte.gz to ../data/MNIST/raw/train-labels-idx1-ubyte.gz\n"
          ],
          "name": "stdout"
        },
        {
          "output_type": "display_data",
          "data": {
            "application/vnd.jupyter.widget-view+json": {
              "model_id": "3ac307daba11401c8ed2eee5ba9dfd3f",
              "version_minor": 0,
              "version_major": 2
            },
            "text/plain": [
              "HBox(children=(IntProgress(value=1, bar_style='info', max=1), HTML(value='')))"
            ]
          },
          "metadata": {
            "tags": []
          }
        },
        {
          "output_type": "stream",
          "text": [
            "\n",
            "Extracting ../data/MNIST/raw/train-labels-idx1-ubyte.gz to ../data/MNIST/raw\n",
            "Downloading http://yann.lecun.com/exdb/mnist/t10k-images-idx3-ubyte.gz to ../data/MNIST/raw/t10k-images-idx3-ubyte.gz\n"
          ],
          "name": "stdout"
        },
        {
          "output_type": "display_data",
          "data": {
            "application/vnd.jupyter.widget-view+json": {
              "model_id": "f3b906b259d642219211a548414da369",
              "version_minor": 0,
              "version_major": 2
            },
            "text/plain": [
              "HBox(children=(IntProgress(value=1, bar_style='info', max=1), HTML(value='')))"
            ]
          },
          "metadata": {
            "tags": []
          }
        },
        {
          "output_type": "stream",
          "text": [
            "\n",
            "Extracting ../data/MNIST/raw/t10k-images-idx3-ubyte.gz to ../data/MNIST/raw\n",
            "Downloading http://yann.lecun.com/exdb/mnist/t10k-labels-idx1-ubyte.gz to ../data/MNIST/raw/t10k-labels-idx1-ubyte.gz\n"
          ],
          "name": "stdout"
        },
        {
          "output_type": "display_data",
          "data": {
            "application/vnd.jupyter.widget-view+json": {
              "model_id": "abcd2cb3db2140078e0632791e32519b",
              "version_minor": 0,
              "version_major": 2
            },
            "text/plain": [
              "HBox(children=(IntProgress(value=1, bar_style='info', max=1), HTML(value='')))"
            ]
          },
          "metadata": {
            "tags": []
          }
        },
        {
          "output_type": "stream",
          "text": [
            "\r  0%|          | 0/732 [00:00<?, ?it/s]"
          ],
          "name": "stderr"
        },
        {
          "output_type": "stream",
          "text": [
            "\n",
            "Extracting ../data/MNIST/raw/t10k-labels-idx1-ubyte.gz to ../data/MNIST/raw\n",
            "Processing...\n",
            "Done!\n"
          ],
          "name": "stdout"
        },
        {
          "output_type": "stream",
          "text": [
            "/usr/local/lib/python3.6/dist-packages/ipykernel_launcher.py:36: UserWarning: Implicit dimension choice for log_softmax has been deprecated. Change the call to include dim=X as an argument.\n",
            "loss=0.06271986663341522 batch_id=731: 100%|██████████| 732/732 [00:14<00:00, 51.83it/s]\n",
            "  0%|          | 0/732 [00:00<?, ?it/s]"
          ],
          "name": "stderr"
        },
        {
          "output_type": "stream",
          "text": [
            "\n",
            "Epoch: 1 Train set: Average loss: 0.0042, Accuracy: 90.000%\n",
            "Epoch: 1 Test set: Average loss: 0.1084, Accuracy: 96.850%\n",
            "Epoch: 1 Optimizer values: LastLR:0.0250000000, Momentum: 0.9000000000, Weight Decay: 0.0006905824\n"
          ],
          "name": "stdout"
        },
        {
          "output_type": "stream",
          "text": [
            "loss=0.036658912897109985 batch_id=731: 100%|██████████| 732/732 [00:13<00:00, 52.98it/s]\n",
            "  0%|          | 0/732 [00:00<?, ?it/s]"
          ],
          "name": "stderr"
        },
        {
          "output_type": "stream",
          "text": [
            "\n",
            "Epoch: 2 Train set: Average loss: 0.0012, Accuracy: 97.098%\n",
            "Epoch: 2 Test set: Average loss: 0.0915, Accuracy: 97.050%\n",
            "Epoch: 2 Optimizer values: LastLR:0.0250000000, Momentum: 0.9000000000, Weight Decay: 0.0006905824\n"
          ],
          "name": "stdout"
        },
        {
          "output_type": "stream",
          "text": [
            "loss=0.07282692193984985 batch_id=731: 100%|██████████| 732/732 [00:14<00:00, 51.25it/s]\n",
            "  0%|          | 0/732 [00:00<?, ?it/s]"
          ],
          "name": "stderr"
        },
        {
          "output_type": "stream",
          "text": [
            "\n",
            "Epoch: 3 Train set: Average loss: 0.0009, Accuracy: 97.743%\n",
            "Epoch: 3 Test set: Average loss: 0.0623, Accuracy: 98.130%\n",
            "Epoch: 3 Optimizer values: LastLR:0.0250000000, Momentum: 0.9000000000, Weight Decay: 0.0006905824\n"
          ],
          "name": "stdout"
        },
        {
          "output_type": "stream",
          "text": [
            "loss=0.050952546298503876 batch_id=731: 100%|██████████| 732/732 [00:14<00:00, 52.05it/s]\n",
            "  0%|          | 0/732 [00:00<?, ?it/s]"
          ],
          "name": "stderr"
        },
        {
          "output_type": "stream",
          "text": [
            "\n",
            "Epoch: 4 Train set: Average loss: 0.0008, Accuracy: 97.923%\n",
            "Epoch: 4 Test set: Average loss: 0.0716, Accuracy: 97.970%\n",
            "Epoch: 4 Optimizer values: LastLR:0.0250000000, Momentum: 0.9000000000, Weight Decay: 0.0006905824\n"
          ],
          "name": "stdout"
        },
        {
          "output_type": "stream",
          "text": [
            "loss=0.18580545485019684 batch_id=731: 100%|██████████| 732/732 [00:13<00:00, 52.71it/s]\n",
            "  0%|          | 0/732 [00:00<?, ?it/s]"
          ],
          "name": "stderr"
        },
        {
          "output_type": "stream",
          "text": [
            "\n",
            "Epoch: 5 Train set: Average loss: 0.0008, Accuracy: 98.202%\n",
            "Epoch: 5 Test set: Average loss: 0.0561, Accuracy: 98.350%\n",
            "Epoch: 5 Optimizer values: LastLR:0.0250000000, Momentum: 0.9000000000, Weight Decay: 0.0006905824\n"
          ],
          "name": "stdout"
        },
        {
          "output_type": "stream",
          "text": [
            "loss=0.08148522675037384 batch_id=731: 100%|██████████| 732/732 [00:14<00:00, 51.56it/s]\n",
            "  0%|          | 0/732 [00:00<?, ?it/s]"
          ],
          "name": "stderr"
        },
        {
          "output_type": "stream",
          "text": [
            "\n",
            "Epoch: 6 Train set: Average loss: 0.0007, Accuracy: 98.293%\n",
            "Epoch: 6 Test set: Average loss: 0.0467, Accuracy: 98.690%\n",
            "Epoch: 6 Optimizer values: LastLR:0.0250000000, Momentum: 0.9000000000, Weight Decay: 0.0006905824\n"
          ],
          "name": "stdout"
        },
        {
          "output_type": "stream",
          "text": [
            "loss=0.043015047907829285 batch_id=731: 100%|██████████| 732/732 [00:14<00:00, 51.14it/s]\n",
            "  0%|          | 0/732 [00:00<?, ?it/s]"
          ],
          "name": "stderr"
        },
        {
          "output_type": "stream",
          "text": [
            "\n",
            "Epoch: 7 Train set: Average loss: 0.0007, Accuracy: 98.317%\n",
            "Epoch: 7 Test set: Average loss: 0.0512, Accuracy: 98.480%\n",
            "Epoch: 7 Optimizer values: LastLR:0.0250000000, Momentum: 0.9000000000, Weight Decay: 0.0006905824\n"
          ],
          "name": "stdout"
        },
        {
          "output_type": "stream",
          "text": [
            "loss=0.143581822514534 batch_id=731: 100%|██████████| 732/732 [00:14<00:00, 50.93it/s]\n",
            "  0%|          | 0/732 [00:00<?, ?it/s]"
          ],
          "name": "stderr"
        },
        {
          "output_type": "stream",
          "text": [
            "\n",
            "Epoch: 8 Train set: Average loss: 0.0007, Accuracy: 98.412%\n",
            "Epoch: 8 Test set: Average loss: 0.0603, Accuracy: 98.150%\n",
            "Epoch: 8 Optimizer values: LastLR:0.0250000000, Momentum: 0.9000000000, Weight Decay: 0.0006905824\n"
          ],
          "name": "stdout"
        },
        {
          "output_type": "stream",
          "text": [
            "loss=0.05056397616863251 batch_id=731: 100%|██████████| 732/732 [00:14<00:00, 51.78it/s]\n",
            "  0%|          | 0/732 [00:00<?, ?it/s]"
          ],
          "name": "stderr"
        },
        {
          "output_type": "stream",
          "text": [
            "\n",
            "Epoch: 9 Train set: Average loss: 0.0007, Accuracy: 98.425%\n",
            "Epoch: 9 Test set: Average loss: 0.0561, Accuracy: 98.230%\n",
            "Epoch: 9 Optimizer values: LastLR:0.0250000000, Momentum: 0.9000000000, Weight Decay: 0.0006905824\n"
          ],
          "name": "stdout"
        },
        {
          "output_type": "stream",
          "text": [
            "loss=0.027848951518535614 batch_id=731: 100%|██████████| 732/732 [00:14<00:00, 51.49it/s]\n",
            "  0%|          | 0/732 [00:00<?, ?it/s]"
          ],
          "name": "stderr"
        },
        {
          "output_type": "stream",
          "text": [
            "\n",
            "Epoch: 10 Train set: Average loss: 0.0005, Accuracy: 98.780%\n",
            "Epoch: 10 Test set: Average loss: 0.0330, Accuracy: 98.970%\n",
            "Epoch: 10 Optimizer values: LastLR:0.0125000000, Momentum: 0.9000000000, Weight Decay: 0.0006905824\n"
          ],
          "name": "stdout"
        },
        {
          "output_type": "stream",
          "text": [
            "loss=0.03447408229112625 batch_id=731: 100%|██████████| 732/732 [00:14<00:00, 56.62it/s]\n",
            "  0%|          | 0/732 [00:00<?, ?it/s]"
          ],
          "name": "stderr"
        },
        {
          "output_type": "stream",
          "text": [
            "\n",
            "Epoch: 11 Train set: Average loss: 0.0005, Accuracy: 98.857%\n",
            "Epoch: 11 Test set: Average loss: 0.0366, Accuracy: 99.010%\n",
            "Epoch: 11 Optimizer values: LastLR:0.0125000000, Momentum: 0.9000000000, Weight Decay: 0.0006905824\n"
          ],
          "name": "stdout"
        },
        {
          "output_type": "stream",
          "text": [
            "loss=0.09143350273370743 batch_id=731: 100%|██████████| 732/732 [00:14<00:00, 50.95it/s]\n",
            "  0%|          | 0/732 [00:00<?, ?it/s]"
          ],
          "name": "stderr"
        },
        {
          "output_type": "stream",
          "text": [
            "\n",
            "Epoch: 12 Train set: Average loss: 0.0004, Accuracy: 98.983%\n",
            "Epoch: 12 Test set: Average loss: 0.0274, Accuracy: 99.230%\n",
            "Epoch: 12 Optimizer values: LastLR:0.0062500000, Momentum: 0.9000000000, Weight Decay: 0.0006905824\n"
          ],
          "name": "stdout"
        },
        {
          "output_type": "stream",
          "text": [
            "loss=0.019112035632133484 batch_id=731: 100%|██████████| 732/732 [00:14<00:00, 51.49it/s]\n",
            "  0%|          | 0/732 [00:00<?, ?it/s]"
          ],
          "name": "stderr"
        },
        {
          "output_type": "stream",
          "text": [
            "\n",
            "Epoch: 13 Train set: Average loss: 0.0004, Accuracy: 98.982%\n",
            "Epoch: 13 Test set: Average loss: 0.0308, Accuracy: 99.120%\n",
            "Epoch: 13 Optimizer values: LastLR:0.0062500000, Momentum: 0.9000000000, Weight Decay: 0.0006905824\n"
          ],
          "name": "stdout"
        },
        {
          "output_type": "stream",
          "text": [
            "loss=0.06775153428316116 batch_id=731: 100%|██████████| 732/732 [00:14<00:00, 51.68it/s]\n",
            "  0%|          | 0/732 [00:00<?, ?it/s]"
          ],
          "name": "stderr"
        },
        {
          "output_type": "stream",
          "text": [
            "\n",
            "Epoch: 14 Train set: Average loss: 0.0004, Accuracy: 99.145%\n",
            "Epoch: 14 Test set: Average loss: 0.0275, Accuracy: 99.230%\n",
            "Epoch: 14 Optimizer values: LastLR:0.0031250000, Momentum: 0.9000000000, Weight Decay: 0.0006905824\n"
          ],
          "name": "stdout"
        },
        {
          "output_type": "stream",
          "text": [
            "loss=0.01679900661110878 batch_id=731: 100%|██████████| 732/732 [00:14<00:00, 50.71it/s]\n",
            "  0%|          | 0/732 [00:00<?, ?it/s]"
          ],
          "name": "stderr"
        },
        {
          "output_type": "stream",
          "text": [
            "\n",
            "Epoch: 15 Train set: Average loss: 0.0004, Accuracy: 99.220%\n",
            "Epoch: 15 Test set: Average loss: 0.0273, Accuracy: 99.210%\n",
            "Epoch: 15 Optimizer values: LastLR:0.0031250000, Momentum: 0.9000000000, Weight Decay: 0.0006905824\n"
          ],
          "name": "stdout"
        },
        {
          "output_type": "stream",
          "text": [
            "loss=0.021880051121115685 batch_id=731: 100%|██████████| 732/732 [00:14<00:00, 50.74it/s]\n",
            "  0%|          | 0/732 [00:00<?, ?it/s]"
          ],
          "name": "stderr"
        },
        {
          "output_type": "stream",
          "text": [
            "\n",
            "Epoch: 16 Train set: Average loss: 0.0004, Accuracy: 99.220%\n",
            "Epoch: 16 Test set: Average loss: 0.0255, Accuracy: 99.250%\n",
            "Epoch: 16 Optimizer values: LastLR:0.0015625000, Momentum: 0.9000000000, Weight Decay: 0.0006905824\n"
          ],
          "name": "stdout"
        },
        {
          "output_type": "stream",
          "text": [
            "loss=0.01981458254158497 batch_id=731: 100%|██████████| 732/732 [00:14<00:00, 52.23it/s]\n",
            "  0%|          | 0/732 [00:00<?, ?it/s]"
          ],
          "name": "stderr"
        },
        {
          "output_type": "stream",
          "text": [
            "\n",
            "Epoch: 17 Train set: Average loss: 0.0003, Accuracy: 99.247%\n",
            "Epoch: 17 Test set: Average loss: 0.0255, Accuracy: 99.240%\n",
            "Epoch: 17 Optimizer values: LastLR:0.0015625000, Momentum: 0.9000000000, Weight Decay: 0.0006905824\n"
          ],
          "name": "stdout"
        },
        {
          "output_type": "stream",
          "text": [
            "loss=0.01498448010534048 batch_id=731: 100%|██████████| 732/732 [00:14<00:00, 51.62it/s]\n",
            "  0%|          | 0/732 [00:00<?, ?it/s]"
          ],
          "name": "stderr"
        },
        {
          "output_type": "stream",
          "text": [
            "\n",
            "Epoch: 18 Train set: Average loss: 0.0003, Accuracy: 99.248%\n",
            "Epoch: 18 Test set: Average loss: 0.0265, Accuracy: 99.250%\n",
            "Epoch: 18 Optimizer values: LastLR:0.0007812500, Momentum: 0.9000000000, Weight Decay: 0.0006905824\n"
          ],
          "name": "stdout"
        },
        {
          "output_type": "stream",
          "text": [
            "loss=0.04381149262189865 batch_id=731: 100%|██████████| 732/732 [00:14<00:00, 51.99it/s]\n",
            "  0%|          | 0/732 [00:00<?, ?it/s]"
          ],
          "name": "stderr"
        },
        {
          "output_type": "stream",
          "text": [
            "\n",
            "Epoch: 19 Train set: Average loss: 0.0004, Accuracy: 99.198%\n",
            "Epoch: 19 Test set: Average loss: 0.0266, Accuracy: 99.240%\n",
            "Epoch: 19 Optimizer values: LastLR:0.0007812500, Momentum: 0.9000000000, Weight Decay: 0.0006905824\n"
          ],
          "name": "stdout"
        },
        {
          "output_type": "stream",
          "text": [
            "loss=0.01269034668803215 batch_id=731: 100%|██████████| 732/732 [00:14<00:00, 52.23it/s]\n",
            "  0%|          | 0/732 [00:00<?, ?it/s]"
          ],
          "name": "stderr"
        },
        {
          "output_type": "stream",
          "text": [
            "\n",
            "Epoch: 20 Train set: Average loss: 0.0003, Accuracy: 99.250%\n",
            "Epoch: 20 Test set: Average loss: 0.0245, Accuracy: 99.290%\n",
            "Epoch: 20 Optimizer values: LastLR:0.0003906250, Momentum: 0.9000000000, Weight Decay: 0.0006905824\n"
          ],
          "name": "stdout"
        },
        {
          "output_type": "stream",
          "text": [
            "loss=0.01183836255222559 batch_id=731: 100%|██████████| 732/732 [00:13<00:00, 52.68it/s]\n",
            "  0%|          | 0/732 [00:00<?, ?it/s]"
          ],
          "name": "stderr"
        },
        {
          "output_type": "stream",
          "text": [
            "\n",
            "Epoch: 21 Train set: Average loss: 0.0003, Accuracy: 99.258%\n",
            "Epoch: 21 Test set: Average loss: 0.0234, Accuracy: 99.310%\n",
            "Epoch: 21 Optimizer values: LastLR:0.0003906250, Momentum: 0.9000000000, Weight Decay: 0.0006905824\n"
          ],
          "name": "stdout"
        },
        {
          "output_type": "stream",
          "text": [
            "loss=0.03182028606534004 batch_id=731: 100%|██████████| 732/732 [00:14<00:00, 51.42it/s]\n",
            "  0%|          | 0/732 [00:00<?, ?it/s]"
          ],
          "name": "stderr"
        },
        {
          "output_type": "stream",
          "text": [
            "\n",
            "Epoch: 22 Train set: Average loss: 0.0003, Accuracy: 99.240%\n",
            "Epoch: 22 Test set: Average loss: 0.0247, Accuracy: 99.270%\n",
            "Epoch: 22 Optimizer values: LastLR:0.0001953125, Momentum: 0.9000000000, Weight Decay: 0.0006905824\n"
          ],
          "name": "stdout"
        },
        {
          "output_type": "stream",
          "text": [
            "loss=0.009739941917359829 batch_id=731: 100%|██████████| 732/732 [00:14<00:00, 51.06it/s]\n",
            "  0%|          | 0/732 [00:00<?, ?it/s]"
          ],
          "name": "stderr"
        },
        {
          "output_type": "stream",
          "text": [
            "\n",
            "Epoch: 23 Train set: Average loss: 0.0003, Accuracy: 99.302%\n",
            "Epoch: 23 Test set: Average loss: 0.0258, Accuracy: 99.200%\n",
            "Epoch: 23 Optimizer values: LastLR:0.0001953125, Momentum: 0.9000000000, Weight Decay: 0.0006905824\n"
          ],
          "name": "stdout"
        },
        {
          "output_type": "stream",
          "text": [
            "loss=0.013418740592896938 batch_id=731: 100%|██████████| 732/732 [00:13<00:00, 52.98it/s]\n",
            "  0%|          | 0/732 [00:00<?, ?it/s]"
          ],
          "name": "stderr"
        },
        {
          "output_type": "stream",
          "text": [
            "\n",
            "Epoch: 24 Train set: Average loss: 0.0003, Accuracy: 99.278%\n",
            "Epoch: 24 Test set: Average loss: 0.0258, Accuracy: 99.250%\n",
            "Epoch: 24 Optimizer values: LastLR:0.0000976563, Momentum: 0.9000000000, Weight Decay: 0.0006905824\n"
          ],
          "name": "stdout"
        },
        {
          "output_type": "stream",
          "text": [
            "loss=0.05297470465302467 batch_id=731: 100%|██████████| 732/732 [00:13<00:00, 53.28it/s]\n",
            "  0%|          | 0/732 [00:00<?, ?it/s]"
          ],
          "name": "stderr"
        },
        {
          "output_type": "stream",
          "text": [
            "\n",
            "Epoch: 25 Train set: Average loss: 0.0003, Accuracy: 99.297%\n",
            "Epoch: 25 Test set: Average loss: 0.0251, Accuracy: 99.270%\n",
            "Epoch: 25 Optimizer values: LastLR:0.0000976563, Momentum: 0.9000000000, Weight Decay: 0.0006905824\n"
          ],
          "name": "stdout"
        },
        {
          "output_type": "stream",
          "text": [
            "loss=0.005632507614791393 batch_id=731: 100%|██████████| 732/732 [00:14<00:00, 51.20it/s]\n",
            "  0%|          | 0/732 [00:00<?, ?it/s]"
          ],
          "name": "stderr"
        },
        {
          "output_type": "stream",
          "text": [
            "\n",
            "Epoch: 26 Train set: Average loss: 0.0003, Accuracy: 99.273%\n",
            "Epoch: 26 Test set: Average loss: 0.0242, Accuracy: 99.310%\n",
            "Epoch: 26 Optimizer values: LastLR:0.0000488281, Momentum: 0.9000000000, Weight Decay: 0.0006905824\n"
          ],
          "name": "stdout"
        },
        {
          "output_type": "stream",
          "text": [
            "loss=0.01668068952858448 batch_id=731: 100%|██████████| 732/732 [00:14<00:00, 51.66it/s]\n",
            "  0%|          | 0/732 [00:00<?, ?it/s]"
          ],
          "name": "stderr"
        },
        {
          "output_type": "stream",
          "text": [
            "\n",
            "Epoch: 27 Train set: Average loss: 0.0003, Accuracy: 99.243%\n",
            "Epoch: 27 Test set: Average loss: 0.0239, Accuracy: 99.270%\n",
            "Epoch: 27 Optimizer values: LastLR:0.0000488281, Momentum: 0.9000000000, Weight Decay: 0.0006905824\n"
          ],
          "name": "stdout"
        },
        {
          "output_type": "stream",
          "text": [
            "loss=0.03440047800540924 batch_id=731: 100%|██████████| 732/732 [00:13<00:00, 53.19it/s]\n",
            "  0%|          | 0/732 [00:00<?, ?it/s]"
          ],
          "name": "stderr"
        },
        {
          "output_type": "stream",
          "text": [
            "\n",
            "Epoch: 28 Train set: Average loss: 0.0003, Accuracy: 99.273%\n",
            "Epoch: 28 Test set: Average loss: 0.0248, Accuracy: 99.310%\n",
            "Epoch: 28 Optimizer values: LastLR:0.0000244141, Momentum: 0.9000000000, Weight Decay: 0.0006905824\n"
          ],
          "name": "stdout"
        },
        {
          "output_type": "stream",
          "text": [
            "loss=0.0386991985142231 batch_id=731: 100%|██████████| 732/732 [00:13<00:00, 52.70it/s]\n",
            "  0%|          | 0/732 [00:00<?, ?it/s]"
          ],
          "name": "stderr"
        },
        {
          "output_type": "stream",
          "text": [
            "\n",
            "Epoch: 29 Train set: Average loss: 0.0003, Accuracy: 99.263%\n",
            "Epoch: 29 Test set: Average loss: 0.0235, Accuracy: 99.290%\n",
            "Epoch: 29 Optimizer values: LastLR:0.0000244141, Momentum: 0.9000000000, Weight Decay: 0.0006905824\n"
          ],
          "name": "stdout"
        },
        {
          "output_type": "stream",
          "text": [
            "loss=0.021340398117899895 batch_id=731: 100%|██████████| 732/732 [00:14<00:00, 51.69it/s]\n",
            "  0%|          | 0/732 [00:00<?, ?it/s]"
          ],
          "name": "stderr"
        },
        {
          "output_type": "stream",
          "text": [
            "\n",
            "Epoch: 30 Train set: Average loss: 0.0003, Accuracy: 99.305%\n",
            "Epoch: 30 Test set: Average loss: 0.0241, Accuracy: 99.290%\n",
            "Epoch: 30 Optimizer values: LastLR:0.0000122070, Momentum: 0.9000000000, Weight Decay: 0.0006905824\n"
          ],
          "name": "stdout"
        },
        {
          "output_type": "stream",
          "text": [
            "loss=0.010679783299565315 batch_id=731: 100%|██████████| 732/732 [00:13<00:00, 52.40it/s]\n",
            "  0%|          | 0/732 [00:00<?, ?it/s]"
          ],
          "name": "stderr"
        },
        {
          "output_type": "stream",
          "text": [
            "\n",
            "Epoch: 31 Train set: Average loss: 0.0003, Accuracy: 99.267%\n",
            "Epoch: 31 Test set: Average loss: 0.0245, Accuracy: 99.270%\n",
            "Epoch: 31 Optimizer values: LastLR:0.0000122070, Momentum: 0.9000000000, Weight Decay: 0.0006905824\n"
          ],
          "name": "stdout"
        },
        {
          "output_type": "stream",
          "text": [
            "loss=0.03576390817761421 batch_id=731: 100%|██████████| 732/732 [00:13<00:00, 53.01it/s]\n",
            "  0%|          | 0/732 [00:00<?, ?it/s]"
          ],
          "name": "stderr"
        },
        {
          "output_type": "stream",
          "text": [
            "\n",
            "Epoch: 32 Train set: Average loss: 0.0003, Accuracy: 99.258%\n",
            "Epoch: 32 Test set: Average loss: 0.0252, Accuracy: 99.270%\n",
            "Epoch: 32 Optimizer values: LastLR:0.0000061035, Momentum: 0.9000000000, Weight Decay: 0.0006905824\n"
          ],
          "name": "stdout"
        },
        {
          "output_type": "stream",
          "text": [
            "loss=0.020448796451091766 batch_id=731: 100%|██████████| 732/732 [00:13<00:00, 53.33it/s]\n",
            "  0%|          | 0/732 [00:00<?, ?it/s]"
          ],
          "name": "stderr"
        },
        {
          "output_type": "stream",
          "text": [
            "\n",
            "Epoch: 33 Train set: Average loss: 0.0003, Accuracy: 99.283%\n",
            "Epoch: 33 Test set: Average loss: 0.0242, Accuracy: 99.250%\n",
            "Epoch: 33 Optimizer values: LastLR:0.0000061035, Momentum: 0.9000000000, Weight Decay: 0.0006905824\n"
          ],
          "name": "stdout"
        },
        {
          "output_type": "stream",
          "text": [
            "loss=0.0035218698903918266 batch_id=731: 100%|██████████| 732/732 [00:14<00:00, 51.24it/s]\n",
            "  0%|          | 0/732 [00:00<?, ?it/s]"
          ],
          "name": "stderr"
        },
        {
          "output_type": "stream",
          "text": [
            "\n",
            "Epoch: 34 Train set: Average loss: 0.0003, Accuracy: 99.285%\n",
            "Epoch: 34 Test set: Average loss: 0.0246, Accuracy: 99.300%\n",
            "Epoch: 34 Optimizer values: LastLR:0.0000030518, Momentum: 0.9000000000, Weight Decay: 0.0006905824\n"
          ],
          "name": "stdout"
        },
        {
          "output_type": "stream",
          "text": [
            "loss=0.013286327943205833 batch_id=731: 100%|██████████| 732/732 [00:13<00:00, 52.34it/s]\n",
            "  0%|          | 0/732 [00:00<?, ?it/s]"
          ],
          "name": "stderr"
        },
        {
          "output_type": "stream",
          "text": [
            "\n",
            "Epoch: 35 Train set: Average loss: 0.0003, Accuracy: 99.263%\n",
            "Epoch: 35 Test set: Average loss: 0.0251, Accuracy: 99.260%\n",
            "Epoch: 35 Optimizer values: LastLR:0.0000030518, Momentum: 0.9000000000, Weight Decay: 0.0006905824\n"
          ],
          "name": "stdout"
        },
        {
          "output_type": "stream",
          "text": [
            "loss=0.09953140467405319 batch_id=731: 100%|██████████| 732/732 [00:13<00:00, 53.16it/s]\n",
            "  0%|          | 0/732 [00:00<?, ?it/s]"
          ],
          "name": "stderr"
        },
        {
          "output_type": "stream",
          "text": [
            "\n",
            "Epoch: 36 Train set: Average loss: 0.0003, Accuracy: 99.272%\n",
            "Epoch: 36 Test set: Average loss: 0.0250, Accuracy: 99.250%\n",
            "Epoch: 36 Optimizer values: LastLR:0.0000015259, Momentum: 0.9000000000, Weight Decay: 0.0006905824\n"
          ],
          "name": "stdout"
        },
        {
          "output_type": "stream",
          "text": [
            "loss=0.015492645092308521 batch_id=731: 100%|██████████| 732/732 [00:13<00:00, 52.97it/s]\n",
            "  0%|          | 0/732 [00:00<?, ?it/s]"
          ],
          "name": "stderr"
        },
        {
          "output_type": "stream",
          "text": [
            "\n",
            "Epoch: 37 Train set: Average loss: 0.0003, Accuracy: 99.268%\n",
            "Epoch: 37 Test set: Average loss: 0.0248, Accuracy: 99.300%\n",
            "Epoch: 37 Optimizer values: LastLR:0.0000015259, Momentum: 0.9000000000, Weight Decay: 0.0006905824\n"
          ],
          "name": "stdout"
        },
        {
          "output_type": "stream",
          "text": [
            "loss=0.013635667972266674 batch_id=731: 100%|██████████| 732/732 [00:13<00:00, 52.49it/s]\n",
            "  0%|          | 0/732 [00:00<?, ?it/s]"
          ],
          "name": "stderr"
        },
        {
          "output_type": "stream",
          "text": [
            "\n",
            "Epoch: 38 Train set: Average loss: 0.0003, Accuracy: 99.320%\n",
            "Epoch: 38 Test set: Average loss: 0.0245, Accuracy: 99.310%\n",
            "Epoch: 38 Optimizer values: LastLR:0.0000007629, Momentum: 0.9000000000, Weight Decay: 0.0006905824\n"
          ],
          "name": "stdout"
        },
        {
          "output_type": "stream",
          "text": [
            "loss=0.017275745049118996 batch_id=731: 100%|██████████| 732/732 [00:13<00:00, 60.80it/s]\n",
            "  0%|          | 0/732 [00:00<?, ?it/s]"
          ],
          "name": "stderr"
        },
        {
          "output_type": "stream",
          "text": [
            "\n",
            "Epoch: 39 Train set: Average loss: 0.0003, Accuracy: 99.257%\n",
            "Epoch: 39 Test set: Average loss: 0.0260, Accuracy: 99.170%\n",
            "Epoch: 39 Optimizer values: LastLR:0.0000007629, Momentum: 0.9000000000, Weight Decay: 0.0006905824\n"
          ],
          "name": "stdout"
        },
        {
          "output_type": "stream",
          "text": [
            "loss=0.04255586490035057 batch_id=731: 100%|██████████| 732/732 [00:13<00:00, 52.87it/s]\n"
          ],
          "name": "stderr"
        },
        {
          "output_type": "stream",
          "text": [
            "\n",
            "Epoch: 40 Train set: Average loss: 0.0003, Accuracy: 99.282%\n",
            "Epoch: 40 Test set: Average loss: 0.0242, Accuracy: 99.290%\n",
            "Epoch: 40 Optimizer values: LastLR:0.0000003815, Momentum: 0.9000000000, Weight Decay: 0.0006905824\n"
          ],
          "name": "stdout"
        }
      ]
    },
    {
      "cell_type": "markdown",
      "metadata": {
        "colab_type": "text",
        "id": "zO6N9LVjsrzm"
      },
      "source": [
        "# L1 & Base Model with 40 Epochs\n",
        "# Model-Path: /content/EVA4/model-baseline_l1.h5"
      ]
    },
    {
      "cell_type": "code",
      "metadata": {
        "colab_type": "code",
        "outputId": "bedb4f89-02e4-4046-9b5d-91ef9063e871",
        "id": "wI7joAXtFjIz",
        "colab": {
          "base_uri": "https://localhost:8080/",
          "height": 1000
        }
      },
      "source": [
        "from torch.optim.lr_scheduler import StepLR, OneCycleLR, MultiStepLR\n",
        "import os\n",
        "hyperparameter_defaults = dict(\n",
        "    dropout = 0.1,\n",
        "    batch_size = 82,\n",
        "    test_batch_size=34,\n",
        "    lr = 0.025,\n",
        "    momentum = 0.9,\n",
        "    no_cuda = False,\n",
        "    seed = 1,\n",
        "    epochs = 40,\n",
        "    bias = False,\n",
        "    sched_lr_gamma = 0.5,\n",
        "    sched_lr_step= 2,\n",
        "    start_lr = 7,\n",
        "    weight_decay=0,\n",
        "    use_l1_loss = True,\n",
        "    l1_decay = 0.00005\n",
        "    )\n",
        "Baseline_l1_Model_Metrics={\n",
        "    'Train Accuracy': [], \n",
        "    'Train Loss': [], \n",
        "    'Test Accuracy':[], \n",
        "    'Test Loss': [],\n",
        "    'Learning Rate': [], \n",
        "    'Decay Learning Rate': []\n",
        "}\n",
        "\n",
        "config = hyperparameter_defaults\n",
        "model_path = generate_model_save_path(mod_string='baseline_l1')\n",
        "print(\"Model will be saved to:\", model_path)\n",
        "\n",
        "def main():\n",
        "    use_cuda = not config['no_cuda'] and torch.cuda.is_available()\n",
        "    device = torch.device(\"cuda\" if use_cuda else \"cpu\")\n",
        "    kwargs = {'num_workers': 4, 'pin_memory': True} if use_cuda else {}\n",
        "    torch.manual_seed(config['seed']) # pytorch random seed\n",
        "    torch.backends.cudnn.deterministic = True\n",
        "    train_loader = torch.utils.data.DataLoader(\n",
        "        datasets.MNIST('../data', train=True, download=True,\n",
        "                        transform=train_transforms),\n",
        "        batch_size=config['batch_size'], shuffle=True, **kwargs)\n",
        "    test_loader = torch.utils.data.DataLoader(\n",
        "        datasets.MNIST('../data', train=False, transform=test_transforms),\n",
        "        batch_size=config['batch_size'], shuffle=True, **kwargs)\n",
        "\n",
        "    model = MNISTDigitBuilder(dropout=config['dropout']).to(device)\n",
        "    optimizer = optim.SGD(model.parameters(), lr=config['lr'], momentum=config['momentum'], weight_decay=config['weight_decay'])\n",
        "    \n",
        "    scheduler = StepLR(optimizer, step_size=config['sched_lr_step'], gamma=config['sched_lr_gamma'])\n",
        "\n",
        "    for epoch in range(1, config['epochs'] + 1):\n",
        "        epoch_train_acc,epoch_train_loss = train(config, model, device, train_loader, optimizer, epoch, l1_loss = config['use_l1_loss'], l1_beta=config['l1_decay'])        \n",
        "        epoch_test_acc,epoch_test_loss = test(config, model, device, test_loader, epoch)\n",
        "        \n",
        "        print('\\nEpoch: {:.0f} Train set: Average loss: {:.4f}, Accuracy: {:.3f}%'.format(\n",
        "        epoch, epoch_train_loss, epoch_train_acc))\n",
        "        print('Epoch: {:.0f} Test set: Average loss: {:.4f}, Accuracy: {:.3f}%'.format(\n",
        "        epoch, epoch_test_loss, epoch_test_acc))\n",
        "        myoptim = optimizer.state_dict()['param_groups'][0]\n",
        "\n",
        "        print('Epoch: {:.0f} Optimizer values: LastLR:{:.10f}, Momentum: {:.10f}, Weight Decay: {:.10f}'.format(\n",
        "        epoch, scheduler.get_last_lr()[0],myoptim['momentum'],myoptim['weight_decay']))\n",
        "        \n",
        "        Baseline_l1_Model_Metrics['Train Accuracy'].append(epoch_train_acc)\n",
        "        Baseline_l1_Model_Metrics['Train Loss'].append(epoch_train_loss)\n",
        "        Baseline_l1_Model_Metrics['Test Accuracy'].append(epoch_test_acc)\n",
        "        Baseline_l1_Model_Metrics['Test Loss'].append(epoch_test_loss)\n",
        "        Baseline_l1_Model_Metrics['Learning Rate'].append(config['lr'])\n",
        "        Baseline_l1_Model_Metrics['Decay Learning Rate'].append(scheduler.get_lr())\n",
        "         \n",
        "        if (epoch > config['start_lr']):\n",
        "            scheduler.step()\n",
        "\n",
        "    torch.save({\n",
        "            'model_state_dict': model.state_dict(),\n",
        "            'optimizer_state_dict': optimizer.state_dict()\n",
        "            }, model_path)\n",
        "\n",
        "if __name__ == '__main__':\n",
        "    main()"
      ],
      "execution_count": 0,
      "outputs": [
        {
          "output_type": "stream",
          "text": [
            "\r  0%|          | 0/732 [00:00<?, ?it/s]"
          ],
          "name": "stderr"
        },
        {
          "output_type": "stream",
          "text": [
            "Model will be saved to: /content/EVA4/model-baseline_l1.h5\n"
          ],
          "name": "stdout"
        },
        {
          "output_type": "stream",
          "text": [
            "/usr/local/lib/python3.6/dist-packages/ipykernel_launcher.py:36: UserWarning: Implicit dimension choice for log_softmax has been deprecated. Change the call to include dim=X as an argument.\n",
            "/usr/local/lib/python3.6/dist-packages/torch/nn/_reduction.py:43: UserWarning: size_average and reduce args will be deprecated, please use reduction='sum' instead.\n",
            "  warnings.warn(warning.format(ret))\n",
            "loss=0.12578248977661133 batch_id=731: 100%|██████████| 732/732 [00:16<00:00, 44.52it/s]\n",
            "  0%|          | 0/732 [00:00<?, ?it/s]"
          ],
          "name": "stderr"
        },
        {
          "output_type": "stream",
          "text": [
            "\n",
            "Epoch: 1 Train set: Average loss: 0.0046, Accuracy: 90.202%\n",
            "Epoch: 1 Test set: Average loss: 0.1344, Accuracy: 96.150%\n",
            "Epoch: 1 Optimizer values: LastLR:0.0250000000, Momentum: 0.9000000000, Weight Decay: 0.0000000000\n"
          ],
          "name": "stdout"
        },
        {
          "output_type": "stream",
          "text": [
            "loss=0.10494886338710785 batch_id=731: 100%|██████████| 732/732 [00:15<00:00, 54.03it/s]\n",
            "  0%|          | 0/732 [00:00<?, ?it/s]"
          ],
          "name": "stderr"
        },
        {
          "output_type": "stream",
          "text": [
            "\n",
            "Epoch: 2 Train set: Average loss: 0.0017, Accuracy: 97.192%\n",
            "Epoch: 2 Test set: Average loss: 0.0673, Accuracy: 97.970%\n",
            "Epoch: 2 Optimizer values: LastLR:0.0250000000, Momentum: 0.9000000000, Weight Decay: 0.0000000000\n"
          ],
          "name": "stdout"
        },
        {
          "output_type": "stream",
          "text": [
            "loss=0.08457541465759277 batch_id=731: 100%|██████████| 732/732 [00:16<00:00, 44.28it/s]\n",
            "  0%|          | 0/732 [00:00<?, ?it/s]"
          ],
          "name": "stderr"
        },
        {
          "output_type": "stream",
          "text": [
            "\n",
            "Epoch: 3 Train set: Average loss: 0.0014, Accuracy: 97.708%\n",
            "Epoch: 3 Test set: Average loss: 0.0618, Accuracy: 98.010%\n",
            "Epoch: 3 Optimizer values: LastLR:0.0250000000, Momentum: 0.9000000000, Weight Decay: 0.0000000000\n"
          ],
          "name": "stdout"
        },
        {
          "output_type": "stream",
          "text": [
            "loss=0.06390620768070221 batch_id=731: 100%|██████████| 732/732 [00:16<00:00, 45.37it/s]\n",
            "  0%|          | 0/732 [00:00<?, ?it/s]"
          ],
          "name": "stderr"
        },
        {
          "output_type": "stream",
          "text": [
            "\n",
            "Epoch: 4 Train set: Average loss: 0.0014, Accuracy: 98.055%\n",
            "Epoch: 4 Test set: Average loss: 0.0657, Accuracy: 97.960%\n",
            "Epoch: 4 Optimizer values: LastLR:0.0250000000, Momentum: 0.9000000000, Weight Decay: 0.0000000000\n"
          ],
          "name": "stdout"
        },
        {
          "output_type": "stream",
          "text": [
            "loss=0.19022318720817566 batch_id=731: 100%|██████████| 732/732 [00:16<00:00, 53.11it/s]\n",
            "  0%|          | 0/732 [00:00<?, ?it/s]"
          ],
          "name": "stderr"
        },
        {
          "output_type": "stream",
          "text": [
            "\n",
            "Epoch: 5 Train set: Average loss: 0.0013, Accuracy: 98.195%\n",
            "Epoch: 5 Test set: Average loss: 0.0407, Accuracy: 98.670%\n",
            "Epoch: 5 Optimizer values: LastLR:0.0250000000, Momentum: 0.9000000000, Weight Decay: 0.0000000000\n"
          ],
          "name": "stdout"
        },
        {
          "output_type": "stream",
          "text": [
            "loss=0.12532496452331543 batch_id=731: 100%|██████████| 732/732 [00:15<00:00, 46.00it/s]\n",
            "  0%|          | 0/732 [00:00<?, ?it/s]"
          ],
          "name": "stderr"
        },
        {
          "output_type": "stream",
          "text": [
            "\n",
            "Epoch: 6 Train set: Average loss: 0.0012, Accuracy: 98.305%\n",
            "Epoch: 6 Test set: Average loss: 0.0748, Accuracy: 97.660%\n",
            "Epoch: 6 Optimizer values: LastLR:0.0250000000, Momentum: 0.9000000000, Weight Decay: 0.0000000000\n"
          ],
          "name": "stdout"
        },
        {
          "output_type": "stream",
          "text": [
            "loss=0.08430442959070206 batch_id=731: 100%|██████████| 732/732 [00:15<00:00, 46.16it/s]\n",
            "  0%|          | 0/732 [00:00<?, ?it/s]"
          ],
          "name": "stderr"
        },
        {
          "output_type": "stream",
          "text": [
            "\n",
            "Epoch: 7 Train set: Average loss: 0.0012, Accuracy: 98.437%\n",
            "Epoch: 7 Test set: Average loss: 0.0469, Accuracy: 98.570%\n",
            "Epoch: 7 Optimizer values: LastLR:0.0250000000, Momentum: 0.9000000000, Weight Decay: 0.0000000000\n"
          ],
          "name": "stdout"
        },
        {
          "output_type": "stream",
          "text": [
            "loss=0.25270402431488037 batch_id=731: 100%|██████████| 732/732 [00:16<00:00, 44.33it/s]\n",
            "  0%|          | 0/732 [00:00<?, ?it/s]"
          ],
          "name": "stderr"
        },
        {
          "output_type": "stream",
          "text": [
            "\n",
            "Epoch: 8 Train set: Average loss: 0.0012, Accuracy: 98.462%\n",
            "Epoch: 8 Test set: Average loss: 0.0568, Accuracy: 98.180%\n",
            "Epoch: 8 Optimizer values: LastLR:0.0250000000, Momentum: 0.9000000000, Weight Decay: 0.0000000000\n"
          ],
          "name": "stdout"
        },
        {
          "output_type": "stream",
          "text": [
            "loss=0.07349468022584915 batch_id=731: 100%|██████████| 732/732 [00:15<00:00, 46.16it/s]\n",
            "  0%|          | 0/732 [00:00<?, ?it/s]"
          ],
          "name": "stderr"
        },
        {
          "output_type": "stream",
          "text": [
            "\n",
            "Epoch: 9 Train set: Average loss: 0.0012, Accuracy: 98.552%\n",
            "Epoch: 9 Test set: Average loss: 0.0497, Accuracy: 98.420%\n",
            "Epoch: 9 Optimizer values: LastLR:0.0250000000, Momentum: 0.9000000000, Weight Decay: 0.0000000000\n"
          ],
          "name": "stdout"
        },
        {
          "output_type": "stream",
          "text": [
            "loss=0.08076845109462738 batch_id=731: 100%|██████████| 732/732 [00:15<00:00, 46.06it/s]\n",
            "  0%|          | 0/732 [00:00<?, ?it/s]"
          ],
          "name": "stderr"
        },
        {
          "output_type": "stream",
          "text": [
            "\n",
            "Epoch: 10 Train set: Average loss: 0.0010, Accuracy: 98.828%\n",
            "Epoch: 10 Test set: Average loss: 0.0345, Accuracy: 98.840%\n",
            "Epoch: 10 Optimizer values: LastLR:0.0125000000, Momentum: 0.9000000000, Weight Decay: 0.0000000000\n"
          ],
          "name": "stdout"
        },
        {
          "output_type": "stream",
          "text": [
            "loss=0.11906126141548157 batch_id=731: 100%|██████████| 732/732 [00:16<00:00, 45.43it/s]\n",
            "  0%|          | 0/732 [00:00<?, ?it/s]"
          ],
          "name": "stderr"
        },
        {
          "output_type": "stream",
          "text": [
            "\n",
            "Epoch: 11 Train set: Average loss: 0.0010, Accuracy: 98.880%\n",
            "Epoch: 11 Test set: Average loss: 0.0430, Accuracy: 98.610%\n",
            "Epoch: 11 Optimizer values: LastLR:0.0125000000, Momentum: 0.9000000000, Weight Decay: 0.0000000000\n"
          ],
          "name": "stdout"
        },
        {
          "output_type": "stream",
          "text": [
            "loss=0.1676890105009079 batch_id=731: 100%|██████████| 732/732 [00:16<00:00, 45.41it/s]\n",
            "  0%|          | 0/732 [00:00<?, ?it/s]"
          ],
          "name": "stderr"
        },
        {
          "output_type": "stream",
          "text": [
            "\n",
            "Epoch: 12 Train set: Average loss: 0.0010, Accuracy: 99.032%\n",
            "Epoch: 12 Test set: Average loss: 0.0305, Accuracy: 98.950%\n",
            "Epoch: 12 Optimizer values: LastLR:0.0062500000, Momentum: 0.9000000000, Weight Decay: 0.0000000000\n"
          ],
          "name": "stdout"
        },
        {
          "output_type": "stream",
          "text": [
            "loss=0.05087756738066673 batch_id=731: 100%|██████████| 732/732 [00:15<00:00, 53.79it/s]\n",
            "  0%|          | 0/732 [00:00<?, ?it/s]"
          ],
          "name": "stderr"
        },
        {
          "output_type": "stream",
          "text": [
            "\n",
            "Epoch: 13 Train set: Average loss: 0.0009, Accuracy: 99.120%\n",
            "Epoch: 13 Test set: Average loss: 0.0332, Accuracy: 98.860%\n",
            "Epoch: 13 Optimizer values: LastLR:0.0062500000, Momentum: 0.9000000000, Weight Decay: 0.0000000000\n"
          ],
          "name": "stdout"
        },
        {
          "output_type": "stream",
          "text": [
            "loss=0.15819284319877625 batch_id=731: 100%|██████████| 732/732 [00:15<00:00, 45.97it/s]\n",
            "  0%|          | 0/732 [00:00<?, ?it/s]"
          ],
          "name": "stderr"
        },
        {
          "output_type": "stream",
          "text": [
            "\n",
            "Epoch: 14 Train set: Average loss: 0.0009, Accuracy: 99.137%\n",
            "Epoch: 14 Test set: Average loss: 0.0314, Accuracy: 98.980%\n",
            "Epoch: 14 Optimizer values: LastLR:0.0031250000, Momentum: 0.9000000000, Weight Decay: 0.0000000000\n"
          ],
          "name": "stdout"
        },
        {
          "output_type": "stream",
          "text": [
            "loss=0.055126119405031204 batch_id=731: 100%|██████████| 732/732 [00:16<00:00, 45.39it/s]\n",
            "  0%|          | 0/732 [00:00<?, ?it/s]"
          ],
          "name": "stderr"
        },
        {
          "output_type": "stream",
          "text": [
            "\n",
            "Epoch: 15 Train set: Average loss: 0.0009, Accuracy: 99.190%\n",
            "Epoch: 15 Test set: Average loss: 0.0312, Accuracy: 98.950%\n",
            "Epoch: 15 Optimizer values: LastLR:0.0031250000, Momentum: 0.9000000000, Weight Decay: 0.0000000000\n"
          ],
          "name": "stdout"
        },
        {
          "output_type": "stream",
          "text": [
            "loss=0.06935117393732071 batch_id=731: 100%|██████████| 732/732 [00:15<00:00, 46.30it/s]\n",
            "  0%|          | 0/732 [00:00<?, ?it/s]"
          ],
          "name": "stderr"
        },
        {
          "output_type": "stream",
          "text": [
            "\n",
            "Epoch: 16 Train set: Average loss: 0.0009, Accuracy: 99.177%\n",
            "Epoch: 16 Test set: Average loss: 0.0300, Accuracy: 98.990%\n",
            "Epoch: 16 Optimizer values: LastLR:0.0015625000, Momentum: 0.9000000000, Weight Decay: 0.0000000000\n"
          ],
          "name": "stdout"
        },
        {
          "output_type": "stream",
          "text": [
            "loss=0.09024572372436523 batch_id=731: 100%|██████████| 732/732 [00:15<00:00, 46.00it/s]\n",
            "  0%|          | 0/732 [00:00<?, ?it/s]"
          ],
          "name": "stderr"
        },
        {
          "output_type": "stream",
          "text": [
            "\n",
            "Epoch: 17 Train set: Average loss: 0.0009, Accuracy: 99.217%\n",
            "Epoch: 17 Test set: Average loss: 0.0303, Accuracy: 98.970%\n",
            "Epoch: 17 Optimizer values: LastLR:0.0015625000, Momentum: 0.9000000000, Weight Decay: 0.0000000000\n"
          ],
          "name": "stdout"
        },
        {
          "output_type": "stream",
          "text": [
            "loss=0.05208176374435425 batch_id=731: 100%|██████████| 732/732 [00:16<00:00, 44.21it/s]\n",
            "  0%|          | 0/732 [00:00<?, ?it/s]"
          ],
          "name": "stderr"
        },
        {
          "output_type": "stream",
          "text": [
            "\n",
            "Epoch: 18 Train set: Average loss: 0.0008, Accuracy: 99.212%\n",
            "Epoch: 18 Test set: Average loss: 0.0305, Accuracy: 98.990%\n",
            "Epoch: 18 Optimizer values: LastLR:0.0007812500, Momentum: 0.9000000000, Weight Decay: 0.0000000000\n"
          ],
          "name": "stdout"
        },
        {
          "output_type": "stream",
          "text": [
            "loss=0.05161956325173378 batch_id=731: 100%|██████████| 732/732 [00:15<00:00, 46.03it/s]\n",
            "  0%|          | 0/732 [00:00<?, ?it/s]"
          ],
          "name": "stderr"
        },
        {
          "output_type": "stream",
          "text": [
            "\n",
            "Epoch: 19 Train set: Average loss: 0.0008, Accuracy: 99.293%\n",
            "Epoch: 19 Test set: Average loss: 0.0306, Accuracy: 99.000%\n",
            "Epoch: 19 Optimizer values: LastLR:0.0007812500, Momentum: 0.9000000000, Weight Decay: 0.0000000000\n"
          ],
          "name": "stdout"
        },
        {
          "output_type": "stream",
          "text": [
            "loss=0.04733423888683319 batch_id=731: 100%|██████████| 732/732 [00:15<00:00, 46.76it/s]\n",
            "  0%|          | 0/732 [00:00<?, ?it/s]"
          ],
          "name": "stderr"
        },
        {
          "output_type": "stream",
          "text": [
            "\n",
            "Epoch: 20 Train set: Average loss: 0.0008, Accuracy: 99.253%\n",
            "Epoch: 20 Test set: Average loss: 0.0290, Accuracy: 99.010%\n",
            "Epoch: 20 Optimizer values: LastLR:0.0003906250, Momentum: 0.9000000000, Weight Decay: 0.0000000000\n"
          ],
          "name": "stdout"
        },
        {
          "output_type": "stream",
          "text": [
            "loss=0.05402705445885658 batch_id=731: 100%|██████████| 732/732 [00:15<00:00, 45.81it/s]\n",
            "  0%|          | 0/732 [00:00<?, ?it/s]"
          ],
          "name": "stderr"
        },
        {
          "output_type": "stream",
          "text": [
            "\n",
            "Epoch: 21 Train set: Average loss: 0.0008, Accuracy: 99.242%\n",
            "Epoch: 21 Test set: Average loss: 0.0269, Accuracy: 99.120%\n",
            "Epoch: 21 Optimizer values: LastLR:0.0003906250, Momentum: 0.9000000000, Weight Decay: 0.0000000000\n"
          ],
          "name": "stdout"
        },
        {
          "output_type": "stream",
          "text": [
            "loss=0.1347201019525528 batch_id=731: 100%|██████████| 732/732 [00:16<00:00, 54.54it/s]\n",
            "  0%|          | 0/732 [00:00<?, ?it/s]"
          ],
          "name": "stderr"
        },
        {
          "output_type": "stream",
          "text": [
            "\n",
            "Epoch: 22 Train set: Average loss: 0.0008, Accuracy: 99.230%\n",
            "Epoch: 22 Test set: Average loss: 0.0288, Accuracy: 99.020%\n",
            "Epoch: 22 Optimizer values: LastLR:0.0001953125, Momentum: 0.9000000000, Weight Decay: 0.0000000000\n"
          ],
          "name": "stdout"
        },
        {
          "output_type": "stream",
          "text": [
            "loss=0.046063799411058426 batch_id=731: 100%|██████████| 732/732 [00:15<00:00, 46.45it/s]\n",
            "  0%|          | 0/732 [00:00<?, ?it/s]"
          ],
          "name": "stderr"
        },
        {
          "output_type": "stream",
          "text": [
            "\n",
            "Epoch: 23 Train set: Average loss: 0.0008, Accuracy: 99.245%\n",
            "Epoch: 23 Test set: Average loss: 0.0303, Accuracy: 98.960%\n",
            "Epoch: 23 Optimizer values: LastLR:0.0001953125, Momentum: 0.9000000000, Weight Decay: 0.0000000000\n"
          ],
          "name": "stdout"
        },
        {
          "output_type": "stream",
          "text": [
            "loss=0.04731297120451927 batch_id=731: 100%|██████████| 732/732 [00:15<00:00, 46.92it/s]\n",
            "  0%|          | 0/732 [00:00<?, ?it/s]"
          ],
          "name": "stderr"
        },
        {
          "output_type": "stream",
          "text": [
            "\n",
            "Epoch: 24 Train set: Average loss: 0.0008, Accuracy: 99.272%\n",
            "Epoch: 24 Test set: Average loss: 0.0292, Accuracy: 99.010%\n",
            "Epoch: 24 Optimizer values: LastLR:0.0000976563, Momentum: 0.9000000000, Weight Decay: 0.0000000000\n"
          ],
          "name": "stdout"
        },
        {
          "output_type": "stream",
          "text": [
            "loss=0.11052640527486801 batch_id=731: 100%|██████████| 732/732 [00:16<00:00, 45.39it/s]\n",
            "  0%|          | 0/732 [00:00<?, ?it/s]"
          ],
          "name": "stderr"
        },
        {
          "output_type": "stream",
          "text": [
            "\n",
            "Epoch: 25 Train set: Average loss: 0.0008, Accuracy: 99.275%\n",
            "Epoch: 25 Test set: Average loss: 0.0294, Accuracy: 99.040%\n",
            "Epoch: 25 Optimizer values: LastLR:0.0000976563, Momentum: 0.9000000000, Weight Decay: 0.0000000000\n"
          ],
          "name": "stdout"
        },
        {
          "output_type": "stream",
          "text": [
            "loss=0.07153254002332687 batch_id=731: 100%|██████████| 732/732 [00:15<00:00, 46.06it/s]\n",
            "  0%|          | 0/732 [00:00<?, ?it/s]"
          ],
          "name": "stderr"
        },
        {
          "output_type": "stream",
          "text": [
            "\n",
            "Epoch: 26 Train set: Average loss: 0.0008, Accuracy: 99.260%\n",
            "Epoch: 26 Test set: Average loss: 0.0278, Accuracy: 99.020%\n",
            "Epoch: 26 Optimizer values: LastLR:0.0000488281, Momentum: 0.9000000000, Weight Decay: 0.0000000000\n"
          ],
          "name": "stdout"
        },
        {
          "output_type": "stream",
          "text": [
            "loss=0.05552944168448448 batch_id=731: 100%|██████████| 732/732 [00:15<00:00, 46.42it/s]\n",
            "  0%|          | 0/732 [00:00<?, ?it/s]"
          ],
          "name": "stderr"
        },
        {
          "output_type": "stream",
          "text": [
            "\n",
            "Epoch: 27 Train set: Average loss: 0.0008, Accuracy: 99.303%\n",
            "Epoch: 27 Test set: Average loss: 0.0273, Accuracy: 99.090%\n",
            "Epoch: 27 Optimizer values: LastLR:0.0000488281, Momentum: 0.9000000000, Weight Decay: 0.0000000000\n"
          ],
          "name": "stdout"
        },
        {
          "output_type": "stream",
          "text": [
            "loss=0.1313713639974594 batch_id=731: 100%|██████████| 732/732 [00:15<00:00, 45.83it/s]\n",
            "  0%|          | 0/732 [00:00<?, ?it/s]"
          ],
          "name": "stderr"
        },
        {
          "output_type": "stream",
          "text": [
            "\n",
            "Epoch: 28 Train set: Average loss: 0.0008, Accuracy: 99.263%\n",
            "Epoch: 28 Test set: Average loss: 0.0285, Accuracy: 99.000%\n",
            "Epoch: 28 Optimizer values: LastLR:0.0000244141, Momentum: 0.9000000000, Weight Decay: 0.0000000000\n"
          ],
          "name": "stdout"
        },
        {
          "output_type": "stream",
          "text": [
            "loss=0.04886592552065849 batch_id=731: 100%|██████████| 732/732 [00:15<00:00, 46.36it/s]\n",
            "  0%|          | 0/732 [00:00<?, ?it/s]"
          ],
          "name": "stderr"
        },
        {
          "output_type": "stream",
          "text": [
            "\n",
            "Epoch: 29 Train set: Average loss: 0.0008, Accuracy: 99.242%\n",
            "Epoch: 29 Test set: Average loss: 0.0270, Accuracy: 99.070%\n",
            "Epoch: 29 Optimizer values: LastLR:0.0000244141, Momentum: 0.9000000000, Weight Decay: 0.0000000000\n"
          ],
          "name": "stdout"
        },
        {
          "output_type": "stream",
          "text": [
            "loss=0.07056286185979843 batch_id=731: 100%|██████████| 732/732 [00:15<00:00, 46.47it/s]\n",
            "  0%|          | 0/732 [00:00<?, ?it/s]"
          ],
          "name": "stderr"
        },
        {
          "output_type": "stream",
          "text": [
            "\n",
            "Epoch: 30 Train set: Average loss: 0.0008, Accuracy: 99.310%\n",
            "Epoch: 30 Test set: Average loss: 0.0276, Accuracy: 99.090%\n",
            "Epoch: 30 Optimizer values: LastLR:0.0000122070, Momentum: 0.9000000000, Weight Decay: 0.0000000000\n"
          ],
          "name": "stdout"
        },
        {
          "output_type": "stream",
          "text": [
            "loss=0.04778853431344032 batch_id=731: 100%|██████████| 732/732 [00:15<00:00, 45.99it/s]\n",
            "  0%|          | 0/732 [00:00<?, ?it/s]"
          ],
          "name": "stderr"
        },
        {
          "output_type": "stream",
          "text": [
            "\n",
            "Epoch: 31 Train set: Average loss: 0.0008, Accuracy: 99.272%\n",
            "Epoch: 31 Test set: Average loss: 0.0287, Accuracy: 99.020%\n",
            "Epoch: 31 Optimizer values: LastLR:0.0000122070, Momentum: 0.9000000000, Weight Decay: 0.0000000000\n"
          ],
          "name": "stdout"
        },
        {
          "output_type": "stream",
          "text": [
            "loss=0.11357887089252472 batch_id=731: 100%|██████████| 732/732 [00:16<00:00, 45.61it/s]\n",
            "  0%|          | 0/732 [00:00<?, ?it/s]"
          ],
          "name": "stderr"
        },
        {
          "output_type": "stream",
          "text": [
            "\n",
            "Epoch: 32 Train set: Average loss: 0.0008, Accuracy: 99.242%\n",
            "Epoch: 32 Test set: Average loss: 0.0290, Accuracy: 98.990%\n",
            "Epoch: 32 Optimizer values: LastLR:0.0000061035, Momentum: 0.9000000000, Weight Decay: 0.0000000000\n"
          ],
          "name": "stdout"
        },
        {
          "output_type": "stream",
          "text": [
            "loss=0.04847598448395729 batch_id=731: 100%|██████████| 732/732 [00:15<00:00, 46.73it/s]\n",
            "  0%|          | 0/732 [00:00<?, ?it/s]"
          ],
          "name": "stderr"
        },
        {
          "output_type": "stream",
          "text": [
            "\n",
            "Epoch: 33 Train set: Average loss: 0.0008, Accuracy: 99.255%\n",
            "Epoch: 33 Test set: Average loss: 0.0286, Accuracy: 99.000%\n",
            "Epoch: 33 Optimizer values: LastLR:0.0000061035, Momentum: 0.9000000000, Weight Decay: 0.0000000000\n"
          ],
          "name": "stdout"
        },
        {
          "output_type": "stream",
          "text": [
            "loss=0.04742586985230446 batch_id=731: 100%|██████████| 732/732 [00:15<00:00, 46.68it/s]\n",
            "  0%|          | 0/732 [00:00<?, ?it/s]"
          ],
          "name": "stderr"
        },
        {
          "output_type": "stream",
          "text": [
            "\n",
            "Epoch: 34 Train set: Average loss: 0.0008, Accuracy: 99.270%\n",
            "Epoch: 34 Test set: Average loss: 0.0283, Accuracy: 99.040%\n",
            "Epoch: 34 Optimizer values: LastLR:0.0000030518, Momentum: 0.9000000000, Weight Decay: 0.0000000000\n"
          ],
          "name": "stdout"
        },
        {
          "output_type": "stream",
          "text": [
            "loss=0.047584641724824905 batch_id=731: 100%|██████████| 732/732 [00:16<00:00, 50.79it/s]\n",
            "  0%|          | 0/732 [00:00<?, ?it/s]"
          ],
          "name": "stderr"
        },
        {
          "output_type": "stream",
          "text": [
            "\n",
            "Epoch: 35 Train set: Average loss: 0.0008, Accuracy: 99.278%\n",
            "Epoch: 35 Test set: Average loss: 0.0287, Accuracy: 99.000%\n",
            "Epoch: 35 Optimizer values: LastLR:0.0000030518, Momentum: 0.9000000000, Weight Decay: 0.0000000000\n"
          ],
          "name": "stdout"
        },
        {
          "output_type": "stream",
          "text": [
            "loss=0.09716233611106873 batch_id=731: 100%|██████████| 732/732 [00:16<00:00, 44.82it/s]\n",
            "  0%|          | 0/732 [00:00<?, ?it/s]"
          ],
          "name": "stderr"
        },
        {
          "output_type": "stream",
          "text": [
            "\n",
            "Epoch: 36 Train set: Average loss: 0.0008, Accuracy: 99.310%\n",
            "Epoch: 36 Test set: Average loss: 0.0300, Accuracy: 99.000%\n",
            "Epoch: 36 Optimizer values: LastLR:0.0000015259, Momentum: 0.9000000000, Weight Decay: 0.0000000000\n"
          ],
          "name": "stdout"
        },
        {
          "output_type": "stream",
          "text": [
            "loss=0.06413350999355316 batch_id=731: 100%|██████████| 732/732 [00:15<00:00, 46.00it/s]\n",
            "  0%|          | 0/732 [00:00<?, ?it/s]"
          ],
          "name": "stderr"
        },
        {
          "output_type": "stream",
          "text": [
            "\n",
            "Epoch: 37 Train set: Average loss: 0.0008, Accuracy: 99.252%\n",
            "Epoch: 37 Test set: Average loss: 0.0279, Accuracy: 99.000%\n",
            "Epoch: 37 Optimizer values: LastLR:0.0000015259, Momentum: 0.9000000000, Weight Decay: 0.0000000000\n"
          ],
          "name": "stdout"
        },
        {
          "output_type": "stream",
          "text": [
            "loss=0.04860285669565201 batch_id=731: 100%|██████████| 732/732 [00:15<00:00, 45.84it/s]\n",
            "  0%|          | 0/732 [00:00<?, ?it/s]"
          ],
          "name": "stderr"
        },
        {
          "output_type": "stream",
          "text": [
            "\n",
            "Epoch: 38 Train set: Average loss: 0.0008, Accuracy: 99.265%\n",
            "Epoch: 38 Test set: Average loss: 0.0285, Accuracy: 99.070%\n",
            "Epoch: 38 Optimizer values: LastLR:0.0000007629, Momentum: 0.9000000000, Weight Decay: 0.0000000000\n"
          ],
          "name": "stdout"
        },
        {
          "output_type": "stream",
          "text": [
            "loss=0.05148700997233391 batch_id=731: 100%|██████████| 732/732 [00:16<00:00, 44.95it/s]\n",
            "  0%|          | 0/732 [00:00<?, ?it/s]"
          ],
          "name": "stderr"
        },
        {
          "output_type": "stream",
          "text": [
            "\n",
            "Epoch: 39 Train set: Average loss: 0.0008, Accuracy: 99.245%\n",
            "Epoch: 39 Test set: Average loss: 0.0304, Accuracy: 98.960%\n",
            "Epoch: 39 Optimizer values: LastLR:0.0000007629, Momentum: 0.9000000000, Weight Decay: 0.0000000000\n"
          ],
          "name": "stdout"
        },
        {
          "output_type": "stream",
          "text": [
            "loss=0.10174217820167542 batch_id=731: 100%|██████████| 732/732 [00:16<00:00, 45.68it/s]\n"
          ],
          "name": "stderr"
        },
        {
          "output_type": "stream",
          "text": [
            "\n",
            "Epoch: 40 Train set: Average loss: 0.0008, Accuracy: 99.222%\n",
            "Epoch: 40 Test set: Average loss: 0.0282, Accuracy: 99.010%\n",
            "Epoch: 40 Optimizer values: LastLR:0.0000003815, Momentum: 0.9000000000, Weight Decay: 0.0000000000\n"
          ],
          "name": "stdout"
        }
      ]
    },
    {
      "cell_type": "markdown",
      "metadata": {
        "colab_type": "text",
        "id": "EFlITWtws-cK"
      },
      "source": [
        "# L1 & L2 & Base Model with 40 Epochs\n",
        "# Model-Path: /content/EVA4/model-baseline_l1l2.h5"
      ]
    },
    {
      "cell_type": "code",
      "metadata": {
        "colab_type": "code",
        "outputId": "be2296cd-da00-481c-d7c3-320695df1049",
        "id": "a00ShmUGNW6D",
        "colab": {
          "base_uri": "https://localhost:8080/",
          "height": 1000
        }
      },
      "source": [
        "from torch.optim.lr_scheduler import StepLR, OneCycleLR, MultiStepLR\n",
        "import os\n",
        "hyperparameter_defaults = dict(\n",
        "    dropout = 0.1,\n",
        "    batch_size = 82,\n",
        "    test_batch_size=34,\n",
        "    lr = 0.025,\n",
        "    momentum = 0.9,\n",
        "    no_cuda = False,\n",
        "    seed = 1,\n",
        "    epochs = 40,\n",
        "    bias = False,\n",
        "    sched_lr_gamma = 0.5,\n",
        "    sched_lr_step= 2,\n",
        "    start_lr = 7,\n",
        "    weight_decay=0.0006905824115205087,\n",
        "    use_l1_loss = True,\n",
        "    l1_decay = 0.00005\n",
        "    )\n",
        "Baseline_l1l2_Model_Metrics={\n",
        "    'Train Accuracy': [], \n",
        "    'Train Loss': [], \n",
        "    'Test Accuracy':[], \n",
        "    'Test Loss': [],\n",
        "    'Learning Rate': [], \n",
        "    'Decay Learning Rate': []\n",
        "}\n",
        "\n",
        "config = hyperparameter_defaults\n",
        "model_path = generate_model_save_path(mod_string=\"baseline_l1l2\")\n",
        "print(\"Model will be saved to:\", model_path)\n",
        "\n",
        "def main():\n",
        "    use_cuda = not config['no_cuda'] and torch.cuda.is_available()\n",
        "    device = torch.device(\"cuda\" if use_cuda else \"cpu\")\n",
        "    kwargs = {'num_workers': 4, 'pin_memory': True} if use_cuda else {}\n",
        "    \n",
        "    torch.manual_seed(config['seed']) # pytorch random seed\n",
        "    torch.backends.cudnn.deterministic = True\n",
        "\n",
        "    train_loader = torch.utils.data.DataLoader(\n",
        "        datasets.MNIST('../data', train=True, download=True,\n",
        "                        transform=train_transforms),\n",
        "        batch_size=config['batch_size'], shuffle=True, **kwargs)\n",
        "    test_loader = torch.utils.data.DataLoader(\n",
        "        datasets.MNIST('../data', train=False, transform=test_transforms),\n",
        "        batch_size=config['batch_size'], shuffle=True, **kwargs)\n",
        "    \n",
        "    model = MNISTDigitBuilder(dropout=config['dropout']).to(device)\n",
        "\n",
        "    optimizer = optim.SGD(model.parameters(), lr=config['lr'],\n",
        "                          momentum=config['momentum'], weight_decay=config['weight_decay'])\n",
        "    \n",
        "    scheduler = StepLR(optimizer, step_size=config['sched_lr_step'], gamma=config['sched_lr_gamma'])\n",
        "\n",
        "    for epoch in range(1, config['epochs'] + 1):\n",
        "        epoch_train_acc,epoch_train_loss = train(config, model, device, train_loader, optimizer, epoch, l1_loss = config['use_l1_loss'], l1_beta=config['l1_decay'])        \n",
        "        epoch_test_acc,epoch_test_loss = test(config, model, device, test_loader, epoch)\n",
        "        \n",
        "        print('\\nEpoch: {:.0f} Train set: Average loss: {:.4f}, Accuracy: {:.3f}%'.format(\n",
        "        epoch, epoch_train_loss, epoch_train_acc))\n",
        "        print('Epoch: {:.0f} Test set: Average loss: {:.4f}, Accuracy: {:.3f}%'.format(\n",
        "        epoch, epoch_test_loss, epoch_test_acc))\n",
        "        myoptim = optimizer.state_dict()['param_groups'][0]\n",
        "        print('Epoch: {:.0f} Optimizer values: LastLR:{:.10f}, Momentum: {:.10f}, Weight Decay: {:.10f}'.format(\n",
        "        epoch, scheduler.get_last_lr()[0],myoptim['momentum'],myoptim['weight_decay']))\n",
        "\n",
        "        Baseline_l1l2_Model_Metrics['Train Accuracy'].append(epoch_train_acc)\n",
        "        Baseline_l1l2_Model_Metrics['Train Loss'].append(epoch_train_loss)\n",
        "        Baseline_l1l2_Model_Metrics['Test Accuracy'].append(epoch_test_acc)\n",
        "        Baseline_l1l2_Model_Metrics['Test Loss'].append(epoch_test_loss)\n",
        "        Baseline_l1l2_Model_Metrics['Learning Rate'].append(config['lr'])\n",
        "        Baseline_l1l2_Model_Metrics['Decay Learning Rate'].append(scheduler.get_lr())\n",
        "        \n",
        "        if (epoch > config['start_lr']):\n",
        "            scheduler.step()\n",
        "\n",
        "    torch.save({\n",
        "            'model_state_dict': model.state_dict(),\n",
        "            'optimizer_state_dict': optimizer.state_dict()\n",
        "            }, model_path)\n",
        "\n",
        "if __name__ == '__main__':\n",
        "    main()"
      ],
      "execution_count": 0,
      "outputs": [
        {
          "output_type": "stream",
          "text": [
            "\r  0%|          | 0/732 [00:00<?, ?it/s]"
          ],
          "name": "stderr"
        },
        {
          "output_type": "stream",
          "text": [
            "Model will be saved to: /content/EVA4/model-baseline_l1l2.h5\n"
          ],
          "name": "stdout"
        },
        {
          "output_type": "stream",
          "text": [
            "/usr/local/lib/python3.6/dist-packages/ipykernel_launcher.py:36: UserWarning: Implicit dimension choice for log_softmax has been deprecated. Change the call to include dim=X as an argument.\n",
            "/usr/local/lib/python3.6/dist-packages/torch/nn/_reduction.py:43: UserWarning: size_average and reduce args will be deprecated, please use reduction='sum' instead.\n",
            "  warnings.warn(warning.format(ret))\n",
            "loss=0.10928241163492203 batch_id=731: 100%|██████████| 732/732 [00:17<00:00, 42.97it/s]\n",
            "  0%|          | 0/732 [00:00<?, ?it/s]"
          ],
          "name": "stderr"
        },
        {
          "output_type": "stream",
          "text": [
            "\n",
            "Epoch: 1 Train set: Average loss: 0.0045, Accuracy: 90.318%\n",
            "Epoch: 1 Test set: Average loss: 0.0823, Accuracy: 97.520%\n",
            "Epoch: 1 Optimizer values: LastLR:0.0250000000, Momentum: 0.9000000000, Weight Decay: 0.0006905824\n"
          ],
          "name": "stdout"
        },
        {
          "output_type": "stream",
          "text": [
            "loss=0.09274140745401382 batch_id=731: 100%|██████████| 732/732 [00:17<00:00, 42.66it/s]\n",
            "  0%|          | 0/732 [00:00<?, ?it/s]"
          ],
          "name": "stderr"
        },
        {
          "output_type": "stream",
          "text": [
            "\n",
            "Epoch: 2 Train set: Average loss: 0.0016, Accuracy: 97.252%\n",
            "Epoch: 2 Test set: Average loss: 0.0626, Accuracy: 98.040%\n",
            "Epoch: 2 Optimizer values: LastLR:0.0250000000, Momentum: 0.9000000000, Weight Decay: 0.0006905824\n"
          ],
          "name": "stdout"
        },
        {
          "output_type": "stream",
          "text": [
            "loss=0.08415551483631134 batch_id=731: 100%|██████████| 732/732 [00:17<00:00, 41.40it/s]\n",
            "  0%|          | 0/732 [00:00<?, ?it/s]"
          ],
          "name": "stderr"
        },
        {
          "output_type": "stream",
          "text": [
            "\n",
            "Epoch: 3 Train set: Average loss: 0.0014, Accuracy: 97.767%\n",
            "Epoch: 3 Test set: Average loss: 0.0559, Accuracy: 98.230%\n",
            "Epoch: 3 Optimizer values: LastLR:0.0250000000, Momentum: 0.9000000000, Weight Decay: 0.0006905824\n"
          ],
          "name": "stdout"
        },
        {
          "output_type": "stream",
          "text": [
            "loss=0.06672907620668411 batch_id=731: 100%|██████████| 732/732 [00:16<00:00, 43.51it/s]\n",
            "  0%|          | 0/732 [00:00<?, ?it/s]"
          ],
          "name": "stderr"
        },
        {
          "output_type": "stream",
          "text": [
            "\n",
            "Epoch: 4 Train set: Average loss: 0.0013, Accuracy: 97.917%\n",
            "Epoch: 4 Test set: Average loss: 0.0568, Accuracy: 98.360%\n",
            "Epoch: 4 Optimizer values: LastLR:0.0250000000, Momentum: 0.9000000000, Weight Decay: 0.0006905824\n"
          ],
          "name": "stdout"
        },
        {
          "output_type": "stream",
          "text": [
            "loss=0.10795286297798157 batch_id=731: 100%|██████████| 732/732 [00:17<00:00, 42.72it/s]\n",
            "  0%|          | 0/732 [00:00<?, ?it/s]"
          ],
          "name": "stderr"
        },
        {
          "output_type": "stream",
          "text": [
            "\n",
            "Epoch: 5 Train set: Average loss: 0.0012, Accuracy: 98.048%\n",
            "Epoch: 5 Test set: Average loss: 0.0545, Accuracy: 98.370%\n",
            "Epoch: 5 Optimizer values: LastLR:0.0250000000, Momentum: 0.9000000000, Weight Decay: 0.0006905824\n"
          ],
          "name": "stdout"
        },
        {
          "output_type": "stream",
          "text": [
            "loss=0.10649655759334564 batch_id=731: 100%|██████████| 732/732 [00:17<00:00, 43.00it/s]\n",
            "  0%|          | 0/732 [00:00<?, ?it/s]"
          ],
          "name": "stderr"
        },
        {
          "output_type": "stream",
          "text": [
            "\n",
            "Epoch: 6 Train set: Average loss: 0.0012, Accuracy: 98.143%\n",
            "Epoch: 6 Test set: Average loss: 0.0734, Accuracy: 97.910%\n",
            "Epoch: 6 Optimizer values: LastLR:0.0250000000, Momentum: 0.9000000000, Weight Decay: 0.0006905824\n"
          ],
          "name": "stdout"
        },
        {
          "output_type": "stream",
          "text": [
            "loss=0.08624286949634552 batch_id=731: 100%|██████████| 732/732 [00:16<00:00, 43.71it/s]\n",
            "  0%|          | 0/732 [00:00<?, ?it/s]"
          ],
          "name": "stderr"
        },
        {
          "output_type": "stream",
          "text": [
            "\n",
            "Epoch: 7 Train set: Average loss: 0.0011, Accuracy: 98.308%\n",
            "Epoch: 7 Test set: Average loss: 0.0582, Accuracy: 98.340%\n",
            "Epoch: 7 Optimizer values: LastLR:0.0250000000, Momentum: 0.9000000000, Weight Decay: 0.0006905824\n"
          ],
          "name": "stdout"
        },
        {
          "output_type": "stream",
          "text": [
            "loss=0.20946115255355835 batch_id=731: 100%|██████████| 732/732 [00:16<00:00, 43.96it/s]\n",
            "  0%|          | 0/732 [00:00<?, ?it/s]"
          ],
          "name": "stderr"
        },
        {
          "output_type": "stream",
          "text": [
            "\n",
            "Epoch: 8 Train set: Average loss: 0.0011, Accuracy: 98.268%\n",
            "Epoch: 8 Test set: Average loss: 0.0840, Accuracy: 97.320%\n",
            "Epoch: 8 Optimizer values: LastLR:0.0250000000, Momentum: 0.9000000000, Weight Decay: 0.0006905824\n"
          ],
          "name": "stdout"
        },
        {
          "output_type": "stream",
          "text": [
            "loss=0.07807838916778564 batch_id=731: 100%|██████████| 732/732 [00:16<00:00, 44.41it/s]\n",
            "  0%|          | 0/732 [00:00<?, ?it/s]"
          ],
          "name": "stderr"
        },
        {
          "output_type": "stream",
          "text": [
            "\n",
            "Epoch: 9 Train set: Average loss: 0.0011, Accuracy: 98.297%\n",
            "Epoch: 9 Test set: Average loss: 0.0613, Accuracy: 98.050%\n",
            "Epoch: 9 Optimizer values: LastLR:0.0250000000, Momentum: 0.9000000000, Weight Decay: 0.0006905824\n"
          ],
          "name": "stdout"
        },
        {
          "output_type": "stream",
          "text": [
            "loss=0.08089753985404968 batch_id=731: 100%|██████████| 732/732 [00:16<00:00, 44.03it/s]\n",
            "  0%|          | 0/732 [00:00<?, ?it/s]"
          ],
          "name": "stderr"
        },
        {
          "output_type": "stream",
          "text": [
            "\n",
            "Epoch: 10 Train set: Average loss: 0.0010, Accuracy: 98.647%\n",
            "Epoch: 10 Test set: Average loss: 0.0386, Accuracy: 98.850%\n",
            "Epoch: 10 Optimizer values: LastLR:0.0125000000, Momentum: 0.9000000000, Weight Decay: 0.0006905824\n"
          ],
          "name": "stdout"
        },
        {
          "output_type": "stream",
          "text": [
            "loss=0.11732655763626099 batch_id=731: 100%|██████████| 732/732 [00:16<00:00, 45.24it/s]\n",
            "  0%|          | 0/732 [00:00<?, ?it/s]"
          ],
          "name": "stderr"
        },
        {
          "output_type": "stream",
          "text": [
            "\n",
            "Epoch: 11 Train set: Average loss: 0.0009, Accuracy: 98.695%\n",
            "Epoch: 11 Test set: Average loss: 0.0384, Accuracy: 98.810%\n",
            "Epoch: 11 Optimizer values: LastLR:0.0125000000, Momentum: 0.9000000000, Weight Decay: 0.0006905824\n"
          ],
          "name": "stdout"
        },
        {
          "output_type": "stream",
          "text": [
            "loss=0.10663275420665741 batch_id=731: 100%|██████████| 732/732 [00:16<00:00, 44.09it/s]\n",
            "  0%|          | 0/732 [00:00<?, ?it/s]"
          ],
          "name": "stderr"
        },
        {
          "output_type": "stream",
          "text": [
            "\n",
            "Epoch: 12 Train set: Average loss: 0.0008, Accuracy: 98.947%\n",
            "Epoch: 12 Test set: Average loss: 0.0282, Accuracy: 99.120%\n",
            "Epoch: 12 Optimizer values: LastLR:0.0062500000, Momentum: 0.9000000000, Weight Decay: 0.0006905824\n"
          ],
          "name": "stdout"
        },
        {
          "output_type": "stream",
          "text": [
            "loss=0.04962895065546036 batch_id=731: 100%|██████████| 732/732 [00:16<00:00, 45.44it/s]\n",
            "  0%|          | 0/732 [00:00<?, ?it/s]"
          ],
          "name": "stderr"
        },
        {
          "output_type": "stream",
          "text": [
            "\n",
            "Epoch: 13 Train set: Average loss: 0.0008, Accuracy: 98.973%\n",
            "Epoch: 13 Test set: Average loss: 0.0272, Accuracy: 99.170%\n",
            "Epoch: 13 Optimizer values: LastLR:0.0062500000, Momentum: 0.9000000000, Weight Decay: 0.0006905824\n"
          ],
          "name": "stdout"
        },
        {
          "output_type": "stream",
          "text": [
            "loss=0.1049884632229805 batch_id=731: 100%|██████████| 732/732 [00:16<00:00, 45.36it/s]\n",
            "  0%|          | 0/732 [00:00<?, ?it/s]"
          ],
          "name": "stderr"
        },
        {
          "output_type": "stream",
          "text": [
            "\n",
            "Epoch: 14 Train set: Average loss: 0.0007, Accuracy: 99.120%\n",
            "Epoch: 14 Test set: Average loss: 0.0243, Accuracy: 99.290%\n",
            "Epoch: 14 Optimizer values: LastLR:0.0031250000, Momentum: 0.9000000000, Weight Decay: 0.0006905824\n"
          ],
          "name": "stdout"
        },
        {
          "output_type": "stream",
          "text": [
            "loss=0.041177984327077866 batch_id=731: 100%|██████████| 732/732 [00:16<00:00, 44.48it/s]\n",
            "  0%|          | 0/732 [00:00<?, ?it/s]"
          ],
          "name": "stderr"
        },
        {
          "output_type": "stream",
          "text": [
            "\n",
            "Epoch: 15 Train set: Average loss: 0.0007, Accuracy: 99.138%\n",
            "Epoch: 15 Test set: Average loss: 0.0244, Accuracy: 99.350%\n",
            "Epoch: 15 Optimizer values: LastLR:0.0031250000, Momentum: 0.9000000000, Weight Decay: 0.0006905824\n"
          ],
          "name": "stdout"
        },
        {
          "output_type": "stream",
          "text": [
            "loss=0.05586336925625801 batch_id=731: 100%|██████████| 732/732 [00:16<00:00, 44.41it/s]\n",
            "  0%|          | 0/732 [00:00<?, ?it/s]"
          ],
          "name": "stderr"
        },
        {
          "output_type": "stream",
          "text": [
            "\n",
            "Epoch: 16 Train set: Average loss: 0.0007, Accuracy: 99.175%\n",
            "Epoch: 16 Test set: Average loss: 0.0220, Accuracy: 99.360%\n",
            "Epoch: 16 Optimizer values: LastLR:0.0015625000, Momentum: 0.9000000000, Weight Decay: 0.0006905824\n"
          ],
          "name": "stdout"
        },
        {
          "output_type": "stream",
          "text": [
            "loss=0.03302014619112015 batch_id=731: 100%|██████████| 732/732 [00:16<00:00, 45.14it/s]\n",
            "  0%|          | 0/732 [00:00<?, ?it/s]"
          ],
          "name": "stderr"
        },
        {
          "output_type": "stream",
          "text": [
            "\n",
            "Epoch: 17 Train set: Average loss: 0.0007, Accuracy: 99.207%\n",
            "Epoch: 17 Test set: Average loss: 0.0220, Accuracy: 99.380%\n",
            "Epoch: 17 Optimizer values: LastLR:0.0015625000, Momentum: 0.9000000000, Weight Decay: 0.0006905824\n"
          ],
          "name": "stdout"
        },
        {
          "output_type": "stream",
          "text": [
            "loss=0.038208916783332825 batch_id=731: 100%|██████████| 732/732 [00:16<00:00, 45.28it/s]\n",
            "  0%|          | 0/732 [00:00<?, ?it/s]"
          ],
          "name": "stderr"
        },
        {
          "output_type": "stream",
          "text": [
            "\n",
            "Epoch: 18 Train set: Average loss: 0.0007, Accuracy: 99.257%\n",
            "Epoch: 18 Test set: Average loss: 0.0230, Accuracy: 99.340%\n",
            "Epoch: 18 Optimizer values: LastLR:0.0007812500, Momentum: 0.9000000000, Weight Decay: 0.0006905824\n"
          ],
          "name": "stdout"
        },
        {
          "output_type": "stream",
          "text": [
            "loss=0.06054595112800598 batch_id=731: 100%|██████████| 732/732 [00:16<00:00, 44.10it/s]\n",
            "  0%|          | 0/732 [00:00<?, ?it/s]"
          ],
          "name": "stderr"
        },
        {
          "output_type": "stream",
          "text": [
            "\n",
            "Epoch: 19 Train set: Average loss: 0.0006, Accuracy: 99.287%\n",
            "Epoch: 19 Test set: Average loss: 0.0225, Accuracy: 99.290%\n",
            "Epoch: 19 Optimizer values: LastLR:0.0007812500, Momentum: 0.9000000000, Weight Decay: 0.0006905824\n"
          ],
          "name": "stdout"
        },
        {
          "output_type": "stream",
          "text": [
            "loss=0.03283655643463135 batch_id=731: 100%|██████████| 732/732 [00:16<00:00, 45.27it/s]\n",
            "  0%|          | 0/732 [00:00<?, ?it/s]"
          ],
          "name": "stderr"
        },
        {
          "output_type": "stream",
          "text": [
            "\n",
            "Epoch: 20 Train set: Average loss: 0.0007, Accuracy: 99.260%\n",
            "Epoch: 20 Test set: Average loss: 0.0213, Accuracy: 99.420%\n",
            "Epoch: 20 Optimizer values: LastLR:0.0003906250, Momentum: 0.9000000000, Weight Decay: 0.0006905824\n"
          ],
          "name": "stdout"
        },
        {
          "output_type": "stream",
          "text": [
            "loss=0.04868169128894806 batch_id=731: 100%|██████████| 732/732 [00:16<00:00, 45.29it/s]\n",
            "  0%|          | 0/732 [00:00<?, ?it/s]"
          ],
          "name": "stderr"
        },
        {
          "output_type": "stream",
          "text": [
            "\n",
            "Epoch: 21 Train set: Average loss: 0.0006, Accuracy: 99.302%\n",
            "Epoch: 21 Test set: Average loss: 0.0202, Accuracy: 99.490%\n",
            "Epoch: 21 Optimizer values: LastLR:0.0003906250, Momentum: 0.9000000000, Weight Decay: 0.0006905824\n"
          ],
          "name": "stdout"
        },
        {
          "output_type": "stream",
          "text": [
            "loss=0.10882490128278732 batch_id=731: 100%|██████████| 732/732 [00:16<00:00, 44.30it/s]\n",
            "  0%|          | 0/732 [00:00<?, ?it/s]"
          ],
          "name": "stderr"
        },
        {
          "output_type": "stream",
          "text": [
            "\n",
            "Epoch: 22 Train set: Average loss: 0.0006, Accuracy: 99.285%\n",
            "Epoch: 22 Test set: Average loss: 0.0209, Accuracy: 99.460%\n",
            "Epoch: 22 Optimizer values: LastLR:0.0001953125, Momentum: 0.9000000000, Weight Decay: 0.0006905824\n"
          ],
          "name": "stdout"
        },
        {
          "output_type": "stream",
          "text": [
            "loss=0.03142712265253067 batch_id=731: 100%|██████████| 732/732 [00:16<00:00, 44.92it/s]\n",
            "  0%|          | 0/732 [00:00<?, ?it/s]"
          ],
          "name": "stderr"
        },
        {
          "output_type": "stream",
          "text": [
            "\n",
            "Epoch: 23 Train set: Average loss: 0.0006, Accuracy: 99.282%\n",
            "Epoch: 23 Test set: Average loss: 0.0219, Accuracy: 99.430%\n",
            "Epoch: 23 Optimizer values: LastLR:0.0001953125, Momentum: 0.9000000000, Weight Decay: 0.0006905824\n"
          ],
          "name": "stdout"
        },
        {
          "output_type": "stream",
          "text": [
            "loss=0.03177927806973457 batch_id=731: 100%|██████████| 732/732 [00:16<00:00, 44.92it/s]\n",
            "  0%|          | 0/732 [00:00<?, ?it/s]"
          ],
          "name": "stderr"
        },
        {
          "output_type": "stream",
          "text": [
            "\n",
            "Epoch: 24 Train set: Average loss: 0.0006, Accuracy: 99.287%\n",
            "Epoch: 24 Test set: Average loss: 0.0220, Accuracy: 99.440%\n",
            "Epoch: 24 Optimizer values: LastLR:0.0000976563, Momentum: 0.9000000000, Weight Decay: 0.0006905824\n"
          ],
          "name": "stdout"
        },
        {
          "output_type": "stream",
          "text": [
            "loss=0.037330932915210724 batch_id=731: 100%|██████████| 732/732 [00:16<00:00, 44.80it/s]\n",
            "  0%|          | 0/732 [00:00<?, ?it/s]"
          ],
          "name": "stderr"
        },
        {
          "output_type": "stream",
          "text": [
            "\n",
            "Epoch: 25 Train set: Average loss: 0.0006, Accuracy: 99.323%\n",
            "Epoch: 25 Test set: Average loss: 0.0215, Accuracy: 99.450%\n",
            "Epoch: 25 Optimizer values: LastLR:0.0000976563, Momentum: 0.9000000000, Weight Decay: 0.0006905824\n"
          ],
          "name": "stdout"
        },
        {
          "output_type": "stream",
          "text": [
            "loss=0.028982261195778847 batch_id=731: 100%|██████████| 732/732 [00:16<00:00, 44.45it/s]\n",
            "  0%|          | 0/732 [00:00<?, ?it/s]"
          ],
          "name": "stderr"
        },
        {
          "output_type": "stream",
          "text": [
            "\n",
            "Epoch: 26 Train set: Average loss: 0.0006, Accuracy: 99.273%\n",
            "Epoch: 26 Test set: Average loss: 0.0209, Accuracy: 99.440%\n",
            "Epoch: 26 Optimizer values: LastLR:0.0000488281, Momentum: 0.9000000000, Weight Decay: 0.0006905824\n"
          ],
          "name": "stdout"
        },
        {
          "output_type": "stream",
          "text": [
            "loss=0.04727616161108017 batch_id=731: 100%|██████████| 732/732 [00:16<00:00, 44.50it/s]\n",
            "  0%|          | 0/732 [00:00<?, ?it/s]"
          ],
          "name": "stderr"
        },
        {
          "output_type": "stream",
          "text": [
            "\n",
            "Epoch: 27 Train set: Average loss: 0.0006, Accuracy: 99.335%\n",
            "Epoch: 27 Test set: Average loss: 0.0202, Accuracy: 99.460%\n",
            "Epoch: 27 Optimizer values: LastLR:0.0000488281, Momentum: 0.9000000000, Weight Decay: 0.0006905824\n"
          ],
          "name": "stdout"
        },
        {
          "output_type": "stream",
          "text": [
            "loss=0.057681988924741745 batch_id=731: 100%|██████████| 732/732 [00:16<00:00, 45.27it/s]\n",
            "  0%|          | 0/732 [00:00<?, ?it/s]"
          ],
          "name": "stderr"
        },
        {
          "output_type": "stream",
          "text": [
            "\n",
            "Epoch: 28 Train set: Average loss: 0.0006, Accuracy: 99.317%\n",
            "Epoch: 28 Test set: Average loss: 0.0217, Accuracy: 99.430%\n",
            "Epoch: 28 Optimizer values: LastLR:0.0000244141, Momentum: 0.9000000000, Weight Decay: 0.0006905824\n"
          ],
          "name": "stdout"
        },
        {
          "output_type": "stream",
          "text": [
            "loss=0.05951603502035141 batch_id=731: 100%|██████████| 732/732 [00:16<00:00, 44.62it/s]\n",
            "  0%|          | 0/732 [00:00<?, ?it/s]"
          ],
          "name": "stderr"
        },
        {
          "output_type": "stream",
          "text": [
            "\n",
            "Epoch: 29 Train set: Average loss: 0.0006, Accuracy: 99.237%\n",
            "Epoch: 29 Test set: Average loss: 0.0201, Accuracy: 99.450%\n",
            "Epoch: 29 Optimizer values: LastLR:0.0000244141, Momentum: 0.9000000000, Weight Decay: 0.0006905824\n"
          ],
          "name": "stdout"
        },
        {
          "output_type": "stream",
          "text": [
            "loss=0.06857361644506454 batch_id=731: 100%|██████████| 732/732 [00:16<00:00, 45.33it/s]\n",
            "  0%|          | 0/732 [00:00<?, ?it/s]"
          ],
          "name": "stderr"
        },
        {
          "output_type": "stream",
          "text": [
            "\n",
            "Epoch: 30 Train set: Average loss: 0.0006, Accuracy: 99.287%\n",
            "Epoch: 30 Test set: Average loss: 0.0205, Accuracy: 99.440%\n",
            "Epoch: 30 Optimizer values: LastLR:0.0000122070, Momentum: 0.9000000000, Weight Decay: 0.0006905824\n"
          ],
          "name": "stdout"
        },
        {
          "output_type": "stream",
          "text": [
            "loss=0.03357221186161041 batch_id=731: 100%|██████████| 732/732 [00:16<00:00, 53.71it/s]\n",
            "  0%|          | 0/732 [00:00<?, ?it/s]"
          ],
          "name": "stderr"
        },
        {
          "output_type": "stream",
          "text": [
            "\n",
            "Epoch: 31 Train set: Average loss: 0.0006, Accuracy: 99.333%\n",
            "Epoch: 31 Test set: Average loss: 0.0211, Accuracy: 99.440%\n",
            "Epoch: 31 Optimizer values: LastLR:0.0000122070, Momentum: 0.9000000000, Weight Decay: 0.0006905824\n"
          ],
          "name": "stdout"
        },
        {
          "output_type": "stream",
          "text": [
            "loss=0.154798224568367 batch_id=731: 100%|██████████| 732/732 [00:16<00:00, 44.56it/s]\n",
            "  0%|          | 0/732 [00:00<?, ?it/s]"
          ],
          "name": "stderr"
        },
        {
          "output_type": "stream",
          "text": [
            "\n",
            "Epoch: 32 Train set: Average loss: 0.0006, Accuracy: 99.355%\n",
            "Epoch: 32 Test set: Average loss: 0.0219, Accuracy: 99.410%\n",
            "Epoch: 32 Optimizer values: LastLR:0.0000061035, Momentum: 0.9000000000, Weight Decay: 0.0006905824\n"
          ],
          "name": "stdout"
        },
        {
          "output_type": "stream",
          "text": [
            "loss=0.03584437072277069 batch_id=731: 100%|██████████| 732/732 [00:16<00:00, 45.11it/s]\n",
            "  0%|          | 0/732 [00:00<?, ?it/s]"
          ],
          "name": "stderr"
        },
        {
          "output_type": "stream",
          "text": [
            "\n",
            "Epoch: 33 Train set: Average loss: 0.0006, Accuracy: 99.295%\n",
            "Epoch: 33 Test set: Average loss: 0.0209, Accuracy: 99.420%\n",
            "Epoch: 33 Optimizer values: LastLR:0.0000061035, Momentum: 0.9000000000, Weight Decay: 0.0006905824\n"
          ],
          "name": "stdout"
        },
        {
          "output_type": "stream",
          "text": [
            "loss=0.03093373030424118 batch_id=731: 100%|██████████| 732/732 [00:16<00:00, 52.07it/s]\n",
            "  0%|          | 0/732 [00:00<?, ?it/s]"
          ],
          "name": "stderr"
        },
        {
          "output_type": "stream",
          "text": [
            "\n",
            "Epoch: 34 Train set: Average loss: 0.0006, Accuracy: 99.320%\n",
            "Epoch: 34 Test set: Average loss: 0.0209, Accuracy: 99.410%\n",
            "Epoch: 34 Optimizer values: LastLR:0.0000030518, Momentum: 0.9000000000, Weight Decay: 0.0006905824\n"
          ],
          "name": "stdout"
        },
        {
          "output_type": "stream",
          "text": [
            "loss=0.048541948199272156 batch_id=731: 100%|██████████| 732/732 [00:16<00:00, 45.14it/s]\n",
            "  0%|          | 0/732 [00:00<?, ?it/s]"
          ],
          "name": "stderr"
        },
        {
          "output_type": "stream",
          "text": [
            "\n",
            "Epoch: 35 Train set: Average loss: 0.0006, Accuracy: 99.315%\n",
            "Epoch: 35 Test set: Average loss: 0.0215, Accuracy: 99.430%\n",
            "Epoch: 35 Optimizer values: LastLR:0.0000030518, Momentum: 0.9000000000, Weight Decay: 0.0006905824\n"
          ],
          "name": "stdout"
        },
        {
          "output_type": "stream",
          "text": [
            "loss=0.13637037575244904 batch_id=731: 100%|██████████| 732/732 [00:16<00:00, 45.09it/s]\n",
            "  0%|          | 0/732 [00:00<?, ?it/s]"
          ],
          "name": "stderr"
        },
        {
          "output_type": "stream",
          "text": [
            "\n",
            "Epoch: 36 Train set: Average loss: 0.0006, Accuracy: 99.297%\n",
            "Epoch: 36 Test set: Average loss: 0.0218, Accuracy: 99.380%\n",
            "Epoch: 36 Optimizer values: LastLR:0.0000015259, Momentum: 0.9000000000, Weight Decay: 0.0006905824\n"
          ],
          "name": "stdout"
        },
        {
          "output_type": "stream",
          "text": [
            "loss=0.045302264392375946 batch_id=731: 100%|██████████| 732/732 [00:16<00:00, 45.30it/s]\n",
            "  0%|          | 0/732 [00:00<?, ?it/s]"
          ],
          "name": "stderr"
        },
        {
          "output_type": "stream",
          "text": [
            "\n",
            "Epoch: 37 Train set: Average loss: 0.0006, Accuracy: 99.323%\n",
            "Epoch: 37 Test set: Average loss: 0.0217, Accuracy: 99.420%\n",
            "Epoch: 37 Optimizer values: LastLR:0.0000015259, Momentum: 0.9000000000, Weight Decay: 0.0006905824\n"
          ],
          "name": "stdout"
        },
        {
          "output_type": "stream",
          "text": [
            "loss=0.030818242579698563 batch_id=731: 100%|██████████| 732/732 [00:16<00:00, 45.28it/s]\n",
            "  0%|          | 0/732 [00:00<?, ?it/s]"
          ],
          "name": "stderr"
        },
        {
          "output_type": "stream",
          "text": [
            "\n",
            "Epoch: 38 Train set: Average loss: 0.0006, Accuracy: 99.343%\n",
            "Epoch: 38 Test set: Average loss: 0.0212, Accuracy: 99.450%\n",
            "Epoch: 38 Optimizer values: LastLR:0.0000007629, Momentum: 0.9000000000, Weight Decay: 0.0006905824\n"
          ],
          "name": "stdout"
        },
        {
          "output_type": "stream",
          "text": [
            "loss=0.05430673062801361 batch_id=731: 100%|██████████| 732/732 [00:16<00:00, 44.17it/s]\n",
            "  0%|          | 0/732 [00:00<?, ?it/s]"
          ],
          "name": "stderr"
        },
        {
          "output_type": "stream",
          "text": [
            "\n",
            "Epoch: 39 Train set: Average loss: 0.0006, Accuracy: 99.315%\n",
            "Epoch: 39 Test set: Average loss: 0.0220, Accuracy: 99.430%\n",
            "Epoch: 39 Optimizer values: LastLR:0.0000007629, Momentum: 0.9000000000, Weight Decay: 0.0006905824\n"
          ],
          "name": "stdout"
        },
        {
          "output_type": "stream",
          "text": [
            "loss=0.038968853652477264 batch_id=731: 100%|██████████| 732/732 [00:16<00:00, 52.75it/s]\n"
          ],
          "name": "stderr"
        },
        {
          "output_type": "stream",
          "text": [
            "\n",
            "Epoch: 40 Train set: Average loss: 0.0006, Accuracy: 99.342%\n",
            "Epoch: 40 Test set: Average loss: 0.0213, Accuracy: 99.440%\n",
            "Epoch: 40 Optimizer values: LastLR:0.0000003815, Momentum: 0.9000000000, Weight Decay: 0.0006905824\n"
          ],
          "name": "stdout"
        }
      ]
    },
    {
      "cell_type": "code",
      "metadata": {
        "id": "v_MrQKAHGRVn",
        "colab_type": "code",
        "colab": {}
      },
      "source": [
        "%matplotlib inline\n",
        "import matplotlib.pyplot as plt"
      ],
      "execution_count": 0,
      "outputs": []
    },
    {
      "cell_type": "code",
      "metadata": {
        "id": "EPxqrKVAHcUD",
        "colab_type": "code",
        "colab": {}
      },
      "source": [
        "\"\"\"\n",
        "    Plots required graphs.\n",
        "    df_array: array of dataframes\n",
        "    legend_arr: list of the labels for each element of the df_array\n",
        "    xlabel: x-axis label to be appended to the graph\n",
        "    ylabel: y-axis label to be appended to the graph\n",
        "\"\"\"\n",
        "\n",
        "def plot_graphs(df_array, legend_arr, xlabel=\"Epochs\", ylabel=\"Accuracy\"):\n",
        "    fig, ax = plt.subplots(figsize=(15, 6))\n",
        "    for i in range(len(df_array)):\n",
        "        ax.plot(range(40),\n",
        "            df_array[i])\n",
        "    ax.set(xlabel=xlabel, ylabel=ylabel)\n",
        "    ax.legend(legend_arr)\n",
        "    plt.show()"
      ],
      "execution_count": 0,
      "outputs": []
    },
    {
      "cell_type": "markdown",
      "metadata": {
        "id": "WMbx63wfnl-X",
        "colab_type": "text"
      },
      "source": [
        "# Test Accuracy for all models"
      ]
    },
    {
      "cell_type": "code",
      "metadata": {
        "colab_type": "code",
        "outputId": "da116edf-60f2-4f01-f27b-3a1c960a2086",
        "id": "YBz-ugHRSnpJ",
        "colab": {
          "base_uri": "https://localhost:8080/",
          "height": 388
        }
      },
      "source": [
        "plot_graphs([Baseline_Model_Metrics['Test Accuracy'], Baseline_l1_Model_Metrics['Test Accuracy'], Baseline_l2_Model_Metrics['Test Accuracy'], Baseline_l1l2_Model_Metrics['Test Accuracy'] ],\n",
        "            ['Base Run', 'Base+L1', 'Base+L2', 'Base+L1+L2'],\n",
        "            xlabel=\"Epochs\",\n",
        "            ylabel=\"Validation Accuracy\")"
      ],
      "execution_count": 0,
      "outputs": [
        {
          "output_type": "display_data",
          "data": {
            "image/png": "[encoded data removed]",
            "text/plain": [
              "<Figure size 1080x432 with 1 Axes>"
            ]
          },
          "metadata": {
            "tags": []
          }
        }
      ]
    },
    {
      "cell_type": "markdown",
      "metadata": {
        "id": "c0uI94JfnYbF",
        "colab_type": "text"
      },
      "source": [
        "# Test Loss for all models"
      ]
    },
    {
      "cell_type": "code",
      "metadata": {
        "colab_type": "code",
        "outputId": "3b566a3a-03a1-4455-a0e4-2ff7e8ae07ed",
        "id": "BzRJy2m6SnpN",
        "colab": {
          "base_uri": "https://localhost:8080/",
          "height": 392
        }
      },
      "source": [
        "plot_graphs([Baseline_Model_Metrics['Test Loss'], Baseline_l1_Model_Metrics['Test Loss'], Baseline_l2_Model_Metrics['Test Loss'], Baseline_l1l2_Model_Metrics['Test Loss'] ],\n",
        "            ['Base Run', 'Base+L1', 'Base+L2', 'Base+L1+L2'],\n",
        "            xlabel=\"Epochs\",\n",
        "            ylabel=\"Validation Loss\")"
      ],
      "execution_count": 0,
      "outputs": [
        {
          "output_type": "display_data",
          "data": {
            "image/png": "[encoded data removed]",
            "text/plain": [
              "<Figure size 1080x432 with 1 Axes>"
            ]
          },
          "metadata": {
            "tags": []
          }
        }
      ]
    },
    {
      "cell_type": "markdown",
      "metadata": {
        "id": "3wruFSBInOtL",
        "colab_type": "text"
      },
      "source": [
        "# Train Accuracy for all models"
      ]
    },
    {
      "cell_type": "code",
      "metadata": {
        "colab_type": "code",
        "outputId": "3bcdba4d-8d41-44fa-f962-af36308922d4",
        "id": "yc9n3Z58SnpQ",
        "colab": {
          "base_uri": "https://localhost:8080/",
          "height": 388
        }
      },
      "source": [
        "plot_graphs([Baseline_Model_Metrics['Train Accuracy'], Baseline_l1_Model_Metrics['Train Accuracy'], Baseline_l2_Model_Metrics['Train Accuracy'], Baseline_l1l2_Model_Metrics['Train Accuracy'] ],\n",
        "            ['Base Run', 'Base+L1', 'Base+L2', 'Base+L1+L2'],\n",
        "            xlabel=\"Epochs\",\n",
        "            ylabel=\"Train Acc\")"
      ],
      "execution_count": 0,
      "outputs": [
        {
          "output_type": "display_data",
          "data": {
            "image/png": "[encoded data removed]",
            "text/plain": [
              "<Figure size 1080x432 with 1 Axes>"
            ]
          },
          "metadata": {
            "tags": []
          }
        }
      ]
    },
    {
      "cell_type": "markdown",
      "metadata": {
        "id": "QVOpqVftnFnR",
        "colab_type": "text"
      },
      "source": [
        "# Train Loss for all Models"
      ]
    },
    {
      "cell_type": "code",
      "metadata": {
        "colab_type": "code",
        "outputId": "1fb22332-6ce1-4848-a90f-31c02e0112c4",
        "id": "9AfOEvF2SnpT",
        "colab": {
          "base_uri": "https://localhost:8080/",
          "height": 388
        }
      },
      "source": [
        "plot_graphs([Baseline_Model_Metrics['Train Loss'], Baseline_l1_Model_Metrics['Train Loss'], Baseline_l2_Model_Metrics['Train Loss'], Baseline_l1l2_Model_Metrics['Train Loss'] ],\n",
        "            ['Base Run', 'Base+L1', 'Base+L2', 'Base+L1+L2'],\n",
        "            xlabel=\"Epochs\",\n",
        "            ylabel=\"Train Loss\")"
      ],
      "execution_count": 0,
      "outputs": [
        {
          "output_type": "display_data",
          "data": {
            "image/png": "[encoded data removed]",
            "text/plain": [
              "<Figure size 1080x432 with 1 Axes>"
            ]
          },
          "metadata": {
            "tags": []
          }
        }
      ]
    },
    {
      "cell_type": "markdown",
      "metadata": {
        "colab_type": "text",
        "id": "jCc6UxnjtgzA"
      },
      "source": [
        "# Misclassified images"
      ]
    },
    {
      "cell_type": "code",
      "metadata": {
        "id": "yzzeadMZAxd3",
        "colab_type": "code",
        "colab": {}
      },
      "source": [
        "def plot_misclassified(args, model, device, test_loader,epoch_number):\n",
        "    model.eval()\n",
        "    test_loss = 0\n",
        "    correct = 0\n",
        "    preds = np.array([])\n",
        "    actuals = np.array([])\n",
        "    error_images = []\n",
        "    total_misclassified = 0\n",
        "    total_rounds = 0\n",
        "    with torch.no_grad():\n",
        "        for data, target in test_loader:\n",
        "            #print(len(data))\n",
        "            data, target = data.to(device), target.to(device)\n",
        "            output = model(data)\n",
        "            test_loss += F.nll_loss(output, target, reduction='sum').item()  # sum up batch loss\n",
        "            pred = output.argmax(dim=1, keepdim=True)  # get the index of the max log-probability\n",
        "            correct += pred.eq(target.view_as(pred)).sum().item()\n",
        "            orig_labels = target.cpu().numpy()\n",
        "            pred_labels = pred.squeeze().cpu().numpy()\n",
        "            mislabeled_index = np.where(orig_labels != pred_labels)[0]\n",
        "            total_rounds+=1\n",
        "            if (mislabeled_index.shape[0] > 0):\n",
        "                for iCount in range(len(mislabeled_index)):            \n",
        "                    offset = mislabeled_index[iCount]\n",
        "                    error_images.append(data[offset].cpu().numpy().squeeze())\n",
        "                    preds=np.append(preds, pred_labels[offset])\n",
        "                    actuals = np.append(actuals, orig_labels[offset])\n",
        "                    total_misclassified += 1\n",
        "    test_loss /= len(test_loader.dataset)\n",
        "    test_accuracy = (100. * correct) / len(test_loader.dataset)\n",
        "    print((total_misclassified))\n",
        "    print(preds.shape)\n",
        "\n",
        "    fig = plt.figure(figsize=(10,10))\n",
        "    for idx in np.arange(25):\n",
        "        ax = fig.add_subplot(5, 5, idx+1, xticks=[], yticks=[])\n",
        "        plt.imshow(error_images[idx], cmap='gray_r')\n",
        "        ax.set(ylabel=\"Pred=\"+str(np.int(preds[idx])), xlabel=\"Actual=\"+str(np.int(actuals[idx])))\n",
        "\n",
        "    return test_accuracy, test_loss, None"
      ],
      "execution_count": 0,
      "outputs": []
    },
    {
      "cell_type": "code",
      "metadata": {
        "id": "jatKB_vVJZHR",
        "colab_type": "code",
        "outputId": "cc838a22-fc92-43ef-a5ab-d3e13e29d410",
        "colab": {
          "base_uri": "https://localhost:8080/",
          "height": 34
        }
      },
      "source": [
        "kwargs_2 = {'num_workers': 4, 'pin_memory': True} if use_cuda else {}\n",
        "train_loader_2 = torch.utils.data.DataLoader(\n",
        "    datasets.MNIST('../data', train=True, download=True,\n",
        "                    transform=train_transforms),\n",
        "    batch_size=config['batch_size'], shuffle=True, **kwargs_2)\n",
        "test_loader_2 = torch.utils.data.DataLoader(\n",
        "        datasets.MNIST('../data', train=False, transform=test_transforms),\n",
        "        batch_size=config['batch_size'], shuffle=False, **kwargs_2)\n",
        "\n",
        "len(train_loader_2),len(test_loader_2)"
      ],
      "execution_count": 0,
      "outputs": [
        {
          "output_type": "execute_result",
          "data": {
            "text/plain": [
              "(732, 122)"
            ]
          },
          "metadata": {
            "tags": []
          },
          "execution_count": 25
        }
      ]
    },
    {
      "cell_type": "code",
      "metadata": {
        "id": "PbXSBpZpROMk",
        "colab_type": "code",
        "colab": {}
      },
      "source": [
        "BASE_MODEL=\"/content/EVA4/model-baseline.h5\"\n",
        "L2_MODEL=\"/content/EVA4/model-baseline_l2.h5\"\n",
        "L1_MODEL=\"/content/EVA4/model-baseline_l1.h5\"\n",
        "L1L2_MODEL=\"/content/EVA4/model-baseline_l1l2.h5\""
      ],
      "execution_count": 0,
      "outputs": []
    },
    {
      "cell_type": "markdown",
      "metadata": {
        "id": "KmdgS7vbR9KR",
        "colab_type": "text"
      },
      "source": [
        "# Misclassified images with L1 & L2 Model "
      ]
    },
    {
      "cell_type": "code",
      "metadata": {
        "id": "mzcejqwdMIAG",
        "colab_type": "code",
        "colab": {}
      },
      "source": [
        "my_model = model_builder(MNISTDigitBuilder, \n",
        "                      weights_path=L1L2_MODEL,\n",
        "                      local_device=device)"
      ],
      "execution_count": 0,
      "outputs": []
    },
    {
      "cell_type": "code",
      "metadata": {
        "id": "o4w8QZFRMYaQ",
        "colab_type": "code",
        "outputId": "64fc8e08-5103-4cb5-ff8e-5097741222c9",
        "colab": {
          "base_uri": "https://localhost:8080/",
          "height": 657
        }
      },
      "source": [
        "type(my_model)\n",
        "epoch_test_acc,epoch_test_loss,preds = plot_misclassified(config, my_model, device, test_loader_2,1)\n",
        "print(epoch_test_acc,epoch_test_loss)\n",
        "#print(preds)"
      ],
      "execution_count": 0,
      "outputs": [
        {
          "output_type": "stream",
          "text": [
            "/usr/local/lib/python3.6/dist-packages/ipykernel_launcher.py:36: UserWarning: Implicit dimension choice for log_softmax has been deprecated. Change the call to include dim=X as an argument.\n"
          ],
          "name": "stderr"
        },
        {
          "output_type": "stream",
          "text": [
            "56\n",
            "(56,)\n",
            "99.44 0.021260716581344603\n"
          ],
          "name": "stdout"
        },
        {
          "output_type": "display_data",
          "data": {
            "image/png": "[encoded data removed]",
            "text/plain": [
              "<Figure size 720x720 with 25 Axes>"
            ]
          },
          "metadata": {
            "tags": []
          }
        }
      ]
    },
    {
      "cell_type": "markdown",
      "metadata": {
        "colab_type": "text",
        "id": "EikgCIplSMaV"
      },
      "source": [
        "# Misclassified images with L1 Model "
      ]
    },
    {
      "cell_type": "code",
      "metadata": {
        "id": "S6BJp3j6uLEh",
        "colab_type": "code",
        "colab": {}
      },
      "source": [
        "my_model = model_builder(MNISTDigitBuilder, \n",
        "                      weights_path=L1_MODEL,\n",
        "                      local_device=device)\n"
      ],
      "execution_count": 0,
      "outputs": []
    },
    {
      "cell_type": "code",
      "metadata": {
        "id": "XfsP6MVARWqW",
        "colab_type": "code",
        "outputId": "e25dcbc1-5ded-42d5-a860-dd0a72887633",
        "colab": {
          "base_uri": "https://localhost:8080/",
          "height": 657
        }
      },
      "source": [
        "epoch_test_acc,epoch_test_loss,preds = plot_misclassified(config, my_model, device, test_loader_2,1)\n",
        "print(epoch_test_acc,epoch_test_loss)\n",
        "#print(preds)"
      ],
      "execution_count": 0,
      "outputs": [
        {
          "output_type": "stream",
          "text": [
            "/usr/local/lib/python3.6/dist-packages/ipykernel_launcher.py:36: UserWarning: Implicit dimension choice for log_softmax has been deprecated. Change the call to include dim=X as an argument.\n"
          ],
          "name": "stderr"
        },
        {
          "output_type": "stream",
          "text": [
            "99\n",
            "(99,)\n",
            "99.01 0.02823136806488037\n"
          ],
          "name": "stdout"
        },
        {
          "output_type": "display_data",
          "data": {
            "image/png": "[encoded data removed]",
            "text/plain": [
              "<Figure size 720x720 with 25 Axes>"
            ]
          },
          "metadata": {
            "tags": []
          }
        }
      ]
    },
    {
      "cell_type": "markdown",
      "metadata": {
        "colab_type": "text",
        "id": "OWsG-F4GSUw8"
      },
      "source": [
        "# Misclassified images with L2 Model "
      ]
    },
    {
      "cell_type": "code",
      "metadata": {
        "id": "W-6bOwplRaqR",
        "colab_type": "code",
        "colab": {}
      },
      "source": [
        "my_model = model_builder(MNISTDigitBuilder, \n",
        "                      weights_path=L2_MODEL,\n",
        "                      local_device=device)"
      ],
      "execution_count": 0,
      "outputs": []
    },
    {
      "cell_type": "code",
      "metadata": {
        "id": "uNwJ5kkTR0Ko",
        "colab_type": "code",
        "outputId": "a80c534c-028d-4609-9a39-29546ba1bb0e",
        "colab": {
          "base_uri": "https://localhost:8080/",
          "height": 657
        }
      },
      "source": [
        "epoch_test_acc,epoch_test_loss,preds = plot_misclassified(config, my_model, device, test_loader_2,1)\n",
        "print(epoch_test_acc,epoch_test_loss)\n",
        "#print(preds)"
      ],
      "execution_count": 0,
      "outputs": [
        {
          "output_type": "stream",
          "text": [
            "/usr/local/lib/python3.6/dist-packages/ipykernel_launcher.py:36: UserWarning: Implicit dimension choice for log_softmax has been deprecated. Change the call to include dim=X as an argument.\n"
          ],
          "name": "stderr"
        },
        {
          "output_type": "stream",
          "text": [
            "71\n",
            "(71,)\n",
            "99.29 0.024184469652175904\n"
          ],
          "name": "stdout"
        },
        {
          "output_type": "display_data",
          "data": {
            "image/png": "[encoded data removed]",
            "text/plain": [
              "<Figure size 720x720 with 25 Axes>"
            ]
          },
          "metadata": {
            "tags": []
          }
        }
      ]
    },
    {
      "cell_type": "code",
      "metadata": {
        "id": "VQ8j5RH5vVs-",
        "colab_type": "code",
        "colab": {}
      },
      "source": [
        ""
      ],
      "execution_count": 0,
      "outputs": []
    }
  ]
}
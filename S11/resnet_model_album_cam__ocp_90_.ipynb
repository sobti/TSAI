{
  "nbformat": 4,
  "nbformat_minor": 0,
  "metadata": {
    "colab": {
      "name": "resnet_model_album_cam._ocp_90%.ipynb",
      "provenance": [],
      "collapsed_sections": [],
      "include_colab_link": true
    },
    "kernelspec": {
      "name": "python3",
      "display_name": "Python 3"
    },
    "accelerator": "GPU"
  },
  "cells": [
    {
      "cell_type": "markdown",
      "metadata": {
        "id": "view-in-github",
        "colab_type": "text"
      },
      "source": [
        "<a href=\"https://colab.research.google.com/github/sobti/TSAI/blob/master/S11/resnet_model_album_cam__ocp_90_.ipynb\" target=\"_parent\"><img src=\"https://colab.research.google.com/assets/colab-badge.svg\" alt=\"Open In Colab\"/></a>"
      ]
    },
    {
      "cell_type": "markdown",
      "metadata": {
        "id": "n6_D66FGX5v5",
        "colab_type": "text"
      },
      "source": [
        ""
      ]
    },
    {
      "cell_type": "code",
      "metadata": {
        "id": "7JPHlUeRdvgX",
        "colab_type": "code",
        "outputId": "05f800ee-81ff-42f5-bb1c-cd3c4fa65902",
        "colab": {
          "base_uri": "https://localhost:8080/",
          "height": 121
        }
      },
      "source": [
        "#Mounting Google Colab and importing generic Packages\n",
        "import torchvision\n",
        "from torchvision import datasets, transforms\n",
        "from torch.utils.tensorboard import SummaryWriter\n",
        "from albumentations.pytorch import ToTensor\n",
        "from torch.utils.data import DataLoader, Dataset\n",
        "import matplotlib.pyplot as plt\n",
        "from google.colab import drive\n",
        "import os\n",
        "import sys\n",
        "from tqdm import tqdm\n",
        "import torch.optim as optim\n",
        "import torch.nn as nn\n",
        "import torch.nn.functional as F\n",
        "from torch.optim.lr_scheduler import StepLR\n",
        "\n",
        "import torchvision\n",
        "import torch\n",
        "import albumentations\n",
        "from albumentations import (\n",
        "    HorizontalFlip, IAAPerspective, ShiftScaleRotate, CLAHE, RandomRotate90,PadIfNeeded,\n",
        "    Transpose, RandomCrop ,ShiftScaleRotate, Blur, OpticalDistortion, GridDistortion, HueSaturationValue,\n",
        "    IAAAdditiveGaussianNoise, GaussNoise, MotionBlur, MedianBlur, IAAPiecewiseAffine,\n",
        "    IAASharpen, IAAEmboss, RandomBrightnessContrast, Flip, OneOf, Compose,Cutout)\n",
        "\n",
        "drive.mount('/content/gdrive/')\n",
        "sys.path.append('/content/gdrive/My Drive/Colab Notebooks\\resnet')\n",
        "os.chdir('/content/gdrive/My Drive/Colab Notebooks/resnet')\n"
      ],
      "execution_count": 0,
      "outputs": [
        {
          "output_type": "stream",
          "text": [
            "Go to this URL in a browser: https://accounts.google.com/o/oauth2/auth?client_id=947318989803-6bn6qk8qdgf4n4g3pfee6491hc0brc4i.apps.googleusercontent.com&redirect_uri=urn%3aietf%3awg%3aoauth%3a2.0%3aoob&response_type=code&scope=email%20https%3a%2f%2fwww.googleapis.com%2fauth%2fdocs.test%20https%3a%2f%2fwww.googleapis.com%2fauth%2fdrive%20https%3a%2f%2fwww.googleapis.com%2fauth%2fdrive.photos.readonly%20https%3a%2f%2fwww.googleapis.com%2fauth%2fpeopleapi.readonly\n",
            "\n",
            "Enter your authorization code:\n",
            "··········\n",
            "Mounted at /content/gdrive/\n"
          ],
          "name": "stdout"
        }
      ]
    },
    {
      "cell_type": "code",
      "metadata": {
        "id": "ujhqDPfxoh2p",
        "colab_type": "code",
        "colab": {}
      },
      "source": [
        "#importing self-created packages:\n",
        "import ocp_train as t                                                         #import train - test module .This is class to train and evaluate the model\n",
        "import load as ld                                                               #dataloader\n",
        "import mod_summ as m                                                            #Getting model summary package\n",
        "import resnet_s11 as bb                                                         #Getting Classes for Resnet and Basic Block\n",
        "import s11_album as al                                                          #Getting albumentation module\n",
        "import override_album as oa                                                     # overriding the albumentation class\n",
        "import GradCm as gd                                                             #Grad Cam Module\n",
        "import plot_cam   as pt                                                         #Plotting Image with Gradcam\n",
        "import lr_update  as lr                                                         #exponential LR update\n",
        "torch.cuda.empty_cache()\n"
      ],
      "execution_count": 0,
      "outputs": []
    },
    {
      "cell_type": "code",
      "metadata": {
        "id": "EagkfzmSrVmD",
        "colab_type": "code",
        "outputId": "ecec3172-e618-47ed-d8c9-5882b4f5bb96",
        "colab": {
          "base_uri": "https://localhost:8080/",
          "height": 722
        }
      },
      "source": [
        "net=bb.Net().to('cuda') \n",
        "m.summ_print(net,(3,32,32))# Model summary."
      ],
      "execution_count": 0,
      "outputs": [
        {
          "output_type": "stream",
          "text": [
            "----------------------------------------------------------------\n",
            "        Layer (type)               Output Shape         Param #\n",
            "================================================================\n",
            "            Conv2d-1           [-1, 64, 32, 32]           1,728\n",
            "       BatchNorm2d-2           [-1, 64, 32, 32]             128\n",
            "              ReLU-3           [-1, 64, 32, 32]               0\n",
            "            Conv2d-4          [-1, 128, 32, 32]          73,728\n",
            "       BatchNorm2d-5          [-1, 128, 32, 32]             256\n",
            "              ReLU-6          [-1, 128, 32, 32]               0\n",
            "         MaxPool2d-7          [-1, 128, 16, 16]               0\n",
            "            Conv2d-8          [-1, 128, 16, 16]         147,456\n",
            "              ReLU-9          [-1, 128, 16, 16]               0\n",
            "      BatchNorm2d-10          [-1, 128, 16, 16]             256\n",
            "           Conv2d-11          [-1, 128, 16, 16]         147,456\n",
            "             ReLU-12          [-1, 128, 16, 16]               0\n",
            "      BatchNorm2d-13          [-1, 128, 16, 16]             256\n",
            "           Conv2d-14          [-1, 256, 16, 16]         294,912\n",
            "             ReLU-15          [-1, 256, 16, 16]               0\n",
            "      BatchNorm2d-16          [-1, 256, 16, 16]             512\n",
            "        MaxPool2d-17            [-1, 256, 8, 8]               0\n",
            "           Conv2d-18            [-1, 512, 8, 8]       1,179,648\n",
            "      BatchNorm2d-19            [-1, 512, 8, 8]           1,024\n",
            "             ReLU-20            [-1, 512, 8, 8]               0\n",
            "        MaxPool2d-21            [-1, 512, 4, 4]               0\n",
            "           Conv2d-22            [-1, 512, 4, 4]       2,359,296\n",
            "             ReLU-23            [-1, 512, 4, 4]               0\n",
            "      BatchNorm2d-24            [-1, 512, 4, 4]           1,024\n",
            "           Conv2d-25            [-1, 512, 4, 4]       2,359,296\n",
            "             ReLU-26            [-1, 512, 4, 4]               0\n",
            "      BatchNorm2d-27            [-1, 512, 4, 4]           1,024\n",
            "        MaxPool2d-28            [-1, 512, 1, 1]               0\n",
            "           Linear-29                   [-1, 10]           5,130\n",
            "================================================================\n",
            "Total params: 6,573,130\n",
            "Trainable params: 6,573,130\n",
            "Non-trainable params: 0\n",
            "----------------------------------------------------------------\n",
            "Input size (MB): 0.01\n",
            "Forward/backward pass size (MB): 9.07\n",
            "Params size (MB): 25.07\n",
            "Estimated Total Size (MB): 34.15\n",
            "----------------------------------------------------------------\n"
          ],
          "name": "stdout"
        }
      ]
    },
    {
      "cell_type": "code",
      "metadata": {
        "id": "tLrJ2J2m-qYL",
        "colab_type": "code",
        "colab": {}
      },
      "source": [
        "train_transforms,test_transforms=al.album_transform(albumentations)             #Albumentation class "
      ],
      "execution_count": 0,
      "outputs": []
    },
    {
      "cell_type": "code",
      "metadata": {
        "id": "3KaaOMWZATa-",
        "colab_type": "code",
        "outputId": "8a62bfed-670a-4255-f9f5-8fe4c3420caf",
        "colab": {
          "base_uri": "https://localhost:8080/",
          "height": 50
        }
      },
      "source": [
        "trainset = torchvision.datasets.CIFAR10(root='./data', train=True,\n",
        "                                        download=True, transform=None)\n",
        "\n",
        "testset = torchvision.datasets.CIFAR10(root='./data', train=False,\n",
        "                                       download=True, transform=None)"
      ],
      "execution_count": 0,
      "outputs": [
        {
          "output_type": "stream",
          "text": [
            "Files already downloaded and verified\n",
            "Files already downloaded and verified\n"
          ],
          "name": "stdout"
        }
      ]
    },
    {
      "cell_type": "code",
      "metadata": {
        "id": "oOVIo-8V-4v2",
        "colab_type": "code",
        "colab": {}
      },
      "source": [
        "# Initialize the dataset, pass the augmentation pipeline as an argument to init function\n",
        "train_ds = oa.PyTorchImageDataset(image=trainset, augmentations=train_transforms)\n",
        "test_ds =  oa.PyTorchImageDataset(image=testset, augmentations=test_transforms)"
      ],
      "execution_count": 0,
      "outputs": []
    },
    {
      "cell_type": "code",
      "metadata": {
        "id": "n3xgIyJXvgJ9",
        "colab_type": "code",
        "colab": {}
      },
      "source": [
        "batch_size=512\n",
        "trainloader,testloader=ld.load_test_train(batch_size,train_ds,test_ds,torchvision,torch)"
      ],
      "execution_count": 0,
      "outputs": []
    },
    {
      "cell_type": "code",
      "metadata": {
        "id": "yscS6l_m5WRg",
        "colab_type": "code",
        "colab": {}
      },
      "source": [
        "def range_test(end_lr=3,num_iter=100,step_mode=\"exp\", smooth_f=0.05, diverge_th=5):\n",
        "        if step_mode.lower() == \"exp\":\n",
        "            lr_schedule = lr.ExponentialLR(optimizer, end_lr, num_iter)\n",
        "        elif step_mode.lower() == \"linear\":\n",
        "            lr_schedule = lr.LinearLR(optimizer, end_lr, num_iter)\n",
        "        else:\n",
        "            raise ValueError(\"expected one of (exp, linear), got {}\".format(step_mode))\n",
        "\n",
        "        if smooth_f < 0 or smooth_f >= 1:\n",
        "            raise ValueError(\"smooth_f is outside the range [0, 1[\")\n",
        "        return lr_schedule"
      ],
      "execution_count": 0,
      "outputs": []
    },
    {
      "cell_type": "code",
      "metadata": {
        "id": "vRhNBCU8U5H8",
        "colab_type": "code",
        "outputId": "a309fc46-9aab-433d-b076-f2c72e432469",
        "colab": {
          "base_uri": "https://localhost:8080/",
          "height": 67
        }
      },
      "source": [
        "train_losses = []\n",
        "test_losses = []\n",
        "train_acc = 0\n",
        "test_acc = []\n",
        "train_acc_graph=[]\n",
        "history = {\"lr\": [], \"loss\": []}\n",
        "getlr=0.0001\n",
        "optimizer = optim.SGD(net.parameters(),lr=getlr,momentum=0.9)                               # start LR is 0.00001\n",
        "lr_schedule=range_test(end_lr=3,num_iter=100,step_mode=\"linear\",smooth_f=0.04,diverge_th=3)\n",
        "criterion=nn.CrossEntropyLoss()\n",
        "best_loss = None\n",
        "diverge_th=3\n",
        "num_iter=1000\n",
        "smooth_f=0.05\n",
        "b=0\n",
        "device='cuda'\n",
        "lr2=[]\n",
        "#EPOCHS =1\n",
        "#for epoch in range(EPOCHS):\n",
        "#print(\"EPOCH:\", epoch)\n",
        "best_lrn,best_loss,history,train_acc1,b=t.train(net, device, trainloader,lr_schedule ,optimizer,train_losses,train_acc,tqdm,criterion, smooth_f, diverge_th)\n",
        "lr2.append(max(history[\"lr\"]))\n",
        "train_acc_graph.append(train_acc1) \n",
        "print(lr2)\n",
        " \n",
        " \n",
        "\n",
        "   "
      ],
      "execution_count": 0,
      "outputs": [
        {
          "output_type": "stream",
          "text": [
            "  4%|▍         | 4/98 [00:01<00:33,  2.77it/s]"
          ],
          "name": "stderr"
        },
        {
          "output_type": "stream",
          "text": [
            "Stopping early, the loss has diverged\n"
          ],
          "name": "stdout"
        },
        {
          "output_type": "stream",
          "text": [
            "\r  4%|▍         | 4/98 [00:01<00:45,  2.08it/s]"
          ],
          "name": "stderr"
        },
        {
          "output_type": "stream",
          "text": [
            "[0.18009399999999998]\n"
          ],
          "name": "stdout"
        },
        {
          "output_type": "stream",
          "text": [
            "\n"
          ],
          "name": "stderr"
        }
      ]
    },
    {
      "cell_type": "code",
      "metadata": {
        "id": "rsWQF8UN54Kk",
        "colab_type": "code",
        "outputId": "21ab4e7d-0b33-4823-ac75-5e9635038c6f",
        "colab": {
          "base_uri": "https://localhost:8080/",
          "height": 34
        }
      },
      "source": [
        "torch.cuda.empty_cache()\n",
        "best_lrn\n"
      ],
      "execution_count": 0,
      "outputs": [
        {
          "output_type": "execute_result",
          "data": {
            "text/plain": [
              "0.060098"
            ]
          },
          "metadata": {
            "tags": []
          },
          "execution_count": 18
        }
      ]
    },
    {
      "cell_type": "code",
      "metadata": {
        "id": "DHjysmVDxN13",
        "colab_type": "code",
        "outputId": "95521655-288f-4bfa-9a15-659c11ccb1d1",
        "colab": {
          "base_uri": "https://localhost:8080/",
          "height": 265
        }
      },
      "source": [
        "h=[1,2,3,4,5,6]\n",
        "#max_lr1=lr2[train_acc_graph.index(max(train_acc_graph))]  \n",
        "plt.plot(history[\"lr\"],history[\"loss\"])\n",
        "net1=bb.Net().to('cuda')      \n",
        "                                    # Creating new model for final training."
      ],
      "execution_count": 0,
      "outputs": [
        {
          "output_type": "display_data",
          "data": {
            "image/png": "[encoded data removed]",
            "text/plain": [
              "<Figure size 432x288 with 1 Axes>"
            ]
          },
          "metadata": {
            "tags": [],
            "needs_background": "light"
          }
        }
      ]
    },
    {
      "cell_type": "code",
      "metadata": {
        "id": "NJVxZnxUXgoE",
        "colab_type": "code",
        "colab": {}
      },
      "source": [
        "net1=bb.Net().to('cuda') \n"
      ],
      "execution_count": 0,
      "outputs": []
    },
    {
      "cell_type": "code",
      "metadata": {
        "id": "kVm-MiLRaJCX",
        "colab_type": "code",
        "outputId": "08932e0c-c76d-4684-d96c-d9a2c2aa163a",
        "colab": {
          "base_uri": "https://localhost:8080/",
          "height": 34
        }
      },
      "source": [
        "len(trainloader)"
      ],
      "execution_count": 0,
      "outputs": [
        {
          "output_type": "execute_result",
          "data": {
            "text/plain": [
              "98"
            ]
          },
          "metadata": {
            "tags": []
          },
          "execution_count": 26
        }
      ]
    },
    {
      "cell_type": "code",
      "metadata": {
        "id": "l-KKE22lb9-K",
        "colab_type": "code",
        "outputId": "d3eb1212-b0a0-408a-a8a0-9640e60c6b20",
        "colab": {
          "base_uri": "https://localhost:8080/",
          "height": 1000
        }
      },
      "source": [
        "import train_test_model_resnet18_missclass as t1                                   #import train - test module .This is class to train and evaluate the model\n",
        "train_losses = []\n",
        "test_acc = []\n",
        "max_lr=best_lrn\n",
        "test_losses = []\n",
        "train_acc = []\n",
        "train_loss_graph=[]\n",
        "train_acc_graph=[]\n",
        "test_acc_graph=[]\n",
        "test_loss_graph=[]\n",
        "EPOCHS = 24\n",
        "optimizer = optim.SGD(net1.parameters(),lr=0.0001,weight_decay=0.0022,momentum=0.90)\n",
        "criterion=nn.CrossEntropyLoss()\n",
        "scheduler=torch.optim.lr_scheduler.OneCycleLR(optimizer, max_lr,steps_per_epoch=len(trainloader),pct_start=0.208,epochs=24,div_factor=10,anneal_strategy='linear',cycle_momentum=True,\n",
        "                                              max_momentum=0.95,base_momentum=0.85)\n",
        "lr=[]\n",
        "device='cuda'\n",
        "for epoch in range(EPOCHS):\n",
        "    print(\"EPOCH:\", epoch)\n",
        "    train_loss,train_acc1=t1.train(net1, device, trainloader, optimizer, epoch,train_losses,train_acc,tqdm,criterion,scheduler)\n",
        "    train_loss_graph.append(train_loss)\n",
        "    train_acc_graph.append(train_acc1)\n",
        "    test_loss,test_acc1=t1.test(net1, device, testloader,test_losses,test_acc,tqdm,criterion,torch)\n",
        "    test_loss_graph.append(test_loss)    \n",
        "    test_acc_graph.append(test_acc1)\n",
        "    #scheduler.step(test_loss)\n",
        "    for param_group in optimizer.param_groups:\n",
        "       print(param_group['lr'])\n",
        "      "
      ],
      "execution_count": 0,
      "outputs": [
        {
          "output_type": "stream",
          "text": [
            "\r  0%|          | 0/98 [00:00<?, ?it/s]"
          ],
          "name": "stderr"
        },
        {
          "output_type": "stream",
          "text": [
            "EPOCH: 0\n"
          ],
          "name": "stdout"
        },
        {
          "output_type": "stream",
          "text": [
            "Loss=2.294288396835327 Batch_id=97 Accuracy=22.84: 100%|██████████| 98/98 [00:23<00:00,  4.14it/s]\n",
            "  0%|          | 0/98 [00:00<?, ?it/s]"
          ],
          "name": "stderr"
        },
        {
          "output_type": "stream",
          "text": [
            "\n",
            "Test set: Average loss: 0.0050, Accuracy: 3069/10000 (30.69%)\n",
            "\n",
            "0.016866968958002198\n",
            "EPOCH: 1\n"
          ],
          "name": "stdout"
        },
        {
          "output_type": "stream",
          "text": [
            "Loss=2.369321584701538 Batch_id=97 Accuracy=34.68: 100%|██████████| 98/98 [00:23<00:00,  4.16it/s]\n",
            "  0%|          | 0/98 [00:00<?, ?it/s]"
          ],
          "name": "stderr"
        },
        {
          "output_type": "stream",
          "text": [
            "\n",
            "Test set: Average loss: 0.0048, Accuracy: 3628/10000 (36.28%)\n",
            "\n",
            "0.027724137916004393\n",
            "EPOCH: 2\n"
          ],
          "name": "stdout"
        },
        {
          "output_type": "stream",
          "text": [
            "Loss=1.629914402961731 Batch_id=97 Accuracy=39.98: 100%|██████████| 98/98 [00:23<00:00,  4.10it/s]\n",
            "  0%|          | 0/98 [00:00<?, ?it/s]"
          ],
          "name": "stderr"
        },
        {
          "output_type": "stream",
          "text": [
            "\n",
            "Test set: Average loss: 0.0030, Accuracy: 4705/10000 (47.05%)\n",
            "\n",
            "0.03858130687400659\n",
            "EPOCH: 3\n"
          ],
          "name": "stdout"
        },
        {
          "output_type": "stream",
          "text": [
            "Loss=1.3543589115142822 Batch_id=97 Accuracy=50.37: 100%|██████████| 98/98 [00:23<00:00,  4.13it/s]\n",
            "  0%|          | 0/98 [00:00<?, ?it/s]"
          ],
          "name": "stderr"
        },
        {
          "output_type": "stream",
          "text": [
            "\n",
            "Test set: Average loss: 0.0024, Accuracy: 5612/10000 (56.12%)\n",
            "\n",
            "0.04943847583200879\n",
            "EPOCH: 4\n"
          ],
          "name": "stdout"
        },
        {
          "output_type": "stream",
          "text": [
            "Loss=1.0402330160140991 Batch_id=97 Accuracy=58.59: 100%|██████████| 98/98 [00:23<00:00,  4.19it/s]\n",
            "  0%|          | 0/98 [00:00<?, ?it/s]"
          ],
          "name": "stderr"
        },
        {
          "output_type": "stream",
          "text": [
            "\n",
            "Test set: Average loss: 0.0030, Accuracy: 5846/10000 (58.46%)\n",
            "\n",
            "0.06004044434145253\n",
            "EPOCH: 5\n"
          ],
          "name": "stdout"
        },
        {
          "output_type": "stream",
          "text": [
            "Loss=0.8168097734451294 Batch_id=97 Accuracy=65.44: 100%|██████████| 98/98 [00:24<00:00,  4.08it/s]\n",
            "  0%|          | 0/98 [00:00<?, ?it/s]"
          ],
          "name": "stderr"
        },
        {
          "output_type": "stream",
          "text": [
            "\n",
            "Test set: Average loss: 0.0018, Accuracy: 6789/10000 (67.89%)\n",
            "\n",
            "0.056878754578194954\n",
            "EPOCH: 6\n"
          ],
          "name": "stdout"
        },
        {
          "output_type": "stream",
          "text": [
            "Loss=0.7278291583061218 Batch_id=97 Accuracy=70.88: 100%|██████████| 98/98 [00:24<00:00,  4.07it/s]\n",
            "  0%|          | 0/98 [00:00<?, ?it/s]"
          ],
          "name": "stderr"
        },
        {
          "output_type": "stream",
          "text": [
            "\n",
            "Test set: Average loss: 0.0015, Accuracy: 7395/10000 (73.95%)\n",
            "\n",
            "0.05371706481493738\n",
            "EPOCH: 7\n"
          ],
          "name": "stdout"
        },
        {
          "output_type": "stream",
          "text": [
            "Loss=0.6229115724563599 Batch_id=97 Accuracy=75.52: 100%|██████████| 98/98 [00:23<00:00,  4.09it/s]\n",
            "  0%|          | 0/98 [00:00<?, ?it/s]"
          ],
          "name": "stderr"
        },
        {
          "output_type": "stream",
          "text": [
            "\n",
            "Test set: Average loss: 0.0017, Accuracy: 7111/10000 (71.11%)\n",
            "\n",
            "0.050555375051679806\n",
            "EPOCH: 8\n"
          ],
          "name": "stdout"
        },
        {
          "output_type": "stream",
          "text": [
            "Loss=0.5393973588943481 Batch_id=97 Accuracy=77.91: 100%|██████████| 98/98 [00:23<00:00,  4.12it/s]\n",
            "  0%|          | 0/98 [00:00<?, ?it/s]"
          ],
          "name": "stderr"
        },
        {
          "output_type": "stream",
          "text": [
            "\n",
            "Test set: Average loss: 0.0013, Accuracy: 7812/10000 (78.12%)\n",
            "\n",
            "0.04739368528842223\n",
            "EPOCH: 9\n"
          ],
          "name": "stdout"
        },
        {
          "output_type": "stream",
          "text": [
            "Loss=0.47088199853897095 Batch_id=97 Accuracy=80.84: 100%|██████████| 98/98 [00:23<00:00,  4.15it/s]\n",
            "  0%|          | 0/98 [00:00<?, ?it/s]"
          ],
          "name": "stderr"
        },
        {
          "output_type": "stream",
          "text": [
            "\n",
            "Test set: Average loss: 0.0011, Accuracy: 8089/10000 (80.89%)\n",
            "\n",
            "0.04423199552516466\n",
            "EPOCH: 10\n"
          ],
          "name": "stdout"
        },
        {
          "output_type": "stream",
          "text": [
            "Loss=0.5016626715660095 Batch_id=97 Accuracy=82.82: 100%|██████████| 98/98 [00:23<00:00,  4.13it/s]\n",
            "  0%|          | 0/98 [00:00<?, ?it/s]"
          ],
          "name": "stderr"
        },
        {
          "output_type": "stream",
          "text": [
            "\n",
            "Test set: Average loss: 0.0013, Accuracy: 7786/10000 (77.86%)\n",
            "\n",
            "0.04107030576190708\n",
            "EPOCH: 11\n"
          ],
          "name": "stdout"
        },
        {
          "output_type": "stream",
          "text": [
            "Loss=0.5007922053337097 Batch_id=97 Accuracy=84.73: 100%|██████████| 98/98 [00:24<00:00,  4.08it/s]\n",
            "  0%|          | 0/98 [00:00<?, ?it/s]"
          ],
          "name": "stderr"
        },
        {
          "output_type": "stream",
          "text": [
            "\n",
            "Test set: Average loss: 0.0011, Accuracy: 8140/10000 (81.40%)\n",
            "\n",
            "0.0379086159986495\n",
            "EPOCH: 12\n"
          ],
          "name": "stdout"
        },
        {
          "output_type": "stream",
          "text": [
            "Loss=0.45676812529563904 Batch_id=97 Accuracy=85.91: 100%|██████████| 98/98 [00:23<00:00,  4.12it/s]\n",
            "  0%|          | 0/98 [00:00<?, ?it/s]"
          ],
          "name": "stderr"
        },
        {
          "output_type": "stream",
          "text": [
            "\n",
            "Test set: Average loss: 0.0011, Accuracy: 8208/10000 (82.08%)\n",
            "\n",
            "0.034746926235391926\n",
            "EPOCH: 13\n"
          ],
          "name": "stdout"
        },
        {
          "output_type": "stream",
          "text": [
            "Loss=0.41906052827835083 Batch_id=97 Accuracy=87.30: 100%|██████████| 98/98 [00:24<00:00,  4.03it/s]\n",
            "  0%|          | 0/98 [00:00<?, ?it/s]"
          ],
          "name": "stderr"
        },
        {
          "output_type": "stream",
          "text": [
            "\n",
            "Test set: Average loss: 0.0010, Accuracy: 8363/10000 (83.63%)\n",
            "\n",
            "0.03158523647213435\n",
            "EPOCH: 14\n"
          ],
          "name": "stdout"
        },
        {
          "output_type": "stream",
          "text": [
            "Loss=0.29634565114974976 Batch_id=97 Accuracy=88.51: 100%|██████████| 98/98 [00:23<00:00,  4.11it/s]\n",
            "  0%|          | 0/98 [00:00<?, ?it/s]"
          ],
          "name": "stderr"
        },
        {
          "output_type": "stream",
          "text": [
            "\n",
            "Test set: Average loss: 0.0009, Accuracy: 8470/10000 (84.70%)\n",
            "\n",
            "0.028423546708876778\n",
            "EPOCH: 15\n"
          ],
          "name": "stdout"
        },
        {
          "output_type": "stream",
          "text": [
            "Loss=0.2580670416355133 Batch_id=97 Accuracy=89.50: 100%|██████████| 98/98 [00:23<00:00,  4.14it/s]\n",
            "  0%|          | 0/98 [00:00<?, ?it/s]"
          ],
          "name": "stderr"
        },
        {
          "output_type": "stream",
          "text": [
            "\n",
            "Test set: Average loss: 0.0008, Accuracy: 8605/10000 (86.05%)\n",
            "\n",
            "0.0252618569456192\n",
            "EPOCH: 16\n"
          ],
          "name": "stdout"
        },
        {
          "output_type": "stream",
          "text": [
            "Loss=0.29773351550102234 Batch_id=97 Accuracy=90.60: 100%|██████████| 98/98 [00:23<00:00,  4.09it/s]\n",
            "  0%|          | 0/98 [00:00<?, ?it/s]"
          ],
          "name": "stderr"
        },
        {
          "output_type": "stream",
          "text": [
            "\n",
            "Test set: Average loss: 0.0008, Accuracy: 8582/10000 (85.82%)\n",
            "\n",
            "0.022100167182361623\n",
            "EPOCH: 17\n"
          ],
          "name": "stdout"
        },
        {
          "output_type": "stream",
          "text": [
            "Loss=0.2694152295589447 Batch_id=97 Accuracy=91.32: 100%|██████████| 98/98 [00:23<00:00,  4.09it/s]\n",
            "  0%|          | 0/98 [00:00<?, ?it/s]"
          ],
          "name": "stderr"
        },
        {
          "output_type": "stream",
          "text": [
            "\n",
            "Test set: Average loss: 0.0008, Accuracy: 8612/10000 (86.12%)\n",
            "\n",
            "0.018938477419104052\n",
            "EPOCH: 18\n"
          ],
          "name": "stdout"
        },
        {
          "output_type": "stream",
          "text": [
            "Loss=0.18985816836357117 Batch_id=97 Accuracy=92.94: 100%|██████████| 98/98 [00:23<00:00,  4.11it/s]\n",
            "  0%|          | 0/98 [00:00<?, ?it/s]"
          ],
          "name": "stderr"
        },
        {
          "output_type": "stream",
          "text": [
            "\n",
            "Test set: Average loss: 0.0008, Accuracy: 8726/10000 (87.26%)\n",
            "\n",
            "0.015776787655846475\n",
            "EPOCH: 19\n"
          ],
          "name": "stdout"
        },
        {
          "output_type": "stream",
          "text": [
            "Loss=0.1844872683286667 Batch_id=97 Accuracy=93.31: 100%|██████████| 98/98 [00:23<00:00,  4.08it/s]\n",
            "  0%|          | 0/98 [00:00<?, ?it/s]"
          ],
          "name": "stderr"
        },
        {
          "output_type": "stream",
          "text": [
            "\n",
            "Test set: Average loss: 0.0008, Accuracy: 8666/10000 (86.66%)\n",
            "\n",
            "0.012615097892588904\n",
            "EPOCH: 20\n"
          ],
          "name": "stdout"
        },
        {
          "output_type": "stream",
          "text": [
            "Loss=0.19104689359664917 Batch_id=97 Accuracy=94.43: 100%|██████████| 98/98 [00:23<00:00,  4.12it/s]\n",
            "  0%|          | 0/98 [00:00<?, ?it/s]"
          ],
          "name": "stderr"
        },
        {
          "output_type": "stream",
          "text": [
            "\n",
            "Test set: Average loss: 0.0007, Accuracy: 8823/10000 (88.23%)\n",
            "\n",
            "0.00945340812933132\n",
            "EPOCH: 21\n"
          ],
          "name": "stdout"
        },
        {
          "output_type": "stream",
          "text": [
            "Loss=0.10423426330089569 Batch_id=97 Accuracy=95.33: 100%|██████████| 98/98 [00:23<00:00,  4.12it/s]\n",
            "  0%|          | 0/98 [00:00<?, ?it/s]"
          ],
          "name": "stderr"
        },
        {
          "output_type": "stream",
          "text": [
            "\n",
            "Test set: Average loss: 0.0007, Accuracy: 8921/10000 (89.21%)\n",
            "\n",
            "0.006291718366073749\n",
            "EPOCH: 22\n"
          ],
          "name": "stdout"
        },
        {
          "output_type": "stream",
          "text": [
            "Loss=0.11768893897533417 Batch_id=97 Accuracy=96.55: 100%|██████████| 98/98 [00:24<00:00,  4.07it/s]\n",
            "  0%|          | 0/98 [00:00<?, ?it/s]"
          ],
          "name": "stderr"
        },
        {
          "output_type": "stream",
          "text": [
            "\n",
            "Test set: Average loss: 0.0006, Accuracy: 8979/10000 (89.79%)\n",
            "\n",
            "0.003130028602816172\n",
            "EPOCH: 23\n"
          ],
          "name": "stdout"
        },
        {
          "output_type": "stream",
          "text": [
            "Loss=0.09038981795310974 Batch_id=97 Accuracy=97.62: 100%|██████████| 98/98 [00:23<00:00,  4.10it/s]\n"
          ],
          "name": "stderr"
        },
        {
          "output_type": "stream",
          "text": [
            "\n",
            "Test set: Average loss: 0.0006, Accuracy: 9054/10000 (90.54%)\n",
            "\n",
            "-3.166116044139855e-05\n"
          ],
          "name": "stdout"
        }
      ]
    },
    {
      "cell_type": "code",
      "metadata": {
        "id": "hq9ekqkAXrld",
        "colab_type": "code",
        "outputId": "9225cd45-76d0-4acf-e2ed-3d0fbb320a08",
        "colab": {
          "base_uri": "https://localhost:8080/",
          "height": 312
        }
      },
      "source": [
        "plt.plot(test_acc_graph)                \n",
        "plt.plot(train_acc_graph)\n",
        "plt.plot(test_loss_graph)\n",
        "plt.plot(train_loss_graph)         \n",
        "plt.title(\"Model Graph\")            \n",
        "plt.ylabel('Accuracy')\n",
        "plt.xlabel('Epoch')\n",
        "plt.legend(['test','train','test_loss','train_loss'] ,loc='upper left')\n",
        "plt.show()  \n",
        "plt.savefig('Upload_graph.png')           "
      ],
      "execution_count": 0,
      "outputs": [
        {
          "output_type": "display_data",
          "data": {
            "image/png": "[encoded data removed]",
            "text/plain": [
              "<Figure size 432x288 with 1 Axes>"
            ]
          },
          "metadata": {
            "tags": [],
            "needs_background": "light"
          }
        },
        {
          "output_type": "display_data",
          "data": {
            "text/plain": [
              "<Figure size 432x288 with 0 Axes>"
            ]
          },
          "metadata": {
            "tags": []
          }
        }
      ]
    },
    {
      "cell_type": "code",
      "metadata": {
        "id": "zw9cR-0NdJeM",
        "colab_type": "code",
        "colab": {}
      },
      "source": [
        "cam2=[]\n",
        "data2=[]\n",
        "k=[]\n",
        "dat=[]\n",
        "number=0\n",
        "p=[]\n",
        "l=[]\n",
        "data2=[]\n",
        "for im in range(25):\n",
        "  \n",
        "  dat1,label = next(iter(testloader))\n",
        "  dat1=dat1.to('cuda')\n",
        "  output=net(dat1)\n",
        "  pred = output.argmax(dim=1, keepdim=True)\n",
        "  \n",
        "  for i in range(label.size()[0]):\n",
        "   if pred[i].item() != label[i].item():\n",
        "    p.append(pred[i].item()) \n",
        "    l.append(label[i].item()) \n",
        "    label1=label[i]\n",
        "    data1=dat1[i]\n",
        "    data2.append(dat1[i].to('cpu'))\n",
        "    label1=label1.unsqueeze(0) \n",
        "    Gd1=gd.GradCm()\n",
        "    cam1=Gd1.img(data1,label1,net)\n",
        "    cam2.append(cam1) \n",
        "    number = len(cam2)\n",
        "    if number >= 25:\n",
        "        print(number)\n",
        "        break\n",
        "  else:\n",
        "   continue\n",
        "  break "
      ],
      "execution_count": 0,
      "outputs": []
    },
    {
      "cell_type": "code",
      "metadata": {
        "id": "48O3kCbid_NK",
        "colab_type": "code",
        "colab": {}
      },
      "source": [
        "plott=pt.Plot()\n",
        "#l=l.to('cpu')\n",
        "#data2=data2.to('cpu')\n",
        "plott.fig(data2,cam2,l,p)\n"
      ],
      "execution_count": 0,
      "outputs": []
    },
    {
      "cell_type": "markdown",
      "metadata": {
        "id": "PHAN47DumK_0",
        "colab_type": "text"
      },
      "source": [
        "fgfghfhfgfhhggdrfrrfdsvfgdffdv          "
      ]
    }
  ]
}
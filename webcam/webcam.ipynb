{
  "nbformat": 4,
  "nbformat_minor": 0,
  "metadata": {
    "colab": {
      "name": "webcam.ipynb",
      "provenance": [],
      "authorship_tag": "ABX9TyNFaQFI3P94aO9Yf+yUfw2D",
      "include_colab_link": true
    },
    "kernelspec": {
      "name": "python3",
      "display_name": "Python 3"
    },
    "accelerator": "GPU"
  },
  "cells": [
    {
      "cell_type": "markdown",
      "metadata": {
        "id": "view-in-github",
        "colab_type": "text"
      },
      "source": [
        "<a href=\"https://colab.research.google.com/github/sobti/TSAI/blob/master/webcam/webcam.ipynb\" target=\"_parent\"><img src=\"https://colab.research.google.com/assets/colab-badge.svg\" alt=\"Open In Colab\"/></a>"
      ]
    },
    {
      "cell_type": "code",
      "metadata": {
        "id": "N9V12g-wGY8s",
        "colab_type": "code",
        "colab": {}
      },
      "source": [
        "from IPython.display import display, Javascript\n",
        "from google.colab.output import eval_js\n",
        "from google.colab import output\n",
        "from base64 import b64decode\n",
        "import base64\n",
        "import time\n",
        "import sys\n",
        "import numpy as np\n",
        "import cv2\n",
        "import logging\n",
        "#from google.colab import output\n",
        "from PIL import Image\n",
        "from io import BytesIO\n",
        "from google.colab.patches import cv2_imshow"
      ],
      "execution_count": 9,
      "outputs": []
    },
    {
      "cell_type": "code",
      "metadata": {
        "id": "lp2KnycihZNj",
        "colab_type": "code",
        "colab": {}
      },
      "source": [
        "def data_uri_to_img(uri,i):\n",
        "    \n",
        "    \"\"\"convert base64 image to numpy array\"\"\"\n",
        "    try:\n",
        "        filename='image' + str(i) + \".jpg\"\n",
        "        print(filename)\n",
        "        image = base64.b64decode(uri.split(',')[1], validate=True)\n",
        "        with open(filename, 'wb') as f:\n",
        "         f.write(image)\n",
        "        # make the binary image, a PIL image\n",
        "        image = Image.open(BytesIO(image))\n",
        "        # convert to numpy array\n",
        "        image = np.array(image, dtype=np.uint8); \n",
        "        gray = cv2.cvtColor(image, cv2.COLOR_BGR2GRAY)\n",
        "        cv2_imshow(gray)\n",
        "        cv2.destroyAllWindows()\n",
        "        return image\n",
        "    except Exception as e:\n",
        "        logging.exception(e);print('\\n')\n",
        "        return None\n",
        "\n"
      ],
      "execution_count": 16,
      "outputs": []
    },
    {
      "cell_type": "code",
      "metadata": {
        "id": "y3ryNOei-GYG",
        "colab_type": "code",
        "colab": {}
      },
      "source": [
        "def take_photo(filename='photo.jpg', quality=0.8):\n",
        "  js = Javascript('''\n",
        "    async function takePhoto(quality) {\n",
        "      const div = document.createElement('div');\n",
        "      //const capture = document.createElement('button');\n",
        "      //capture.textContent = 'Capture';\n",
        "      //div.appendChild(capture);\n",
        "\n",
        "      const video = document.createElement('video');\n",
        "      video.style.display = 'block';\n",
        "      const stream = await navigator.mediaDevices.getUserMedia({video: true});\n",
        "\n",
        "      document.body.appendChild(div);\n",
        "      div.appendChild(video);\n",
        "      video.srcObject = stream;\n",
        "      await video.play();\n",
        "\n",
        "      // Resize the output to fit the video element.\n",
        "      google.colab.output.setIframeHeight(document.documentElement.scrollHeight, true);\n",
        "\n",
        "      // Wait for Capture to be clicked.\n",
        "      //await new Promise((resolve) => capture.onclick = resolve);\n",
        "      //await stream.getTracks().forEach(track => track.stop())\n",
        "      var i = 0;\n",
        "      while (video) {\n",
        "        const canvas = document.createElement('canvas');\n",
        "        canvas.width = video.videoWidth;\n",
        "        canvas.height = video.videoHeight;\n",
        "        canvas.getContext('2d').drawImage(video, 0, 0);\n",
        "        img= canvas.toDataURL('image/jpeg', quality);\n",
        "        google.colab.kernel.invokeFunction('notebook.data_uri_to_img', [img,i], {})\n",
        "        await new Promise(resolve => setTimeout(resolve, 250));\n",
        "        i=i+1\n",
        "        }\n",
        "      stream.getVideoTracks()[0].stop(); // stop video stream  \n",
        "    }\n",
        "    ''')\n",
        "  display(js)\n",
        "  data = eval_js('takePhoto({})'.format(quality))\n",
        "  print(\"ll\")\n",
        "  #binary = b64decode(data.split(',')[1])\n",
        "  #with open(filename, 'wb') as f:\n",
        "  #  f.write(binary)\n",
        "  #return filename"
      ],
      "execution_count": 5,
      "outputs": []
    },
    {
      "cell_type": "code",
      "metadata": {
        "id": "3ZzqRwr2GfJP",
        "colab_type": "code",
        "colab": {}
      },
      "source": [
        "# register this function, so JS code could call this\n",
        "output.register_callback('notebook.data_uri_to_img', data_uri_to_img)\n",
        "\n",
        "try:\n",
        "  take_photo()\n",
        "\n",
        "except Exception as err:\n",
        "  # Errors will be thrown if the user does not have a webcam or if they do not\n",
        "  # grant the page permission to access it.\n",
        "  print(str(err))"
      ],
      "execution_count": null,
      "outputs": []
    }
  ]
}